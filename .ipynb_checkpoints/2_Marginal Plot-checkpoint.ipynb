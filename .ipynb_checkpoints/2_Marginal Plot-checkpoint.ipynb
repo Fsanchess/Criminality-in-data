{
 "cells": [
  {
   "cell_type": "code",
   "execution_count": 31,
   "id": "8dcff5ad",
   "metadata": {},
   "outputs": [],
   "source": [
    "import pandas as pd\n",
    "import plotly.express as px\n",
    "import matplotlib.pyplot as plt"
   ]
  },
  {
   "cell_type": "code",
   "execution_count": 33,
   "id": "4238053a",
   "metadata": {
    "scrolled": true
   },
   "outputs": [
    {
     "data": {
      "application/vnd.plotly.v1+json": {
       "config": {
        "plotlyServerURL": "https://plot.ly"
       },
       "data": [
        {
         "hovertemplate": "Country=%{x}<br>VALUE=%{y}<extra></extra>",
         "legendgroup": "",
         "marker": {
          "color": "#636efa",
          "symbol": "circle"
         },
         "mode": "markers",
         "name": "",
         "orientation": "v",
         "showlegend": false,
         "type": "scatter",
         "x": [
          "Aruba",
          "Afghanistan",
          "Anguilla",
          "Albania",
          "Andorra",
          "United Arab Emirates",
          "Argentina",
          "Armenia",
          "American Samoa",
          "Antigua and Barbuda",
          "Australia",
          "Austria",
          "Azerbaijan",
          "Burkina Faso",
          "Bangladesh",
          "Bulgaria",
          "Bahrain",
          "Bahamas",
          "Bosnia and Herzegovina",
          "Belarus",
          "Belize",
          "Bermuda",
          "Brazil",
          "Barbados",
          "Brunei Darussalam",
          "Bhutan",
          "Botswana",
          "Canada",
          "Channel Island",
          "Switzerland",
          "Chile",
          "China",
          "Cameroon",
          "Colombia",
          "Costa Rica",
          "Cuba",
          "Cayman Islands",
          "Cyprus",
          "Czechia",
          "Germany",
          "Dominica",
          "Denmark",
          "Dominican Republic",
          "Algeria",
          "Ecuador",
          "Egypt",
          "Spain",
          "Estonia",
          "Finland",
          "Fiji",
          "France",
          "United Kingdom of Great Britain and Northern Ireland",
          "Georgia",
          "Ghana",
          "Gibraltar",
          "Greece",
          "Grenada",
          "Greenland",
          "Guatemala",
          "Guam",
          "Guyana",
          "China, Hong Kong Special Administrative Region",
          "Honduras",
          "Croatia",
          "Haiti",
          "Hungary",
          "India",
          "Ireland",
          "Iraq",
          "Iceland",
          "Israel",
          "Italy",
          "Jamaica",
          "Jordan",
          "Japan",
          "Kazakhstan",
          "Kenya",
          "Kyrgyzstan",
          "Cambodia",
          "Kiribati",
          "Saint Kitts and Nevis",
          "Republic of Korea",
          "Kuwait",
          "Lebanon",
          "Liberia",
          "Saint Lucia",
          "Liechtenstein",
          "Sri Lanka",
          "Lesotho",
          "Lithuania",
          "Luxembourg",
          "China, Macao Special Administrative Region",
          "Morocco",
          "Republic of Moldova",
          "Maldives",
          "Mexico",
          "North Macedonia",
          "Malta",
          "Myanmar",
          "Montenegro",
          "Mongolia",
          "Mozambique",
          "Mauritius",
          "Malawi",
          "Malaysia",
          "Namibia",
          "Nicaragua",
          "Netherlands",
          "Norway",
          "Nepal",
          "New Zealand",
          "Oman",
          "Pakistan",
          "Panama",
          "Philippines",
          "Papua New Guinea",
          "Poland",
          "Puerto Rico",
          "Paraguay",
          "State of Palestine",
          "Qatar",
          "Romania",
          "Russian Federation",
          "Rwanda",
          "Singapore",
          "Sierra Leone",
          "El Salvador",
          "San Marino",
          "Serbia",
          "Sao Tome and Principe",
          "Slovakia",
          "Slovenia",
          "Sweden",
          "Eswatini",
          "Seychelles",
          "Syrian Arab Republic",
          "Thailand",
          "Tajikistan",
          "Timor-Leste",
          "Tonga",
          "Trinidad and Tobago",
          "Tunisia",
          "Türkiye",
          "Tuvalu",
          "China, Taiwan Province of China",
          "United Republic of Tanzania",
          "Uganda",
          "Ukraine",
          "Uruguay",
          "United States of America",
          "Holy See",
          "Saint Vincent and the Grenadines",
          "Venezuela (Bolivarian Republic of)",
          "United States Virgin Islands",
          "Viet Nam",
          "Samoa",
          "Yemen",
          "South Africa",
          "Zambia",
          "Zimbabwe"
         ],
         "xaxis": "x",
         "y": [
          3.93449072935622,
          3.3681096075378,
          0,
          4.30796304921017,
          0,
          0.78362591429846,
          5.82945646358224,
          1.94625960183699,
          8.91519863062549,
          6.81585823014881,
          1.0426687589854,
          0.689659682673311,
          2.28066203411804,
          0.788198249930744,
          2.70234680592128,
          1.99326304028371,
          0.161178017897207,
          26.4836477562152,
          1.51127600811555,
          4.25663993369408,
          40.004341556448,
          10.7053281947758,
          26.717095855717,
          10.9878035380727,
          0.257311506455946,
          2.33405591814466,
          15.248305827671,
          1.62822732372785,
          0,
          0.665926122668202,
          3.17069021002804,
          0.979682650091451,
          4.91120598571296,
          34.1841604810009,
          11.5131589726941,
          4.49855257957249,
          15.8808582721626,
          0.719025504733435,
          0.977552917407029,
          0.981107785998394,
          21.1634239598177,
          0.756096160309668,
          25.5180004532178,
          0.705997765100146,
          17.4803815359739,
          2.22205456457373,
          0.854445688374367,
          5.25484891183339,
          2.21775606323326,
          2.32607906807968,
          1.26591266936055,
          1.19130534304701,
          4.56198147103654,
          1.70301280722129,
          2.97751972606819,
          1.61651193463414,
          9.41380251725079,
          19.4215897454006,
          40.7370396748692,
          1.88159735071093,
          18.6808641234005,
          0.50241705668585,
          74.9747489229593,
          1.43247839787919,
          6.80448649847155,
          1.39009486893823,
          3.76413425017975,
          1.2076419583122,
          9.04781817294795,
          0.624332744379444,
          2.04180361497246,
          0.891694785112682,
          51.486160292393,
          1.59745706868556,
          0.361748484929274,
          8.53419087902351,
          4.58236653964518,
          16.7641099769876,
          2.3127114235717,
          3.88613620907413,
          42.8475240252188,
          0.978157178925969,
          2.00542534403072,
          3.2908922638593,
          3.3150389439982,
          25.2739930611401,
          2.77808645405045,
          3.76571841961435,
          38.2847049096125,
          7.01063599913567,
          1.96893028017878,
          0.371598710552474,
          1.39441191435009,
          6.48541759971024,
          1.64055450742351,
          22.5754505573749,
          2.07655535203167,
          0.96558416635084,
          1.58297808057564,
          2.40277183759185,
          8.78708129925269,
          3.71840940299471,
          2.64433035538999,
          3.57643730309391,
          1.9143486386216,
          14.8191707210942,
          13.4785745608989,
          0.863157885903355,
          0.593547362418791,
          3.00963895179125,
          0.983968183503201,
          1.57820239459334,
          7.3512755993055,
          12.6280269174629,
          9.20005945930851,
          9.7530788541213,
          1.00183189135634,
          28.7722195560586,
          11.859762865562,
          0.789026223286531,
          0.215479044932229,
          1.29934456370843,
          11.6323421850625,
          2.89859749716565,
          0.370285919195817,
          2.54066783090562,
          64.4741155103829,
          0,
          1.44584884562316,
          3.32645865211895,
          1.51731225527557,
          0.734093658605339,
          0.969099877669777,
          19.53343269089,
          9.86052830519431,
          2.16734516741243,
          5.43790201632764,
          2.4045496736787,
          3.56647404658547,
          0.961714159317568,
          35.6136081629703,
          2.68917171160608,
          4.23631609067884,
          9.5047999239616,
          0.771965790616312,
          8.76731465720927,
          9.7446158222217,
          4.34136151823265,
          6.10251087065565,
          4.76422446313797,
          0,
          23.0925549602808,
          45.991654975949,
          52.787361197519,
          1.51874004143909,
          8.60474121240804,
          4.74630502960632,
          31.0307324523922,
          5.98266086706248,
          5.59942692109959
         ],
         "yaxis": "y"
        },
        {
         "alignmentgroup": "True",
         "bingroup": "x",
         "hovertemplate": "Country=%{x}<br>count=%{y}<extra></extra>",
         "legendgroup": "",
         "marker": {
          "color": "#636efa"
         },
         "name": "",
         "offsetgroup": "",
         "opacity": 0.5,
         "showlegend": false,
         "type": "histogram",
         "x": [
          "Aruba",
          "Afghanistan",
          "Anguilla",
          "Albania",
          "Andorra",
          "United Arab Emirates",
          "Argentina",
          "Armenia",
          "American Samoa",
          "Antigua and Barbuda",
          "Australia",
          "Austria",
          "Azerbaijan",
          "Burkina Faso",
          "Bangladesh",
          "Bulgaria",
          "Bahrain",
          "Bahamas",
          "Bosnia and Herzegovina",
          "Belarus",
          "Belize",
          "Bermuda",
          "Brazil",
          "Barbados",
          "Brunei Darussalam",
          "Bhutan",
          "Botswana",
          "Canada",
          "Channel Island",
          "Switzerland",
          "Chile",
          "China",
          "Cameroon",
          "Colombia",
          "Costa Rica",
          "Cuba",
          "Cayman Islands",
          "Cyprus",
          "Czechia",
          "Germany",
          "Dominica",
          "Denmark",
          "Dominican Republic",
          "Algeria",
          "Ecuador",
          "Egypt",
          "Spain",
          "Estonia",
          "Finland",
          "Fiji",
          "France",
          "United Kingdom of Great Britain and Northern Ireland",
          "Georgia",
          "Ghana",
          "Gibraltar",
          "Greece",
          "Grenada",
          "Greenland",
          "Guatemala",
          "Guam",
          "Guyana",
          "China, Hong Kong Special Administrative Region",
          "Honduras",
          "Croatia",
          "Haiti",
          "Hungary",
          "India",
          "Ireland",
          "Iraq",
          "Iceland",
          "Israel",
          "Italy",
          "Jamaica",
          "Jordan",
          "Japan",
          "Kazakhstan",
          "Kenya",
          "Kyrgyzstan",
          "Cambodia",
          "Kiribati",
          "Saint Kitts and Nevis",
          "Republic of Korea",
          "Kuwait",
          "Lebanon",
          "Liberia",
          "Saint Lucia",
          "Liechtenstein",
          "Sri Lanka",
          "Lesotho",
          "Lithuania",
          "Luxembourg",
          "China, Macao Special Administrative Region",
          "Morocco",
          "Republic of Moldova",
          "Maldives",
          "Mexico",
          "North Macedonia",
          "Malta",
          "Myanmar",
          "Montenegro",
          "Mongolia",
          "Mozambique",
          "Mauritius",
          "Malawi",
          "Malaysia",
          "Namibia",
          "Nicaragua",
          "Netherlands",
          "Norway",
          "Nepal",
          "New Zealand",
          "Oman",
          "Pakistan",
          "Panama",
          "Philippines",
          "Papua New Guinea",
          "Poland",
          "Puerto Rico",
          "Paraguay",
          "State of Palestine",
          "Qatar",
          "Romania",
          "Russian Federation",
          "Rwanda",
          "Singapore",
          "Sierra Leone",
          "El Salvador",
          "San Marino",
          "Serbia",
          "Sao Tome and Principe",
          "Slovakia",
          "Slovenia",
          "Sweden",
          "Eswatini",
          "Seychelles",
          "Syrian Arab Republic",
          "Thailand",
          "Tajikistan",
          "Timor-Leste",
          "Tonga",
          "Trinidad and Tobago",
          "Tunisia",
          "Türkiye",
          "Tuvalu",
          "China, Taiwan Province of China",
          "United Republic of Tanzania",
          "Uganda",
          "Ukraine",
          "Uruguay",
          "United States of America",
          "Holy See",
          "Saint Vincent and the Grenadines",
          "Venezuela (Bolivarian Republic of)",
          "United States Virgin Islands",
          "Viet Nam",
          "Samoa",
          "Yemen",
          "South Africa",
          "Zambia",
          "Zimbabwe"
         ],
         "xaxis": "x3",
         "yaxis": "y3"
        },
        {
         "alignmentgroup": "True",
         "boxpoints": "all",
         "fillcolor": "rgba(255,255,255,0)",
         "hoveron": "points",
         "hovertemplate": "VALUE=%{y}<extra></extra>",
         "jitter": 0,
         "legendgroup": "",
         "line": {
          "color": "rgba(255,255,255,0)"
         },
         "marker": {
          "color": "#636efa",
          "symbol": "line-ew-open"
         },
         "name": "",
         "offsetgroup": "",
         "showlegend": false,
         "type": "box",
         "xaxis": "x2",
         "y": [
          3.93449072935622,
          3.3681096075378,
          0,
          4.30796304921017,
          0,
          0.78362591429846,
          5.82945646358224,
          1.94625960183699,
          8.91519863062549,
          6.81585823014881,
          1.0426687589854,
          0.689659682673311,
          2.28066203411804,
          0.788198249930744,
          2.70234680592128,
          1.99326304028371,
          0.161178017897207,
          26.4836477562152,
          1.51127600811555,
          4.25663993369408,
          40.004341556448,
          10.7053281947758,
          26.717095855717,
          10.9878035380727,
          0.257311506455946,
          2.33405591814466,
          15.248305827671,
          1.62822732372785,
          0,
          0.665926122668202,
          3.17069021002804,
          0.979682650091451,
          4.91120598571296,
          34.1841604810009,
          11.5131589726941,
          4.49855257957249,
          15.8808582721626,
          0.719025504733435,
          0.977552917407029,
          0.981107785998394,
          21.1634239598177,
          0.756096160309668,
          25.5180004532178,
          0.705997765100146,
          17.4803815359739,
          2.22205456457373,
          0.854445688374367,
          5.25484891183339,
          2.21775606323326,
          2.32607906807968,
          1.26591266936055,
          1.19130534304701,
          4.56198147103654,
          1.70301280722129,
          2.97751972606819,
          1.61651193463414,
          9.41380251725079,
          19.4215897454006,
          40.7370396748692,
          1.88159735071093,
          18.6808641234005,
          0.50241705668585,
          74.9747489229593,
          1.43247839787919,
          6.80448649847155,
          1.39009486893823,
          3.76413425017975,
          1.2076419583122,
          9.04781817294795,
          0.624332744379444,
          2.04180361497246,
          0.891694785112682,
          51.486160292393,
          1.59745706868556,
          0.361748484929274,
          8.53419087902351,
          4.58236653964518,
          16.7641099769876,
          2.3127114235717,
          3.88613620907413,
          42.8475240252188,
          0.978157178925969,
          2.00542534403072,
          3.2908922638593,
          3.3150389439982,
          25.2739930611401,
          2.77808645405045,
          3.76571841961435,
          38.2847049096125,
          7.01063599913567,
          1.96893028017878,
          0.371598710552474,
          1.39441191435009,
          6.48541759971024,
          1.64055450742351,
          22.5754505573749,
          2.07655535203167,
          0.96558416635084,
          1.58297808057564,
          2.40277183759185,
          8.78708129925269,
          3.71840940299471,
          2.64433035538999,
          3.57643730309391,
          1.9143486386216,
          14.8191707210942,
          13.4785745608989,
          0.863157885903355,
          0.593547362418791,
          3.00963895179125,
          0.983968183503201,
          1.57820239459334,
          7.3512755993055,
          12.6280269174629,
          9.20005945930851,
          9.7530788541213,
          1.00183189135634,
          28.7722195560586,
          11.859762865562,
          0.789026223286531,
          0.215479044932229,
          1.29934456370843,
          11.6323421850625,
          2.89859749716565,
          0.370285919195817,
          2.54066783090562,
          64.4741155103829,
          0,
          1.44584884562316,
          3.32645865211895,
          1.51731225527557,
          0.734093658605339,
          0.969099877669777,
          19.53343269089,
          9.86052830519431,
          2.16734516741243,
          5.43790201632764,
          2.4045496736787,
          3.56647404658547,
          0.961714159317568,
          35.6136081629703,
          2.68917171160608,
          4.23631609067884,
          9.5047999239616,
          0.771965790616312,
          8.76731465720927,
          9.7446158222217,
          4.34136151823265,
          6.10251087065565,
          4.76422446313797,
          0,
          23.0925549602808,
          45.991654975949,
          52.787361197519,
          1.51874004143909,
          8.60474121240804,
          4.74630502960632,
          31.0307324523922,
          5.98266086706248,
          5.59942692109959
         ],
         "yaxis": "y2"
        }
       ],
       "layout": {
        "barmode": "overlay",
        "legend": {
         "tracegroupgap": 0
        },
        "margin": {
         "t": 60
        },
        "template": {
         "data": {
          "bar": [
           {
            "error_x": {
             "color": "#2a3f5f"
            },
            "error_y": {
             "color": "#2a3f5f"
            },
            "marker": {
             "line": {
              "color": "#E5ECF6",
              "width": 0.5
             },
             "pattern": {
              "fillmode": "overlay",
              "size": 10,
              "solidity": 0.2
             }
            },
            "type": "bar"
           }
          ],
          "barpolar": [
           {
            "marker": {
             "line": {
              "color": "#E5ECF6",
              "width": 0.5
             },
             "pattern": {
              "fillmode": "overlay",
              "size": 10,
              "solidity": 0.2
             }
            },
            "type": "barpolar"
           }
          ],
          "carpet": [
           {
            "aaxis": {
             "endlinecolor": "#2a3f5f",
             "gridcolor": "white",
             "linecolor": "white",
             "minorgridcolor": "white",
             "startlinecolor": "#2a3f5f"
            },
            "baxis": {
             "endlinecolor": "#2a3f5f",
             "gridcolor": "white",
             "linecolor": "white",
             "minorgridcolor": "white",
             "startlinecolor": "#2a3f5f"
            },
            "type": "carpet"
           }
          ],
          "choropleth": [
           {
            "colorbar": {
             "outlinewidth": 0,
             "ticks": ""
            },
            "type": "choropleth"
           }
          ],
          "contour": [
           {
            "colorbar": {
             "outlinewidth": 0,
             "ticks": ""
            },
            "colorscale": [
             [
              0,
              "#0d0887"
             ],
             [
              0.1111111111111111,
              "#46039f"
             ],
             [
              0.2222222222222222,
              "#7201a8"
             ],
             [
              0.3333333333333333,
              "#9c179e"
             ],
             [
              0.4444444444444444,
              "#bd3786"
             ],
             [
              0.5555555555555556,
              "#d8576b"
             ],
             [
              0.6666666666666666,
              "#ed7953"
             ],
             [
              0.7777777777777778,
              "#fb9f3a"
             ],
             [
              0.8888888888888888,
              "#fdca26"
             ],
             [
              1,
              "#f0f921"
             ]
            ],
            "type": "contour"
           }
          ],
          "contourcarpet": [
           {
            "colorbar": {
             "outlinewidth": 0,
             "ticks": ""
            },
            "type": "contourcarpet"
           }
          ],
          "heatmap": [
           {
            "colorbar": {
             "outlinewidth": 0,
             "ticks": ""
            },
            "colorscale": [
             [
              0,
              "#0d0887"
             ],
             [
              0.1111111111111111,
              "#46039f"
             ],
             [
              0.2222222222222222,
              "#7201a8"
             ],
             [
              0.3333333333333333,
              "#9c179e"
             ],
             [
              0.4444444444444444,
              "#bd3786"
             ],
             [
              0.5555555555555556,
              "#d8576b"
             ],
             [
              0.6666666666666666,
              "#ed7953"
             ],
             [
              0.7777777777777778,
              "#fb9f3a"
             ],
             [
              0.8888888888888888,
              "#fdca26"
             ],
             [
              1,
              "#f0f921"
             ]
            ],
            "type": "heatmap"
           }
          ],
          "heatmapgl": [
           {
            "colorbar": {
             "outlinewidth": 0,
             "ticks": ""
            },
            "colorscale": [
             [
              0,
              "#0d0887"
             ],
             [
              0.1111111111111111,
              "#46039f"
             ],
             [
              0.2222222222222222,
              "#7201a8"
             ],
             [
              0.3333333333333333,
              "#9c179e"
             ],
             [
              0.4444444444444444,
              "#bd3786"
             ],
             [
              0.5555555555555556,
              "#d8576b"
             ],
             [
              0.6666666666666666,
              "#ed7953"
             ],
             [
              0.7777777777777778,
              "#fb9f3a"
             ],
             [
              0.8888888888888888,
              "#fdca26"
             ],
             [
              1,
              "#f0f921"
             ]
            ],
            "type": "heatmapgl"
           }
          ],
          "histogram": [
           {
            "marker": {
             "pattern": {
              "fillmode": "overlay",
              "size": 10,
              "solidity": 0.2
             }
            },
            "type": "histogram"
           }
          ],
          "histogram2d": [
           {
            "colorbar": {
             "outlinewidth": 0,
             "ticks": ""
            },
            "colorscale": [
             [
              0,
              "#0d0887"
             ],
             [
              0.1111111111111111,
              "#46039f"
             ],
             [
              0.2222222222222222,
              "#7201a8"
             ],
             [
              0.3333333333333333,
              "#9c179e"
             ],
             [
              0.4444444444444444,
              "#bd3786"
             ],
             [
              0.5555555555555556,
              "#d8576b"
             ],
             [
              0.6666666666666666,
              "#ed7953"
             ],
             [
              0.7777777777777778,
              "#fb9f3a"
             ],
             [
              0.8888888888888888,
              "#fdca26"
             ],
             [
              1,
              "#f0f921"
             ]
            ],
            "type": "histogram2d"
           }
          ],
          "histogram2dcontour": [
           {
            "colorbar": {
             "outlinewidth": 0,
             "ticks": ""
            },
            "colorscale": [
             [
              0,
              "#0d0887"
             ],
             [
              0.1111111111111111,
              "#46039f"
             ],
             [
              0.2222222222222222,
              "#7201a8"
             ],
             [
              0.3333333333333333,
              "#9c179e"
             ],
             [
              0.4444444444444444,
              "#bd3786"
             ],
             [
              0.5555555555555556,
              "#d8576b"
             ],
             [
              0.6666666666666666,
              "#ed7953"
             ],
             [
              0.7777777777777778,
              "#fb9f3a"
             ],
             [
              0.8888888888888888,
              "#fdca26"
             ],
             [
              1,
              "#f0f921"
             ]
            ],
            "type": "histogram2dcontour"
           }
          ],
          "mesh3d": [
           {
            "colorbar": {
             "outlinewidth": 0,
             "ticks": ""
            },
            "type": "mesh3d"
           }
          ],
          "parcoords": [
           {
            "line": {
             "colorbar": {
              "outlinewidth": 0,
              "ticks": ""
             }
            },
            "type": "parcoords"
           }
          ],
          "pie": [
           {
            "automargin": true,
            "type": "pie"
           }
          ],
          "scatter": [
           {
            "fillpattern": {
             "fillmode": "overlay",
             "size": 10,
             "solidity": 0.2
            },
            "type": "scatter"
           }
          ],
          "scatter3d": [
           {
            "line": {
             "colorbar": {
              "outlinewidth": 0,
              "ticks": ""
             }
            },
            "marker": {
             "colorbar": {
              "outlinewidth": 0,
              "ticks": ""
             }
            },
            "type": "scatter3d"
           }
          ],
          "scattercarpet": [
           {
            "marker": {
             "colorbar": {
              "outlinewidth": 0,
              "ticks": ""
             }
            },
            "type": "scattercarpet"
           }
          ],
          "scattergeo": [
           {
            "marker": {
             "colorbar": {
              "outlinewidth": 0,
              "ticks": ""
             }
            },
            "type": "scattergeo"
           }
          ],
          "scattergl": [
           {
            "marker": {
             "colorbar": {
              "outlinewidth": 0,
              "ticks": ""
             }
            },
            "type": "scattergl"
           }
          ],
          "scattermapbox": [
           {
            "marker": {
             "colorbar": {
              "outlinewidth": 0,
              "ticks": ""
             }
            },
            "type": "scattermapbox"
           }
          ],
          "scatterpolar": [
           {
            "marker": {
             "colorbar": {
              "outlinewidth": 0,
              "ticks": ""
             }
            },
            "type": "scatterpolar"
           }
          ],
          "scatterpolargl": [
           {
            "marker": {
             "colorbar": {
              "outlinewidth": 0,
              "ticks": ""
             }
            },
            "type": "scatterpolargl"
           }
          ],
          "scatterternary": [
           {
            "marker": {
             "colorbar": {
              "outlinewidth": 0,
              "ticks": ""
             }
            },
            "type": "scatterternary"
           }
          ],
          "surface": [
           {
            "colorbar": {
             "outlinewidth": 0,
             "ticks": ""
            },
            "colorscale": [
             [
              0,
              "#0d0887"
             ],
             [
              0.1111111111111111,
              "#46039f"
             ],
             [
              0.2222222222222222,
              "#7201a8"
             ],
             [
              0.3333333333333333,
              "#9c179e"
             ],
             [
              0.4444444444444444,
              "#bd3786"
             ],
             [
              0.5555555555555556,
              "#d8576b"
             ],
             [
              0.6666666666666666,
              "#ed7953"
             ],
             [
              0.7777777777777778,
              "#fb9f3a"
             ],
             [
              0.8888888888888888,
              "#fdca26"
             ],
             [
              1,
              "#f0f921"
             ]
            ],
            "type": "surface"
           }
          ],
          "table": [
           {
            "cells": {
             "fill": {
              "color": "#EBF0F8"
             },
             "line": {
              "color": "white"
             }
            },
            "header": {
             "fill": {
              "color": "#C8D4E3"
             },
             "line": {
              "color": "white"
             }
            },
            "type": "table"
           }
          ]
         },
         "layout": {
          "annotationdefaults": {
           "arrowcolor": "#2a3f5f",
           "arrowhead": 0,
           "arrowwidth": 1
          },
          "autotypenumbers": "strict",
          "coloraxis": {
           "colorbar": {
            "outlinewidth": 0,
            "ticks": ""
           }
          },
          "colorscale": {
           "diverging": [
            [
             0,
             "#8e0152"
            ],
            [
             0.1,
             "#c51b7d"
            ],
            [
             0.2,
             "#de77ae"
            ],
            [
             0.3,
             "#f1b6da"
            ],
            [
             0.4,
             "#fde0ef"
            ],
            [
             0.5,
             "#f7f7f7"
            ],
            [
             0.6,
             "#e6f5d0"
            ],
            [
             0.7,
             "#b8e186"
            ],
            [
             0.8,
             "#7fbc41"
            ],
            [
             0.9,
             "#4d9221"
            ],
            [
             1,
             "#276419"
            ]
           ],
           "sequential": [
            [
             0,
             "#0d0887"
            ],
            [
             0.1111111111111111,
             "#46039f"
            ],
            [
             0.2222222222222222,
             "#7201a8"
            ],
            [
             0.3333333333333333,
             "#9c179e"
            ],
            [
             0.4444444444444444,
             "#bd3786"
            ],
            [
             0.5555555555555556,
             "#d8576b"
            ],
            [
             0.6666666666666666,
             "#ed7953"
            ],
            [
             0.7777777777777778,
             "#fb9f3a"
            ],
            [
             0.8888888888888888,
             "#fdca26"
            ],
            [
             1,
             "#f0f921"
            ]
           ],
           "sequentialminus": [
            [
             0,
             "#0d0887"
            ],
            [
             0.1111111111111111,
             "#46039f"
            ],
            [
             0.2222222222222222,
             "#7201a8"
            ],
            [
             0.3333333333333333,
             "#9c179e"
            ],
            [
             0.4444444444444444,
             "#bd3786"
            ],
            [
             0.5555555555555556,
             "#d8576b"
            ],
            [
             0.6666666666666666,
             "#ed7953"
            ],
            [
             0.7777777777777778,
             "#fb9f3a"
            ],
            [
             0.8888888888888888,
             "#fdca26"
            ],
            [
             1,
             "#f0f921"
            ]
           ]
          },
          "colorway": [
           "#636efa",
           "#EF553B",
           "#00cc96",
           "#ab63fa",
           "#FFA15A",
           "#19d3f3",
           "#FF6692",
           "#B6E880",
           "#FF97FF",
           "#FECB52"
          ],
          "font": {
           "color": "#2a3f5f"
          },
          "geo": {
           "bgcolor": "white",
           "lakecolor": "white",
           "landcolor": "#E5ECF6",
           "showlakes": true,
           "showland": true,
           "subunitcolor": "white"
          },
          "hoverlabel": {
           "align": "left"
          },
          "hovermode": "closest",
          "mapbox": {
           "style": "light"
          },
          "paper_bgcolor": "white",
          "plot_bgcolor": "#E5ECF6",
          "polar": {
           "angularaxis": {
            "gridcolor": "white",
            "linecolor": "white",
            "ticks": ""
           },
           "bgcolor": "#E5ECF6",
           "radialaxis": {
            "gridcolor": "white",
            "linecolor": "white",
            "ticks": ""
           }
          },
          "scene": {
           "xaxis": {
            "backgroundcolor": "#E5ECF6",
            "gridcolor": "white",
            "gridwidth": 2,
            "linecolor": "white",
            "showbackground": true,
            "ticks": "",
            "zerolinecolor": "white"
           },
           "yaxis": {
            "backgroundcolor": "#E5ECF6",
            "gridcolor": "white",
            "gridwidth": 2,
            "linecolor": "white",
            "showbackground": true,
            "ticks": "",
            "zerolinecolor": "white"
           },
           "zaxis": {
            "backgroundcolor": "#E5ECF6",
            "gridcolor": "white",
            "gridwidth": 2,
            "linecolor": "white",
            "showbackground": true,
            "ticks": "",
            "zerolinecolor": "white"
           }
          },
          "shapedefaults": {
           "line": {
            "color": "#2a3f5f"
           }
          },
          "ternary": {
           "aaxis": {
            "gridcolor": "white",
            "linecolor": "white",
            "ticks": ""
           },
           "baxis": {
            "gridcolor": "white",
            "linecolor": "white",
            "ticks": ""
           },
           "bgcolor": "#E5ECF6",
           "caxis": {
            "gridcolor": "white",
            "linecolor": "white",
            "ticks": ""
           }
          },
          "title": {
           "x": 0.05
          },
          "xaxis": {
           "automargin": true,
           "gridcolor": "white",
           "linecolor": "white",
           "ticks": "",
           "title": {
            "standoff": 15
           },
           "zerolinecolor": "white",
           "zerolinewidth": 2
          },
          "yaxis": {
           "automargin": true,
           "gridcolor": "white",
           "linecolor": "white",
           "ticks": "",
           "title": {
            "standoff": 15
           },
           "zerolinecolor": "white",
           "zerolinewidth": 2
          }
         }
        },
        "xaxis": {
         "anchor": "y",
         "domain": [
          0,
          0.8358
         ],
         "title": {
          "text": "Country"
         }
        },
        "xaxis2": {
         "anchor": "y2",
         "domain": [
          0.8408,
          1
         ],
         "matches": "x2",
         "showgrid": false,
         "showline": false,
         "showticklabels": false,
         "ticks": ""
        },
        "xaxis3": {
         "anchor": "y3",
         "domain": [
          0,
          0.8358
         ],
         "matches": "x",
         "showgrid": true,
         "showticklabels": false
        },
        "xaxis4": {
         "anchor": "y4",
         "domain": [
          0.8408,
          1
         ],
         "matches": "x2",
         "showgrid": false,
         "showline": false,
         "showticklabels": false,
         "ticks": ""
        },
        "yaxis": {
         "anchor": "x",
         "domain": [
          0,
          0.7326
         ],
         "title": {
          "text": "VALUE"
         }
        },
        "yaxis2": {
         "anchor": "x2",
         "domain": [
          0,
          0.7326
         ],
         "matches": "y",
         "showgrid": true,
         "showticklabels": false
        },
        "yaxis3": {
         "anchor": "x3",
         "domain": [
          0.7426,
          1
         ],
         "matches": "y3",
         "showgrid": true,
         "showline": false,
         "showticklabels": false,
         "ticks": ""
        },
        "yaxis4": {
         "anchor": "x4",
         "domain": [
          0.7426,
          1
         ],
         "matches": "y3",
         "showgrid": true,
         "showline": false,
         "showticklabels": false,
         "ticks": ""
        }
       }
      },
      "text/html": [
       "<div>                            <div id=\"5eddf7cc-1a2b-414f-b046-67ad0f2254ad\" class=\"plotly-graph-div\" style=\"height:525px; width:100%;\"></div>            <script type=\"text/javascript\">                require([\"plotly\"], function(Plotly) {                    window.PLOTLYENV=window.PLOTLYENV || {};                                    if (document.getElementById(\"5eddf7cc-1a2b-414f-b046-67ad0f2254ad\")) {                    Plotly.newPlot(                        \"5eddf7cc-1a2b-414f-b046-67ad0f2254ad\",                        [{\"hovertemplate\":\"Country=%{x}<br>VALUE=%{y}<extra></extra>\",\"legendgroup\":\"\",\"marker\":{\"color\":\"#636efa\",\"symbol\":\"circle\"},\"mode\":\"markers\",\"name\":\"\",\"orientation\":\"v\",\"showlegend\":false,\"x\":[\"Aruba\",\"Afghanistan\",\"Anguilla\",\"Albania\",\"Andorra\",\"United Arab Emirates\",\"Argentina\",\"Armenia\",\"American Samoa\",\"Antigua and Barbuda\",\"Australia\",\"Austria\",\"Azerbaijan\",\"Burkina Faso\",\"Bangladesh\",\"Bulgaria\",\"Bahrain\",\"Bahamas\",\"Bosnia and Herzegovina\",\"Belarus\",\"Belize\",\"Bermuda\",\"Brazil\",\"Barbados\",\"Brunei Darussalam\",\"Bhutan\",\"Botswana\",\"Canada\",\"Channel Island\",\"Switzerland\",\"Chile\",\"China\",\"Cameroon\",\"Colombia\",\"Costa Rica\",\"Cuba\",\"Cayman Islands\",\"Cyprus\",\"Czechia\",\"Germany\",\"Dominica\",\"Denmark\",\"Dominican Republic\",\"Algeria\",\"Ecuador\",\"Egypt\",\"Spain\",\"Estonia\",\"Finland\",\"Fiji\",\"France\",\"United Kingdom of Great Britain and Northern Ireland\",\"Georgia\",\"Ghana\",\"Gibraltar\",\"Greece\",\"Grenada\",\"Greenland\",\"Guatemala\",\"Guam\",\"Guyana\",\"China, Hong Kong Special Administrative Region\",\"Honduras\",\"Croatia\",\"Haiti\",\"Hungary\",\"India\",\"Ireland\",\"Iraq\",\"Iceland\",\"Israel\",\"Italy\",\"Jamaica\",\"Jordan\",\"Japan\",\"Kazakhstan\",\"Kenya\",\"Kyrgyzstan\",\"Cambodia\",\"Kiribati\",\"Saint Kitts and Nevis\",\"Republic of Korea\",\"Kuwait\",\"Lebanon\",\"Liberia\",\"Saint Lucia\",\"Liechtenstein\",\"Sri Lanka\",\"Lesotho\",\"Lithuania\",\"Luxembourg\",\"China, Macao Special Administrative Region\",\"Morocco\",\"Republic of Moldova\",\"Maldives\",\"Mexico\",\"North Macedonia\",\"Malta\",\"Myanmar\",\"Montenegro\",\"Mongolia\",\"Mozambique\",\"Mauritius\",\"Malawi\",\"Malaysia\",\"Namibia\",\"Nicaragua\",\"Netherlands\",\"Norway\",\"Nepal\",\"New Zealand\",\"Oman\",\"Pakistan\",\"Panama\",\"Philippines\",\"Papua New Guinea\",\"Poland\",\"Puerto Rico\",\"Paraguay\",\"State of Palestine\",\"Qatar\",\"Romania\",\"Russian Federation\",\"Rwanda\",\"Singapore\",\"Sierra Leone\",\"El Salvador\",\"San Marino\",\"Serbia\",\"Sao Tome and Principe\",\"Slovakia\",\"Slovenia\",\"Sweden\",\"Eswatini\",\"Seychelles\",\"Syrian Arab Republic\",\"Thailand\",\"Tajikistan\",\"Timor-Leste\",\"Tonga\",\"Trinidad and Tobago\",\"Tunisia\",\"T\\u00fcrkiye\",\"Tuvalu\",\"China, Taiwan Province of China\",\"United Republic of Tanzania\",\"Uganda\",\"Ukraine\",\"Uruguay\",\"United States of America\",\"Holy See\",\"Saint Vincent and the Grenadines\",\"Venezuela (Bolivarian Republic of)\",\"United States Virgin Islands\",\"Viet Nam\",\"Samoa\",\"Yemen\",\"South Africa\",\"Zambia\",\"Zimbabwe\"],\"xaxis\":\"x\",\"y\":[3.93449072935622,3.3681096075378,0.0,4.30796304921017,0.0,0.78362591429846,5.82945646358224,1.94625960183699,8.91519863062549,6.81585823014881,1.0426687589854,0.689659682673311,2.28066203411804,0.788198249930744,2.70234680592128,1.99326304028371,0.161178017897207,26.4836477562152,1.51127600811555,4.25663993369408,40.004341556448,10.7053281947758,26.717095855717,10.9878035380727,0.257311506455946,2.33405591814466,15.248305827671,1.62822732372785,0.0,0.665926122668202,3.17069021002804,0.979682650091451,4.91120598571296,34.1841604810009,11.5131589726941,4.49855257957249,15.8808582721626,0.719025504733435,0.977552917407029,0.981107785998394,21.1634239598177,0.756096160309668,25.5180004532178,0.705997765100146,17.4803815359739,2.22205456457373,0.854445688374367,5.25484891183339,2.21775606323326,2.32607906807968,1.26591266936055,1.19130534304701,4.56198147103654,1.70301280722129,2.97751972606819,1.61651193463414,9.41380251725079,19.4215897454006,40.7370396748692,1.88159735071093,18.6808641234005,0.50241705668585,74.9747489229593,1.43247839787919,6.80448649847155,1.39009486893823,3.76413425017975,1.2076419583122,9.04781817294795,0.624332744379444,2.04180361497246,0.891694785112682,51.486160292393,1.59745706868556,0.361748484929274,8.53419087902351,4.58236653964518,16.7641099769876,2.3127114235717,3.88613620907413,42.8475240252188,0.978157178925969,2.00542534403072,3.2908922638593,3.3150389439982,25.2739930611401,2.77808645405045,3.76571841961435,38.2847049096125,7.01063599913567,1.96893028017878,0.371598710552474,1.39441191435009,6.48541759971024,1.64055450742351,22.5754505573749,2.07655535203167,0.96558416635084,1.58297808057564,2.40277183759185,8.78708129925269,3.71840940299471,2.64433035538999,3.57643730309391,1.9143486386216,14.8191707210942,13.4785745608989,0.863157885903355,0.593547362418791,3.00963895179125,0.983968183503201,1.57820239459334,7.3512755993055,12.6280269174629,9.20005945930851,9.7530788541213,1.00183189135634,28.7722195560586,11.859762865562,0.789026223286531,0.215479044932229,1.29934456370843,11.6323421850625,2.89859749716565,0.370285919195817,2.54066783090562,64.4741155103829,0.0,1.44584884562316,3.32645865211895,1.51731225527557,0.734093658605339,0.969099877669777,19.53343269089,9.86052830519431,2.16734516741243,5.43790201632764,2.4045496736787,3.56647404658547,0.961714159317568,35.6136081629703,2.68917171160608,4.23631609067884,9.5047999239616,0.771965790616312,8.76731465720927,9.7446158222217,4.34136151823265,6.10251087065565,4.76422446313797,0.0,23.0925549602808,45.991654975949,52.787361197519,1.51874004143909,8.60474121240804,4.74630502960632,31.0307324523922,5.98266086706248,5.59942692109959],\"yaxis\":\"y\",\"type\":\"scatter\"},{\"alignmentgroup\":\"True\",\"bingroup\":\"x\",\"hovertemplate\":\"Country=%{x}<br>count=%{y}<extra></extra>\",\"legendgroup\":\"\",\"marker\":{\"color\":\"#636efa\"},\"name\":\"\",\"offsetgroup\":\"\",\"opacity\":0.5,\"showlegend\":false,\"x\":[\"Aruba\",\"Afghanistan\",\"Anguilla\",\"Albania\",\"Andorra\",\"United Arab Emirates\",\"Argentina\",\"Armenia\",\"American Samoa\",\"Antigua and Barbuda\",\"Australia\",\"Austria\",\"Azerbaijan\",\"Burkina Faso\",\"Bangladesh\",\"Bulgaria\",\"Bahrain\",\"Bahamas\",\"Bosnia and Herzegovina\",\"Belarus\",\"Belize\",\"Bermuda\",\"Brazil\",\"Barbados\",\"Brunei Darussalam\",\"Bhutan\",\"Botswana\",\"Canada\",\"Channel Island\",\"Switzerland\",\"Chile\",\"China\",\"Cameroon\",\"Colombia\",\"Costa Rica\",\"Cuba\",\"Cayman Islands\",\"Cyprus\",\"Czechia\",\"Germany\",\"Dominica\",\"Denmark\",\"Dominican Republic\",\"Algeria\",\"Ecuador\",\"Egypt\",\"Spain\",\"Estonia\",\"Finland\",\"Fiji\",\"France\",\"United Kingdom of Great Britain and Northern Ireland\",\"Georgia\",\"Ghana\",\"Gibraltar\",\"Greece\",\"Grenada\",\"Greenland\",\"Guatemala\",\"Guam\",\"Guyana\",\"China, Hong Kong Special Administrative Region\",\"Honduras\",\"Croatia\",\"Haiti\",\"Hungary\",\"India\",\"Ireland\",\"Iraq\",\"Iceland\",\"Israel\",\"Italy\",\"Jamaica\",\"Jordan\",\"Japan\",\"Kazakhstan\",\"Kenya\",\"Kyrgyzstan\",\"Cambodia\",\"Kiribati\",\"Saint Kitts and Nevis\",\"Republic of Korea\",\"Kuwait\",\"Lebanon\",\"Liberia\",\"Saint Lucia\",\"Liechtenstein\",\"Sri Lanka\",\"Lesotho\",\"Lithuania\",\"Luxembourg\",\"China, Macao Special Administrative Region\",\"Morocco\",\"Republic of Moldova\",\"Maldives\",\"Mexico\",\"North Macedonia\",\"Malta\",\"Myanmar\",\"Montenegro\",\"Mongolia\",\"Mozambique\",\"Mauritius\",\"Malawi\",\"Malaysia\",\"Namibia\",\"Nicaragua\",\"Netherlands\",\"Norway\",\"Nepal\",\"New Zealand\",\"Oman\",\"Pakistan\",\"Panama\",\"Philippines\",\"Papua New Guinea\",\"Poland\",\"Puerto Rico\",\"Paraguay\",\"State of Palestine\",\"Qatar\",\"Romania\",\"Russian Federation\",\"Rwanda\",\"Singapore\",\"Sierra Leone\",\"El Salvador\",\"San Marino\",\"Serbia\",\"Sao Tome and Principe\",\"Slovakia\",\"Slovenia\",\"Sweden\",\"Eswatini\",\"Seychelles\",\"Syrian Arab Republic\",\"Thailand\",\"Tajikistan\",\"Timor-Leste\",\"Tonga\",\"Trinidad and Tobago\",\"Tunisia\",\"T\\u00fcrkiye\",\"Tuvalu\",\"China, Taiwan Province of China\",\"United Republic of Tanzania\",\"Uganda\",\"Ukraine\",\"Uruguay\",\"United States of America\",\"Holy See\",\"Saint Vincent and the Grenadines\",\"Venezuela (Bolivarian Republic of)\",\"United States Virgin Islands\",\"Viet Nam\",\"Samoa\",\"Yemen\",\"South Africa\",\"Zambia\",\"Zimbabwe\"],\"xaxis\":\"x3\",\"yaxis\":\"y3\",\"type\":\"histogram\"},{\"alignmentgroup\":\"True\",\"boxpoints\":\"all\",\"fillcolor\":\"rgba(255,255,255,0)\",\"hoveron\":\"points\",\"hovertemplate\":\"VALUE=%{y}<extra></extra>\",\"jitter\":0,\"legendgroup\":\"\",\"line\":{\"color\":\"rgba(255,255,255,0)\"},\"marker\":{\"color\":\"#636efa\",\"symbol\":\"line-ew-open\"},\"name\":\"\",\"offsetgroup\":\"\",\"showlegend\":false,\"xaxis\":\"x2\",\"y\":[3.93449072935622,3.3681096075378,0.0,4.30796304921017,0.0,0.78362591429846,5.82945646358224,1.94625960183699,8.91519863062549,6.81585823014881,1.0426687589854,0.689659682673311,2.28066203411804,0.788198249930744,2.70234680592128,1.99326304028371,0.161178017897207,26.4836477562152,1.51127600811555,4.25663993369408,40.004341556448,10.7053281947758,26.717095855717,10.9878035380727,0.257311506455946,2.33405591814466,15.248305827671,1.62822732372785,0.0,0.665926122668202,3.17069021002804,0.979682650091451,4.91120598571296,34.1841604810009,11.5131589726941,4.49855257957249,15.8808582721626,0.719025504733435,0.977552917407029,0.981107785998394,21.1634239598177,0.756096160309668,25.5180004532178,0.705997765100146,17.4803815359739,2.22205456457373,0.854445688374367,5.25484891183339,2.21775606323326,2.32607906807968,1.26591266936055,1.19130534304701,4.56198147103654,1.70301280722129,2.97751972606819,1.61651193463414,9.41380251725079,19.4215897454006,40.7370396748692,1.88159735071093,18.6808641234005,0.50241705668585,74.9747489229593,1.43247839787919,6.80448649847155,1.39009486893823,3.76413425017975,1.2076419583122,9.04781817294795,0.624332744379444,2.04180361497246,0.891694785112682,51.486160292393,1.59745706868556,0.361748484929274,8.53419087902351,4.58236653964518,16.7641099769876,2.3127114235717,3.88613620907413,42.8475240252188,0.978157178925969,2.00542534403072,3.2908922638593,3.3150389439982,25.2739930611401,2.77808645405045,3.76571841961435,38.2847049096125,7.01063599913567,1.96893028017878,0.371598710552474,1.39441191435009,6.48541759971024,1.64055450742351,22.5754505573749,2.07655535203167,0.96558416635084,1.58297808057564,2.40277183759185,8.78708129925269,3.71840940299471,2.64433035538999,3.57643730309391,1.9143486386216,14.8191707210942,13.4785745608989,0.863157885903355,0.593547362418791,3.00963895179125,0.983968183503201,1.57820239459334,7.3512755993055,12.6280269174629,9.20005945930851,9.7530788541213,1.00183189135634,28.7722195560586,11.859762865562,0.789026223286531,0.215479044932229,1.29934456370843,11.6323421850625,2.89859749716565,0.370285919195817,2.54066783090562,64.4741155103829,0.0,1.44584884562316,3.32645865211895,1.51731225527557,0.734093658605339,0.969099877669777,19.53343269089,9.86052830519431,2.16734516741243,5.43790201632764,2.4045496736787,3.56647404658547,0.961714159317568,35.6136081629703,2.68917171160608,4.23631609067884,9.5047999239616,0.771965790616312,8.76731465720927,9.7446158222217,4.34136151823265,6.10251087065565,4.76422446313797,0.0,23.0925549602808,45.991654975949,52.787361197519,1.51874004143909,8.60474121240804,4.74630502960632,31.0307324523922,5.98266086706248,5.59942692109959],\"yaxis\":\"y2\",\"type\":\"box\"}],                        {\"template\":{\"data\":{\"histogram2dcontour\":[{\"type\":\"histogram2dcontour\",\"colorbar\":{\"outlinewidth\":0,\"ticks\":\"\"},\"colorscale\":[[0.0,\"#0d0887\"],[0.1111111111111111,\"#46039f\"],[0.2222222222222222,\"#7201a8\"],[0.3333333333333333,\"#9c179e\"],[0.4444444444444444,\"#bd3786\"],[0.5555555555555556,\"#d8576b\"],[0.6666666666666666,\"#ed7953\"],[0.7777777777777778,\"#fb9f3a\"],[0.8888888888888888,\"#fdca26\"],[1.0,\"#f0f921\"]]}],\"choropleth\":[{\"type\":\"choropleth\",\"colorbar\":{\"outlinewidth\":0,\"ticks\":\"\"}}],\"histogram2d\":[{\"type\":\"histogram2d\",\"colorbar\":{\"outlinewidth\":0,\"ticks\":\"\"},\"colorscale\":[[0.0,\"#0d0887\"],[0.1111111111111111,\"#46039f\"],[0.2222222222222222,\"#7201a8\"],[0.3333333333333333,\"#9c179e\"],[0.4444444444444444,\"#bd3786\"],[0.5555555555555556,\"#d8576b\"],[0.6666666666666666,\"#ed7953\"],[0.7777777777777778,\"#fb9f3a\"],[0.8888888888888888,\"#fdca26\"],[1.0,\"#f0f921\"]]}],\"heatmap\":[{\"type\":\"heatmap\",\"colorbar\":{\"outlinewidth\":0,\"ticks\":\"\"},\"colorscale\":[[0.0,\"#0d0887\"],[0.1111111111111111,\"#46039f\"],[0.2222222222222222,\"#7201a8\"],[0.3333333333333333,\"#9c179e\"],[0.4444444444444444,\"#bd3786\"],[0.5555555555555556,\"#d8576b\"],[0.6666666666666666,\"#ed7953\"],[0.7777777777777778,\"#fb9f3a\"],[0.8888888888888888,\"#fdca26\"],[1.0,\"#f0f921\"]]}],\"heatmapgl\":[{\"type\":\"heatmapgl\",\"colorbar\":{\"outlinewidth\":0,\"ticks\":\"\"},\"colorscale\":[[0.0,\"#0d0887\"],[0.1111111111111111,\"#46039f\"],[0.2222222222222222,\"#7201a8\"],[0.3333333333333333,\"#9c179e\"],[0.4444444444444444,\"#bd3786\"],[0.5555555555555556,\"#d8576b\"],[0.6666666666666666,\"#ed7953\"],[0.7777777777777778,\"#fb9f3a\"],[0.8888888888888888,\"#fdca26\"],[1.0,\"#f0f921\"]]}],\"contourcarpet\":[{\"type\":\"contourcarpet\",\"colorbar\":{\"outlinewidth\":0,\"ticks\":\"\"}}],\"contour\":[{\"type\":\"contour\",\"colorbar\":{\"outlinewidth\":0,\"ticks\":\"\"},\"colorscale\":[[0.0,\"#0d0887\"],[0.1111111111111111,\"#46039f\"],[0.2222222222222222,\"#7201a8\"],[0.3333333333333333,\"#9c179e\"],[0.4444444444444444,\"#bd3786\"],[0.5555555555555556,\"#d8576b\"],[0.6666666666666666,\"#ed7953\"],[0.7777777777777778,\"#fb9f3a\"],[0.8888888888888888,\"#fdca26\"],[1.0,\"#f0f921\"]]}],\"surface\":[{\"type\":\"surface\",\"colorbar\":{\"outlinewidth\":0,\"ticks\":\"\"},\"colorscale\":[[0.0,\"#0d0887\"],[0.1111111111111111,\"#46039f\"],[0.2222222222222222,\"#7201a8\"],[0.3333333333333333,\"#9c179e\"],[0.4444444444444444,\"#bd3786\"],[0.5555555555555556,\"#d8576b\"],[0.6666666666666666,\"#ed7953\"],[0.7777777777777778,\"#fb9f3a\"],[0.8888888888888888,\"#fdca26\"],[1.0,\"#f0f921\"]]}],\"mesh3d\":[{\"type\":\"mesh3d\",\"colorbar\":{\"outlinewidth\":0,\"ticks\":\"\"}}],\"scatter\":[{\"fillpattern\":{\"fillmode\":\"overlay\",\"size\":10,\"solidity\":0.2},\"type\":\"scatter\"}],\"parcoords\":[{\"type\":\"parcoords\",\"line\":{\"colorbar\":{\"outlinewidth\":0,\"ticks\":\"\"}}}],\"scatterpolargl\":[{\"type\":\"scatterpolargl\",\"marker\":{\"colorbar\":{\"outlinewidth\":0,\"ticks\":\"\"}}}],\"bar\":[{\"error_x\":{\"color\":\"#2a3f5f\"},\"error_y\":{\"color\":\"#2a3f5f\"},\"marker\":{\"line\":{\"color\":\"#E5ECF6\",\"width\":0.5},\"pattern\":{\"fillmode\":\"overlay\",\"size\":10,\"solidity\":0.2}},\"type\":\"bar\"}],\"scattergeo\":[{\"type\":\"scattergeo\",\"marker\":{\"colorbar\":{\"outlinewidth\":0,\"ticks\":\"\"}}}],\"scatterpolar\":[{\"type\":\"scatterpolar\",\"marker\":{\"colorbar\":{\"outlinewidth\":0,\"ticks\":\"\"}}}],\"histogram\":[{\"marker\":{\"pattern\":{\"fillmode\":\"overlay\",\"size\":10,\"solidity\":0.2}},\"type\":\"histogram\"}],\"scattergl\":[{\"type\":\"scattergl\",\"marker\":{\"colorbar\":{\"outlinewidth\":0,\"ticks\":\"\"}}}],\"scatter3d\":[{\"type\":\"scatter3d\",\"line\":{\"colorbar\":{\"outlinewidth\":0,\"ticks\":\"\"}},\"marker\":{\"colorbar\":{\"outlinewidth\":0,\"ticks\":\"\"}}}],\"scattermapbox\":[{\"type\":\"scattermapbox\",\"marker\":{\"colorbar\":{\"outlinewidth\":0,\"ticks\":\"\"}}}],\"scatterternary\":[{\"type\":\"scatterternary\",\"marker\":{\"colorbar\":{\"outlinewidth\":0,\"ticks\":\"\"}}}],\"scattercarpet\":[{\"type\":\"scattercarpet\",\"marker\":{\"colorbar\":{\"outlinewidth\":0,\"ticks\":\"\"}}}],\"carpet\":[{\"aaxis\":{\"endlinecolor\":\"#2a3f5f\",\"gridcolor\":\"white\",\"linecolor\":\"white\",\"minorgridcolor\":\"white\",\"startlinecolor\":\"#2a3f5f\"},\"baxis\":{\"endlinecolor\":\"#2a3f5f\",\"gridcolor\":\"white\",\"linecolor\":\"white\",\"minorgridcolor\":\"white\",\"startlinecolor\":\"#2a3f5f\"},\"type\":\"carpet\"}],\"table\":[{\"cells\":{\"fill\":{\"color\":\"#EBF0F8\"},\"line\":{\"color\":\"white\"}},\"header\":{\"fill\":{\"color\":\"#C8D4E3\"},\"line\":{\"color\":\"white\"}},\"type\":\"table\"}],\"barpolar\":[{\"marker\":{\"line\":{\"color\":\"#E5ECF6\",\"width\":0.5},\"pattern\":{\"fillmode\":\"overlay\",\"size\":10,\"solidity\":0.2}},\"type\":\"barpolar\"}],\"pie\":[{\"automargin\":true,\"type\":\"pie\"}]},\"layout\":{\"autotypenumbers\":\"strict\",\"colorway\":[\"#636efa\",\"#EF553B\",\"#00cc96\",\"#ab63fa\",\"#FFA15A\",\"#19d3f3\",\"#FF6692\",\"#B6E880\",\"#FF97FF\",\"#FECB52\"],\"font\":{\"color\":\"#2a3f5f\"},\"hovermode\":\"closest\",\"hoverlabel\":{\"align\":\"left\"},\"paper_bgcolor\":\"white\",\"plot_bgcolor\":\"#E5ECF6\",\"polar\":{\"bgcolor\":\"#E5ECF6\",\"angularaxis\":{\"gridcolor\":\"white\",\"linecolor\":\"white\",\"ticks\":\"\"},\"radialaxis\":{\"gridcolor\":\"white\",\"linecolor\":\"white\",\"ticks\":\"\"}},\"ternary\":{\"bgcolor\":\"#E5ECF6\",\"aaxis\":{\"gridcolor\":\"white\",\"linecolor\":\"white\",\"ticks\":\"\"},\"baxis\":{\"gridcolor\":\"white\",\"linecolor\":\"white\",\"ticks\":\"\"},\"caxis\":{\"gridcolor\":\"white\",\"linecolor\":\"white\",\"ticks\":\"\"}},\"coloraxis\":{\"colorbar\":{\"outlinewidth\":0,\"ticks\":\"\"}},\"colorscale\":{\"sequential\":[[0.0,\"#0d0887\"],[0.1111111111111111,\"#46039f\"],[0.2222222222222222,\"#7201a8\"],[0.3333333333333333,\"#9c179e\"],[0.4444444444444444,\"#bd3786\"],[0.5555555555555556,\"#d8576b\"],[0.6666666666666666,\"#ed7953\"],[0.7777777777777778,\"#fb9f3a\"],[0.8888888888888888,\"#fdca26\"],[1.0,\"#f0f921\"]],\"sequentialminus\":[[0.0,\"#0d0887\"],[0.1111111111111111,\"#46039f\"],[0.2222222222222222,\"#7201a8\"],[0.3333333333333333,\"#9c179e\"],[0.4444444444444444,\"#bd3786\"],[0.5555555555555556,\"#d8576b\"],[0.6666666666666666,\"#ed7953\"],[0.7777777777777778,\"#fb9f3a\"],[0.8888888888888888,\"#fdca26\"],[1.0,\"#f0f921\"]],\"diverging\":[[0,\"#8e0152\"],[0.1,\"#c51b7d\"],[0.2,\"#de77ae\"],[0.3,\"#f1b6da\"],[0.4,\"#fde0ef\"],[0.5,\"#f7f7f7\"],[0.6,\"#e6f5d0\"],[0.7,\"#b8e186\"],[0.8,\"#7fbc41\"],[0.9,\"#4d9221\"],[1,\"#276419\"]]},\"xaxis\":{\"gridcolor\":\"white\",\"linecolor\":\"white\",\"ticks\":\"\",\"title\":{\"standoff\":15},\"zerolinecolor\":\"white\",\"automargin\":true,\"zerolinewidth\":2},\"yaxis\":{\"gridcolor\":\"white\",\"linecolor\":\"white\",\"ticks\":\"\",\"title\":{\"standoff\":15},\"zerolinecolor\":\"white\",\"automargin\":true,\"zerolinewidth\":2},\"scene\":{\"xaxis\":{\"backgroundcolor\":\"#E5ECF6\",\"gridcolor\":\"white\",\"linecolor\":\"white\",\"showbackground\":true,\"ticks\":\"\",\"zerolinecolor\":\"white\",\"gridwidth\":2},\"yaxis\":{\"backgroundcolor\":\"#E5ECF6\",\"gridcolor\":\"white\",\"linecolor\":\"white\",\"showbackground\":true,\"ticks\":\"\",\"zerolinecolor\":\"white\",\"gridwidth\":2},\"zaxis\":{\"backgroundcolor\":\"#E5ECF6\",\"gridcolor\":\"white\",\"linecolor\":\"white\",\"showbackground\":true,\"ticks\":\"\",\"zerolinecolor\":\"white\",\"gridwidth\":2}},\"shapedefaults\":{\"line\":{\"color\":\"#2a3f5f\"}},\"annotationdefaults\":{\"arrowcolor\":\"#2a3f5f\",\"arrowhead\":0,\"arrowwidth\":1},\"geo\":{\"bgcolor\":\"white\",\"landcolor\":\"#E5ECF6\",\"subunitcolor\":\"white\",\"showland\":true,\"showlakes\":true,\"lakecolor\":\"white\"},\"title\":{\"x\":0.05},\"mapbox\":{\"style\":\"light\"}}},\"xaxis\":{\"anchor\":\"y\",\"domain\":[0.0,0.8358],\"title\":{\"text\":\"Country\"}},\"yaxis\":{\"anchor\":\"x\",\"domain\":[0.0,0.7326],\"title\":{\"text\":\"VALUE\"}},\"xaxis2\":{\"anchor\":\"y2\",\"domain\":[0.8408,1.0],\"matches\":\"x2\",\"showticklabels\":false,\"showline\":false,\"ticks\":\"\",\"showgrid\":false},\"yaxis2\":{\"anchor\":\"x2\",\"domain\":[0.0,0.7326],\"matches\":\"y\",\"showticklabels\":false,\"showgrid\":true},\"xaxis3\":{\"anchor\":\"y3\",\"domain\":[0.0,0.8358],\"matches\":\"x\",\"showticklabels\":false,\"showgrid\":true},\"yaxis3\":{\"anchor\":\"x3\",\"domain\":[0.7426,1.0],\"matches\":\"y3\",\"showticklabels\":false,\"showline\":false,\"ticks\":\"\",\"showgrid\":true},\"xaxis4\":{\"anchor\":\"y4\",\"domain\":[0.8408,1.0],\"matches\":\"x2\",\"showticklabels\":false,\"showgrid\":false,\"showline\":false,\"ticks\":\"\"},\"yaxis4\":{\"anchor\":\"x4\",\"domain\":[0.7426,1.0],\"matches\":\"y3\",\"showticklabels\":false,\"showline\":false,\"ticks\":\"\",\"showgrid\":true},\"legend\":{\"tracegroupgap\":0},\"margin\":{\"t\":60},\"barmode\":\"overlay\"},                        {\"responsive\": true}                    ).then(function(){\n",
       "                            \n",
       "var gd = document.getElementById('5eddf7cc-1a2b-414f-b046-67ad0f2254ad');\n",
       "var x = new MutationObserver(function (mutations, observer) {{\n",
       "        var display = window.getComputedStyle(gd).display;\n",
       "        if (!display || display === 'none') {{\n",
       "            console.log([gd, 'removed!']);\n",
       "            Plotly.purge(gd);\n",
       "            observer.disconnect();\n",
       "        }}\n",
       "}});\n",
       "\n",
       "// Listen for the removal of the full notebook cells\n",
       "var notebookContainer = gd.closest('#notebook-container');\n",
       "if (notebookContainer) {{\n",
       "    x.observe(notebookContainer, {childList: true});\n",
       "}}\n",
       "\n",
       "// Listen for the clearing of the current output cell\n",
       "var outputEl = gd.closest('.output');\n",
       "if (outputEl) {{\n",
       "    x.observe(outputEl, {childList: true});\n",
       "}}\n",
       "\n",
       "                        })                };                });            </script>        </div>"
      ]
     },
     "metadata": {},
     "output_type": "display_data"
    }
   ],
   "source": [
    "import pandas as pd\n",
    "import matplotlib.pyplot as plt\n",
    "\n",
    "df = pd.read_csv('dataset_clean/homicide_clean.csv')\n",
    "df = df[df.Year == 2010]\n",
    "\n",
    "\n",
    "fig = px.scatter(df, x=\"Country\", y=\"VALUE\", marginal_x=\"histogram\", marginal_y=\"rug\")\n",
    "fig.show()\n"
   ]
  },
  {
   "cell_type": "code",
   "execution_count": 42,
   "id": "6942a8e5",
   "metadata": {
    "scrolled": true
   },
   "outputs": [
    {
     "data": {
      "application/vnd.plotly.v1+json": {
       "config": {
        "plotlyServerURL": "https://plot.ly"
       },
       "data": [
        {
         "coloraxis": "coloraxis",
         "hovertemplate": "Country=%{x}<br>VALUE=%{y}<br>count=%{z}<extra></extra>",
         "name": "",
         "type": "histogram2d",
         "x": [
          "Aruba",
          "Afghanistan",
          "Anguilla",
          "Albania",
          "Andorra",
          "United Arab Emirates",
          "Argentina",
          "Armenia",
          "American Samoa",
          "Antigua and Barbuda",
          "Australia",
          "Austria",
          "Azerbaijan",
          "Burkina Faso",
          "Bangladesh",
          "Bulgaria",
          "Bahrain",
          "Bahamas",
          "Bosnia and Herzegovina",
          "Belarus",
          "Belize",
          "Bermuda",
          "Brazil",
          "Barbados",
          "Brunei Darussalam",
          "Bhutan",
          "Botswana",
          "Canada",
          "Channel Island",
          "Switzerland",
          "Chile",
          "China",
          "Cameroon",
          "Colombia",
          "Costa Rica",
          "Cuba",
          "Cayman Islands",
          "Cyprus",
          "Czechia",
          "Germany",
          "Dominica",
          "Denmark",
          "Dominican Republic",
          "Algeria",
          "Ecuador",
          "Egypt",
          "Spain",
          "Estonia",
          "Finland",
          "Fiji",
          "France",
          "United Kingdom of Great Britain and Northern Ireland",
          "Georgia",
          "Ghana",
          "Gibraltar",
          "Greece",
          "Grenada",
          "Greenland",
          "Guatemala",
          "Guam",
          "Guyana",
          "China, Hong Kong Special Administrative Region",
          "Honduras",
          "Croatia",
          "Haiti",
          "Hungary",
          "India",
          "Ireland",
          "Iraq",
          "Iceland",
          "Israel",
          "Italy",
          "Jamaica",
          "Jordan",
          "Japan",
          "Kazakhstan",
          "Kenya",
          "Kyrgyzstan",
          "Cambodia",
          "Kiribati",
          "Saint Kitts and Nevis",
          "Republic of Korea",
          "Kuwait",
          "Lebanon",
          "Liberia",
          "Saint Lucia",
          "Liechtenstein",
          "Sri Lanka",
          "Lesotho",
          "Lithuania",
          "Luxembourg",
          "China, Macao Special Administrative Region",
          "Morocco",
          "Republic of Moldova",
          "Maldives",
          "Mexico",
          "North Macedonia",
          "Malta",
          "Myanmar",
          "Montenegro",
          "Mongolia",
          "Mozambique",
          "Mauritius",
          "Malawi",
          "Malaysia",
          "Namibia",
          "Nicaragua",
          "Netherlands",
          "Norway",
          "Nepal",
          "New Zealand",
          "Oman",
          "Pakistan",
          "Panama",
          "Philippines",
          "Papua New Guinea",
          "Poland",
          "Puerto Rico",
          "Paraguay",
          "State of Palestine",
          "Qatar",
          "Romania",
          "Russian Federation",
          "Rwanda",
          "Singapore",
          "Sierra Leone",
          "El Salvador",
          "San Marino",
          "Serbia",
          "Sao Tome and Principe",
          "Slovakia",
          "Slovenia",
          "Sweden",
          "Eswatini",
          "Seychelles",
          "Syrian Arab Republic",
          "Thailand",
          "Tajikistan",
          "Timor-Leste",
          "Tonga",
          "Trinidad and Tobago",
          "Tunisia",
          "Türkiye",
          "Tuvalu",
          "China, Taiwan Province of China",
          "United Republic of Tanzania",
          "Uganda",
          "Ukraine",
          "Uruguay",
          "United States of America",
          "Holy See",
          "Saint Vincent and the Grenadines",
          "Venezuela (Bolivarian Republic of)",
          "United States Virgin Islands",
          "Viet Nam",
          "Samoa",
          "Yemen",
          "South Africa",
          "Zambia",
          "Zimbabwe"
         ],
         "xaxis": "x",
         "xbingroup": "x",
         "y": [
          3.93449072935622,
          3.3681096075378,
          0,
          4.30796304921017,
          0,
          0.78362591429846,
          5.82945646358224,
          1.94625960183699,
          8.91519863062549,
          6.81585823014881,
          1.0426687589854,
          0.689659682673311,
          2.28066203411804,
          0.788198249930744,
          2.70234680592128,
          1.99326304028371,
          0.161178017897207,
          26.4836477562152,
          1.51127600811555,
          4.25663993369408,
          40.004341556448,
          10.7053281947758,
          26.717095855717,
          10.9878035380727,
          0.257311506455946,
          2.33405591814466,
          15.248305827671,
          1.62822732372785,
          0,
          0.665926122668202,
          3.17069021002804,
          0.979682650091451,
          4.91120598571296,
          34.1841604810009,
          11.5131589726941,
          4.49855257957249,
          15.8808582721626,
          0.719025504733435,
          0.977552917407029,
          0.981107785998394,
          21.1634239598177,
          0.756096160309668,
          25.5180004532178,
          0.705997765100146,
          17.4803815359739,
          2.22205456457373,
          0.854445688374367,
          5.25484891183339,
          2.21775606323326,
          2.32607906807968,
          1.26591266936055,
          1.19130534304701,
          4.56198147103654,
          1.70301280722129,
          2.97751972606819,
          1.61651193463414,
          9.41380251725079,
          19.4215897454006,
          40.7370396748692,
          1.88159735071093,
          18.6808641234005,
          0.50241705668585,
          74.9747489229593,
          1.43247839787919,
          6.80448649847155,
          1.39009486893823,
          3.76413425017975,
          1.2076419583122,
          9.04781817294795,
          0.624332744379444,
          2.04180361497246,
          0.891694785112682,
          51.486160292393,
          1.59745706868556,
          0.361748484929274,
          8.53419087902351,
          4.58236653964518,
          16.7641099769876,
          2.3127114235717,
          3.88613620907413,
          42.8475240252188,
          0.978157178925969,
          2.00542534403072,
          3.2908922638593,
          3.3150389439982,
          25.2739930611401,
          2.77808645405045,
          3.76571841961435,
          38.2847049096125,
          7.01063599913567,
          1.96893028017878,
          0.371598710552474,
          1.39441191435009,
          6.48541759971024,
          1.64055450742351,
          22.5754505573749,
          2.07655535203167,
          0.96558416635084,
          1.58297808057564,
          2.40277183759185,
          8.78708129925269,
          3.71840940299471,
          2.64433035538999,
          3.57643730309391,
          1.9143486386216,
          14.8191707210942,
          13.4785745608989,
          0.863157885903355,
          0.593547362418791,
          3.00963895179125,
          0.983968183503201,
          1.57820239459334,
          7.3512755993055,
          12.6280269174629,
          9.20005945930851,
          9.7530788541213,
          1.00183189135634,
          28.7722195560586,
          11.859762865562,
          0.789026223286531,
          0.215479044932229,
          1.29934456370843,
          11.6323421850625,
          2.89859749716565,
          0.370285919195817,
          2.54066783090562,
          64.4741155103829,
          0,
          1.44584884562316,
          3.32645865211895,
          1.51731225527557,
          0.734093658605339,
          0.969099877669777,
          19.53343269089,
          9.86052830519431,
          2.16734516741243,
          5.43790201632764,
          2.4045496736787,
          3.56647404658547,
          0.961714159317568,
          35.6136081629703,
          2.68917171160608,
          4.23631609067884,
          9.5047999239616,
          0.771965790616312,
          8.76731465720927,
          9.7446158222217,
          4.34136151823265,
          6.10251087065565,
          4.76422446313797,
          0,
          23.0925549602808,
          45.991654975949,
          52.787361197519,
          1.51874004143909,
          8.60474121240804,
          4.74630502960632,
          31.0307324523922,
          5.98266086706248,
          5.59942692109959
         ],
         "yaxis": "y",
         "ybingroup": "y"
        },
        {
         "alignmentgroup": "True",
         "hovertemplate": "VALUE=%{y}<extra></extra>",
         "legendgroup": "",
         "marker": {
          "color": "lightyellow"
         },
         "name": "",
         "offsetgroup": "",
         "scalegroup": "y",
         "showlegend": false,
         "type": "violin",
         "xaxis": "x2",
         "y": [
          3.93449072935622,
          3.3681096075378,
          0,
          4.30796304921017,
          0,
          0.78362591429846,
          5.82945646358224,
          1.94625960183699,
          8.91519863062549,
          6.81585823014881,
          1.0426687589854,
          0.689659682673311,
          2.28066203411804,
          0.788198249930744,
          2.70234680592128,
          1.99326304028371,
          0.161178017897207,
          26.4836477562152,
          1.51127600811555,
          4.25663993369408,
          40.004341556448,
          10.7053281947758,
          26.717095855717,
          10.9878035380727,
          0.257311506455946,
          2.33405591814466,
          15.248305827671,
          1.62822732372785,
          0,
          0.665926122668202,
          3.17069021002804,
          0.979682650091451,
          4.91120598571296,
          34.1841604810009,
          11.5131589726941,
          4.49855257957249,
          15.8808582721626,
          0.719025504733435,
          0.977552917407029,
          0.981107785998394,
          21.1634239598177,
          0.756096160309668,
          25.5180004532178,
          0.705997765100146,
          17.4803815359739,
          2.22205456457373,
          0.854445688374367,
          5.25484891183339,
          2.21775606323326,
          2.32607906807968,
          1.26591266936055,
          1.19130534304701,
          4.56198147103654,
          1.70301280722129,
          2.97751972606819,
          1.61651193463414,
          9.41380251725079,
          19.4215897454006,
          40.7370396748692,
          1.88159735071093,
          18.6808641234005,
          0.50241705668585,
          74.9747489229593,
          1.43247839787919,
          6.80448649847155,
          1.39009486893823,
          3.76413425017975,
          1.2076419583122,
          9.04781817294795,
          0.624332744379444,
          2.04180361497246,
          0.891694785112682,
          51.486160292393,
          1.59745706868556,
          0.361748484929274,
          8.53419087902351,
          4.58236653964518,
          16.7641099769876,
          2.3127114235717,
          3.88613620907413,
          42.8475240252188,
          0.978157178925969,
          2.00542534403072,
          3.2908922638593,
          3.3150389439982,
          25.2739930611401,
          2.77808645405045,
          3.76571841961435,
          38.2847049096125,
          7.01063599913567,
          1.96893028017878,
          0.371598710552474,
          1.39441191435009,
          6.48541759971024,
          1.64055450742351,
          22.5754505573749,
          2.07655535203167,
          0.96558416635084,
          1.58297808057564,
          2.40277183759185,
          8.78708129925269,
          3.71840940299471,
          2.64433035538999,
          3.57643730309391,
          1.9143486386216,
          14.8191707210942,
          13.4785745608989,
          0.863157885903355,
          0.593547362418791,
          3.00963895179125,
          0.983968183503201,
          1.57820239459334,
          7.3512755993055,
          12.6280269174629,
          9.20005945930851,
          9.7530788541213,
          1.00183189135634,
          28.7722195560586,
          11.859762865562,
          0.789026223286531,
          0.215479044932229,
          1.29934456370843,
          11.6323421850625,
          2.89859749716565,
          0.370285919195817,
          2.54066783090562,
          64.4741155103829,
          0,
          1.44584884562316,
          3.32645865211895,
          1.51731225527557,
          0.734093658605339,
          0.969099877669777,
          19.53343269089,
          9.86052830519431,
          2.16734516741243,
          5.43790201632764,
          2.4045496736787,
          3.56647404658547,
          0.961714159317568,
          35.6136081629703,
          2.68917171160608,
          4.23631609067884,
          9.5047999239616,
          0.771965790616312,
          8.76731465720927,
          9.7446158222217,
          4.34136151823265,
          6.10251087065565,
          4.76422446313797,
          0,
          23.0925549602808,
          45.991654975949,
          52.787361197519,
          1.51874004143909,
          8.60474121240804,
          4.74630502960632,
          31.0307324523922,
          5.98266086706248,
          5.59942692109959
         ],
         "yaxis": "y2"
        }
       ],
       "layout": {
        "coloraxis": {
         "colorbar": {
          "title": {
           "text": "count"
          }
         },
         "colorscale": [
          [
           0,
           "lightyellow"
          ],
          [
           0.5,
           "orange"
          ],
          [
           1,
           "red"
          ]
         ]
        },
        "legend": {
         "tracegroupgap": 0
        },
        "margin": {
         "t": 60
        },
        "template": {
         "data": {
          "bar": [
           {
            "error_x": {
             "color": "#2a3f5f"
            },
            "error_y": {
             "color": "#2a3f5f"
            },
            "marker": {
             "line": {
              "color": "#E5ECF6",
              "width": 0.5
             },
             "pattern": {
              "fillmode": "overlay",
              "size": 10,
              "solidity": 0.2
             }
            },
            "type": "bar"
           }
          ],
          "barpolar": [
           {
            "marker": {
             "line": {
              "color": "#E5ECF6",
              "width": 0.5
             },
             "pattern": {
              "fillmode": "overlay",
              "size": 10,
              "solidity": 0.2
             }
            },
            "type": "barpolar"
           }
          ],
          "carpet": [
           {
            "aaxis": {
             "endlinecolor": "#2a3f5f",
             "gridcolor": "white",
             "linecolor": "white",
             "minorgridcolor": "white",
             "startlinecolor": "#2a3f5f"
            },
            "baxis": {
             "endlinecolor": "#2a3f5f",
             "gridcolor": "white",
             "linecolor": "white",
             "minorgridcolor": "white",
             "startlinecolor": "#2a3f5f"
            },
            "type": "carpet"
           }
          ],
          "choropleth": [
           {
            "colorbar": {
             "outlinewidth": 0,
             "ticks": ""
            },
            "type": "choropleth"
           }
          ],
          "contour": [
           {
            "colorbar": {
             "outlinewidth": 0,
             "ticks": ""
            },
            "colorscale": [
             [
              0,
              "#0d0887"
             ],
             [
              0.1111111111111111,
              "#46039f"
             ],
             [
              0.2222222222222222,
              "#7201a8"
             ],
             [
              0.3333333333333333,
              "#9c179e"
             ],
             [
              0.4444444444444444,
              "#bd3786"
             ],
             [
              0.5555555555555556,
              "#d8576b"
             ],
             [
              0.6666666666666666,
              "#ed7953"
             ],
             [
              0.7777777777777778,
              "#fb9f3a"
             ],
             [
              0.8888888888888888,
              "#fdca26"
             ],
             [
              1,
              "#f0f921"
             ]
            ],
            "type": "contour"
           }
          ],
          "contourcarpet": [
           {
            "colorbar": {
             "outlinewidth": 0,
             "ticks": ""
            },
            "type": "contourcarpet"
           }
          ],
          "heatmap": [
           {
            "colorbar": {
             "outlinewidth": 0,
             "ticks": ""
            },
            "colorscale": [
             [
              0,
              "#0d0887"
             ],
             [
              0.1111111111111111,
              "#46039f"
             ],
             [
              0.2222222222222222,
              "#7201a8"
             ],
             [
              0.3333333333333333,
              "#9c179e"
             ],
             [
              0.4444444444444444,
              "#bd3786"
             ],
             [
              0.5555555555555556,
              "#d8576b"
             ],
             [
              0.6666666666666666,
              "#ed7953"
             ],
             [
              0.7777777777777778,
              "#fb9f3a"
             ],
             [
              0.8888888888888888,
              "#fdca26"
             ],
             [
              1,
              "#f0f921"
             ]
            ],
            "type": "heatmap"
           }
          ],
          "heatmapgl": [
           {
            "colorbar": {
             "outlinewidth": 0,
             "ticks": ""
            },
            "colorscale": [
             [
              0,
              "#0d0887"
             ],
             [
              0.1111111111111111,
              "#46039f"
             ],
             [
              0.2222222222222222,
              "#7201a8"
             ],
             [
              0.3333333333333333,
              "#9c179e"
             ],
             [
              0.4444444444444444,
              "#bd3786"
             ],
             [
              0.5555555555555556,
              "#d8576b"
             ],
             [
              0.6666666666666666,
              "#ed7953"
             ],
             [
              0.7777777777777778,
              "#fb9f3a"
             ],
             [
              0.8888888888888888,
              "#fdca26"
             ],
             [
              1,
              "#f0f921"
             ]
            ],
            "type": "heatmapgl"
           }
          ],
          "histogram": [
           {
            "marker": {
             "pattern": {
              "fillmode": "overlay",
              "size": 10,
              "solidity": 0.2
             }
            },
            "type": "histogram"
           }
          ],
          "histogram2d": [
           {
            "colorbar": {
             "outlinewidth": 0,
             "ticks": ""
            },
            "colorscale": [
             [
              0,
              "#0d0887"
             ],
             [
              0.1111111111111111,
              "#46039f"
             ],
             [
              0.2222222222222222,
              "#7201a8"
             ],
             [
              0.3333333333333333,
              "#9c179e"
             ],
             [
              0.4444444444444444,
              "#bd3786"
             ],
             [
              0.5555555555555556,
              "#d8576b"
             ],
             [
              0.6666666666666666,
              "#ed7953"
             ],
             [
              0.7777777777777778,
              "#fb9f3a"
             ],
             [
              0.8888888888888888,
              "#fdca26"
             ],
             [
              1,
              "#f0f921"
             ]
            ],
            "type": "histogram2d"
           }
          ],
          "histogram2dcontour": [
           {
            "colorbar": {
             "outlinewidth": 0,
             "ticks": ""
            },
            "colorscale": [
             [
              0,
              "#0d0887"
             ],
             [
              0.1111111111111111,
              "#46039f"
             ],
             [
              0.2222222222222222,
              "#7201a8"
             ],
             [
              0.3333333333333333,
              "#9c179e"
             ],
             [
              0.4444444444444444,
              "#bd3786"
             ],
             [
              0.5555555555555556,
              "#d8576b"
             ],
             [
              0.6666666666666666,
              "#ed7953"
             ],
             [
              0.7777777777777778,
              "#fb9f3a"
             ],
             [
              0.8888888888888888,
              "#fdca26"
             ],
             [
              1,
              "#f0f921"
             ]
            ],
            "type": "histogram2dcontour"
           }
          ],
          "mesh3d": [
           {
            "colorbar": {
             "outlinewidth": 0,
             "ticks": ""
            },
            "type": "mesh3d"
           }
          ],
          "parcoords": [
           {
            "line": {
             "colorbar": {
              "outlinewidth": 0,
              "ticks": ""
             }
            },
            "type": "parcoords"
           }
          ],
          "pie": [
           {
            "automargin": true,
            "type": "pie"
           }
          ],
          "scatter": [
           {
            "fillpattern": {
             "fillmode": "overlay",
             "size": 10,
             "solidity": 0.2
            },
            "type": "scatter"
           }
          ],
          "scatter3d": [
           {
            "line": {
             "colorbar": {
              "outlinewidth": 0,
              "ticks": ""
             }
            },
            "marker": {
             "colorbar": {
              "outlinewidth": 0,
              "ticks": ""
             }
            },
            "type": "scatter3d"
           }
          ],
          "scattercarpet": [
           {
            "marker": {
             "colorbar": {
              "outlinewidth": 0,
              "ticks": ""
             }
            },
            "type": "scattercarpet"
           }
          ],
          "scattergeo": [
           {
            "marker": {
             "colorbar": {
              "outlinewidth": 0,
              "ticks": ""
             }
            },
            "type": "scattergeo"
           }
          ],
          "scattergl": [
           {
            "marker": {
             "colorbar": {
              "outlinewidth": 0,
              "ticks": ""
             }
            },
            "type": "scattergl"
           }
          ],
          "scattermapbox": [
           {
            "marker": {
             "colorbar": {
              "outlinewidth": 0,
              "ticks": ""
             }
            },
            "type": "scattermapbox"
           }
          ],
          "scatterpolar": [
           {
            "marker": {
             "colorbar": {
              "outlinewidth": 0,
              "ticks": ""
             }
            },
            "type": "scatterpolar"
           }
          ],
          "scatterpolargl": [
           {
            "marker": {
             "colorbar": {
              "outlinewidth": 0,
              "ticks": ""
             }
            },
            "type": "scatterpolargl"
           }
          ],
          "scatterternary": [
           {
            "marker": {
             "colorbar": {
              "outlinewidth": 0,
              "ticks": ""
             }
            },
            "type": "scatterternary"
           }
          ],
          "surface": [
           {
            "colorbar": {
             "outlinewidth": 0,
             "ticks": ""
            },
            "colorscale": [
             [
              0,
              "#0d0887"
             ],
             [
              0.1111111111111111,
              "#46039f"
             ],
             [
              0.2222222222222222,
              "#7201a8"
             ],
             [
              0.3333333333333333,
              "#9c179e"
             ],
             [
              0.4444444444444444,
              "#bd3786"
             ],
             [
              0.5555555555555556,
              "#d8576b"
             ],
             [
              0.6666666666666666,
              "#ed7953"
             ],
             [
              0.7777777777777778,
              "#fb9f3a"
             ],
             [
              0.8888888888888888,
              "#fdca26"
             ],
             [
              1,
              "#f0f921"
             ]
            ],
            "type": "surface"
           }
          ],
          "table": [
           {
            "cells": {
             "fill": {
              "color": "#EBF0F8"
             },
             "line": {
              "color": "white"
             }
            },
            "header": {
             "fill": {
              "color": "#C8D4E3"
             },
             "line": {
              "color": "white"
             }
            },
            "type": "table"
           }
          ]
         },
         "layout": {
          "annotationdefaults": {
           "arrowcolor": "#2a3f5f",
           "arrowhead": 0,
           "arrowwidth": 1
          },
          "autotypenumbers": "strict",
          "coloraxis": {
           "colorbar": {
            "outlinewidth": 0,
            "ticks": ""
           }
          },
          "colorscale": {
           "diverging": [
            [
             0,
             "#8e0152"
            ],
            [
             0.1,
             "#c51b7d"
            ],
            [
             0.2,
             "#de77ae"
            ],
            [
             0.3,
             "#f1b6da"
            ],
            [
             0.4,
             "#fde0ef"
            ],
            [
             0.5,
             "#f7f7f7"
            ],
            [
             0.6,
             "#e6f5d0"
            ],
            [
             0.7,
             "#b8e186"
            ],
            [
             0.8,
             "#7fbc41"
            ],
            [
             0.9,
             "#4d9221"
            ],
            [
             1,
             "#276419"
            ]
           ],
           "sequential": [
            [
             0,
             "#0d0887"
            ],
            [
             0.1111111111111111,
             "#46039f"
            ],
            [
             0.2222222222222222,
             "#7201a8"
            ],
            [
             0.3333333333333333,
             "#9c179e"
            ],
            [
             0.4444444444444444,
             "#bd3786"
            ],
            [
             0.5555555555555556,
             "#d8576b"
            ],
            [
             0.6666666666666666,
             "#ed7953"
            ],
            [
             0.7777777777777778,
             "#fb9f3a"
            ],
            [
             0.8888888888888888,
             "#fdca26"
            ],
            [
             1,
             "#f0f921"
            ]
           ],
           "sequentialminus": [
            [
             0,
             "#0d0887"
            ],
            [
             0.1111111111111111,
             "#46039f"
            ],
            [
             0.2222222222222222,
             "#7201a8"
            ],
            [
             0.3333333333333333,
             "#9c179e"
            ],
            [
             0.4444444444444444,
             "#bd3786"
            ],
            [
             0.5555555555555556,
             "#d8576b"
            ],
            [
             0.6666666666666666,
             "#ed7953"
            ],
            [
             0.7777777777777778,
             "#fb9f3a"
            ],
            [
             0.8888888888888888,
             "#fdca26"
            ],
            [
             1,
             "#f0f921"
            ]
           ]
          },
          "colorway": [
           "#636efa",
           "#EF553B",
           "#00cc96",
           "#ab63fa",
           "#FFA15A",
           "#19d3f3",
           "#FF6692",
           "#B6E880",
           "#FF97FF",
           "#FECB52"
          ],
          "font": {
           "color": "#2a3f5f"
          },
          "geo": {
           "bgcolor": "white",
           "lakecolor": "white",
           "landcolor": "#E5ECF6",
           "showlakes": true,
           "showland": true,
           "subunitcolor": "white"
          },
          "hoverlabel": {
           "align": "left"
          },
          "hovermode": "closest",
          "mapbox": {
           "style": "light"
          },
          "paper_bgcolor": "white",
          "plot_bgcolor": "#E5ECF6",
          "polar": {
           "angularaxis": {
            "gridcolor": "white",
            "linecolor": "white",
            "ticks": ""
           },
           "bgcolor": "#E5ECF6",
           "radialaxis": {
            "gridcolor": "white",
            "linecolor": "white",
            "ticks": ""
           }
          },
          "scene": {
           "xaxis": {
            "backgroundcolor": "#E5ECF6",
            "gridcolor": "white",
            "gridwidth": 2,
            "linecolor": "white",
            "showbackground": true,
            "ticks": "",
            "zerolinecolor": "white"
           },
           "yaxis": {
            "backgroundcolor": "#E5ECF6",
            "gridcolor": "white",
            "gridwidth": 2,
            "linecolor": "white",
            "showbackground": true,
            "ticks": "",
            "zerolinecolor": "white"
           },
           "zaxis": {
            "backgroundcolor": "#E5ECF6",
            "gridcolor": "white",
            "gridwidth": 2,
            "linecolor": "white",
            "showbackground": true,
            "ticks": "",
            "zerolinecolor": "white"
           }
          },
          "shapedefaults": {
           "line": {
            "color": "#2a3f5f"
           }
          },
          "ternary": {
           "aaxis": {
            "gridcolor": "white",
            "linecolor": "white",
            "ticks": ""
           },
           "baxis": {
            "gridcolor": "white",
            "linecolor": "white",
            "ticks": ""
           },
           "bgcolor": "#E5ECF6",
           "caxis": {
            "gridcolor": "white",
            "linecolor": "white",
            "ticks": ""
           }
          },
          "title": {
           "x": 0.05
          },
          "xaxis": {
           "automargin": true,
           "gridcolor": "white",
           "linecolor": "white",
           "ticks": "",
           "title": {
            "standoff": 15
           },
           "zerolinecolor": "white",
           "zerolinewidth": 2
          },
          "yaxis": {
           "automargin": true,
           "gridcolor": "white",
           "linecolor": "white",
           "ticks": "",
           "title": {
            "standoff": 15
           },
           "zerolinecolor": "white",
           "zerolinewidth": 2
          }
         }
        },
        "xaxis": {
         "anchor": "y",
         "domain": [
          0,
          0.8358
         ],
         "title": {
          "text": "Country"
         }
        },
        "xaxis2": {
         "anchor": "y2",
         "domain": [
          0.8408,
          1
         ],
         "matches": "x2",
         "showgrid": false,
         "showline": false,
         "showticklabels": false,
         "ticks": ""
        },
        "xaxis3": {
         "anchor": "y3",
         "domain": [
          0,
          0.8358
         ],
         "matches": "x",
         "showticklabels": false
        },
        "xaxis4": {
         "anchor": "y4",
         "domain": [
          0.8408,
          1
         ],
         "matches": "x2",
         "showgrid": false,
         "showline": false,
         "showticklabels": false,
         "ticks": ""
        },
        "yaxis": {
         "anchor": "x",
         "domain": [
          0,
          0.8316
         ],
         "title": {
          "text": "VALUE"
         }
        },
        "yaxis2": {
         "anchor": "x2",
         "domain": [
          0,
          0.8316
         ],
         "matches": "y",
         "showgrid": true,
         "showticklabels": false
        },
        "yaxis3": {
         "anchor": "x3",
         "domain": [
          0.8416,
          1
         ],
         "matches": "y",
         "title": {
          "text": "VALUE"
         }
        },
        "yaxis4": {
         "anchor": "x4",
         "domain": [
          0.8416,
          1
         ],
         "matches": "y",
         "showgrid": true,
         "showticklabels": false
        }
       }
      },
      "text/html": [
       "<div>                            <div id=\"e77a08fe-04a1-469c-b153-fd15a2bdcfe9\" class=\"plotly-graph-div\" style=\"height:525px; width:100%;\"></div>            <script type=\"text/javascript\">                require([\"plotly\"], function(Plotly) {                    window.PLOTLYENV=window.PLOTLYENV || {};                                    if (document.getElementById(\"e77a08fe-04a1-469c-b153-fd15a2bdcfe9\")) {                    Plotly.newPlot(                        \"e77a08fe-04a1-469c-b153-fd15a2bdcfe9\",                        [{\"coloraxis\":\"coloraxis\",\"hovertemplate\":\"Country=%{x}<br>VALUE=%{y}<br>count=%{z}<extra></extra>\",\"name\":\"\",\"x\":[\"Aruba\",\"Afghanistan\",\"Anguilla\",\"Albania\",\"Andorra\",\"United Arab Emirates\",\"Argentina\",\"Armenia\",\"American Samoa\",\"Antigua and Barbuda\",\"Australia\",\"Austria\",\"Azerbaijan\",\"Burkina Faso\",\"Bangladesh\",\"Bulgaria\",\"Bahrain\",\"Bahamas\",\"Bosnia and Herzegovina\",\"Belarus\",\"Belize\",\"Bermuda\",\"Brazil\",\"Barbados\",\"Brunei Darussalam\",\"Bhutan\",\"Botswana\",\"Canada\",\"Channel Island\",\"Switzerland\",\"Chile\",\"China\",\"Cameroon\",\"Colombia\",\"Costa Rica\",\"Cuba\",\"Cayman Islands\",\"Cyprus\",\"Czechia\",\"Germany\",\"Dominica\",\"Denmark\",\"Dominican Republic\",\"Algeria\",\"Ecuador\",\"Egypt\",\"Spain\",\"Estonia\",\"Finland\",\"Fiji\",\"France\",\"United Kingdom of Great Britain and Northern Ireland\",\"Georgia\",\"Ghana\",\"Gibraltar\",\"Greece\",\"Grenada\",\"Greenland\",\"Guatemala\",\"Guam\",\"Guyana\",\"China, Hong Kong Special Administrative Region\",\"Honduras\",\"Croatia\",\"Haiti\",\"Hungary\",\"India\",\"Ireland\",\"Iraq\",\"Iceland\",\"Israel\",\"Italy\",\"Jamaica\",\"Jordan\",\"Japan\",\"Kazakhstan\",\"Kenya\",\"Kyrgyzstan\",\"Cambodia\",\"Kiribati\",\"Saint Kitts and Nevis\",\"Republic of Korea\",\"Kuwait\",\"Lebanon\",\"Liberia\",\"Saint Lucia\",\"Liechtenstein\",\"Sri Lanka\",\"Lesotho\",\"Lithuania\",\"Luxembourg\",\"China, Macao Special Administrative Region\",\"Morocco\",\"Republic of Moldova\",\"Maldives\",\"Mexico\",\"North Macedonia\",\"Malta\",\"Myanmar\",\"Montenegro\",\"Mongolia\",\"Mozambique\",\"Mauritius\",\"Malawi\",\"Malaysia\",\"Namibia\",\"Nicaragua\",\"Netherlands\",\"Norway\",\"Nepal\",\"New Zealand\",\"Oman\",\"Pakistan\",\"Panama\",\"Philippines\",\"Papua New Guinea\",\"Poland\",\"Puerto Rico\",\"Paraguay\",\"State of Palestine\",\"Qatar\",\"Romania\",\"Russian Federation\",\"Rwanda\",\"Singapore\",\"Sierra Leone\",\"El Salvador\",\"San Marino\",\"Serbia\",\"Sao Tome and Principe\",\"Slovakia\",\"Slovenia\",\"Sweden\",\"Eswatini\",\"Seychelles\",\"Syrian Arab Republic\",\"Thailand\",\"Tajikistan\",\"Timor-Leste\",\"Tonga\",\"Trinidad and Tobago\",\"Tunisia\",\"T\\u00fcrkiye\",\"Tuvalu\",\"China, Taiwan Province of China\",\"United Republic of Tanzania\",\"Uganda\",\"Ukraine\",\"Uruguay\",\"United States of America\",\"Holy See\",\"Saint Vincent and the Grenadines\",\"Venezuela (Bolivarian Republic of)\",\"United States Virgin Islands\",\"Viet Nam\",\"Samoa\",\"Yemen\",\"South Africa\",\"Zambia\",\"Zimbabwe\"],\"xaxis\":\"x\",\"xbingroup\":\"x\",\"y\":[3.93449072935622,3.3681096075378,0.0,4.30796304921017,0.0,0.78362591429846,5.82945646358224,1.94625960183699,8.91519863062549,6.81585823014881,1.0426687589854,0.689659682673311,2.28066203411804,0.788198249930744,2.70234680592128,1.99326304028371,0.161178017897207,26.4836477562152,1.51127600811555,4.25663993369408,40.004341556448,10.7053281947758,26.717095855717,10.9878035380727,0.257311506455946,2.33405591814466,15.248305827671,1.62822732372785,0.0,0.665926122668202,3.17069021002804,0.979682650091451,4.91120598571296,34.1841604810009,11.5131589726941,4.49855257957249,15.8808582721626,0.719025504733435,0.977552917407029,0.981107785998394,21.1634239598177,0.756096160309668,25.5180004532178,0.705997765100146,17.4803815359739,2.22205456457373,0.854445688374367,5.25484891183339,2.21775606323326,2.32607906807968,1.26591266936055,1.19130534304701,4.56198147103654,1.70301280722129,2.97751972606819,1.61651193463414,9.41380251725079,19.4215897454006,40.7370396748692,1.88159735071093,18.6808641234005,0.50241705668585,74.9747489229593,1.43247839787919,6.80448649847155,1.39009486893823,3.76413425017975,1.2076419583122,9.04781817294795,0.624332744379444,2.04180361497246,0.891694785112682,51.486160292393,1.59745706868556,0.361748484929274,8.53419087902351,4.58236653964518,16.7641099769876,2.3127114235717,3.88613620907413,42.8475240252188,0.978157178925969,2.00542534403072,3.2908922638593,3.3150389439982,25.2739930611401,2.77808645405045,3.76571841961435,38.2847049096125,7.01063599913567,1.96893028017878,0.371598710552474,1.39441191435009,6.48541759971024,1.64055450742351,22.5754505573749,2.07655535203167,0.96558416635084,1.58297808057564,2.40277183759185,8.78708129925269,3.71840940299471,2.64433035538999,3.57643730309391,1.9143486386216,14.8191707210942,13.4785745608989,0.863157885903355,0.593547362418791,3.00963895179125,0.983968183503201,1.57820239459334,7.3512755993055,12.6280269174629,9.20005945930851,9.7530788541213,1.00183189135634,28.7722195560586,11.859762865562,0.789026223286531,0.215479044932229,1.29934456370843,11.6323421850625,2.89859749716565,0.370285919195817,2.54066783090562,64.4741155103829,0.0,1.44584884562316,3.32645865211895,1.51731225527557,0.734093658605339,0.969099877669777,19.53343269089,9.86052830519431,2.16734516741243,5.43790201632764,2.4045496736787,3.56647404658547,0.961714159317568,35.6136081629703,2.68917171160608,4.23631609067884,9.5047999239616,0.771965790616312,8.76731465720927,9.7446158222217,4.34136151823265,6.10251087065565,4.76422446313797,0.0,23.0925549602808,45.991654975949,52.787361197519,1.51874004143909,8.60474121240804,4.74630502960632,31.0307324523922,5.98266086706248,5.59942692109959],\"yaxis\":\"y\",\"ybingroup\":\"y\",\"type\":\"histogram2d\"},{\"alignmentgroup\":\"True\",\"hovertemplate\":\"VALUE=%{y}<extra></extra>\",\"legendgroup\":\"\",\"marker\":{\"color\":\"lightyellow\"},\"name\":\"\",\"offsetgroup\":\"\",\"scalegroup\":\"y\",\"showlegend\":false,\"xaxis\":\"x2\",\"y\":[3.93449072935622,3.3681096075378,0.0,4.30796304921017,0.0,0.78362591429846,5.82945646358224,1.94625960183699,8.91519863062549,6.81585823014881,1.0426687589854,0.689659682673311,2.28066203411804,0.788198249930744,2.70234680592128,1.99326304028371,0.161178017897207,26.4836477562152,1.51127600811555,4.25663993369408,40.004341556448,10.7053281947758,26.717095855717,10.9878035380727,0.257311506455946,2.33405591814466,15.248305827671,1.62822732372785,0.0,0.665926122668202,3.17069021002804,0.979682650091451,4.91120598571296,34.1841604810009,11.5131589726941,4.49855257957249,15.8808582721626,0.719025504733435,0.977552917407029,0.981107785998394,21.1634239598177,0.756096160309668,25.5180004532178,0.705997765100146,17.4803815359739,2.22205456457373,0.854445688374367,5.25484891183339,2.21775606323326,2.32607906807968,1.26591266936055,1.19130534304701,4.56198147103654,1.70301280722129,2.97751972606819,1.61651193463414,9.41380251725079,19.4215897454006,40.7370396748692,1.88159735071093,18.6808641234005,0.50241705668585,74.9747489229593,1.43247839787919,6.80448649847155,1.39009486893823,3.76413425017975,1.2076419583122,9.04781817294795,0.624332744379444,2.04180361497246,0.891694785112682,51.486160292393,1.59745706868556,0.361748484929274,8.53419087902351,4.58236653964518,16.7641099769876,2.3127114235717,3.88613620907413,42.8475240252188,0.978157178925969,2.00542534403072,3.2908922638593,3.3150389439982,25.2739930611401,2.77808645405045,3.76571841961435,38.2847049096125,7.01063599913567,1.96893028017878,0.371598710552474,1.39441191435009,6.48541759971024,1.64055450742351,22.5754505573749,2.07655535203167,0.96558416635084,1.58297808057564,2.40277183759185,8.78708129925269,3.71840940299471,2.64433035538999,3.57643730309391,1.9143486386216,14.8191707210942,13.4785745608989,0.863157885903355,0.593547362418791,3.00963895179125,0.983968183503201,1.57820239459334,7.3512755993055,12.6280269174629,9.20005945930851,9.7530788541213,1.00183189135634,28.7722195560586,11.859762865562,0.789026223286531,0.215479044932229,1.29934456370843,11.6323421850625,2.89859749716565,0.370285919195817,2.54066783090562,64.4741155103829,0.0,1.44584884562316,3.32645865211895,1.51731225527557,0.734093658605339,0.969099877669777,19.53343269089,9.86052830519431,2.16734516741243,5.43790201632764,2.4045496736787,3.56647404658547,0.961714159317568,35.6136081629703,2.68917171160608,4.23631609067884,9.5047999239616,0.771965790616312,8.76731465720927,9.7446158222217,4.34136151823265,6.10251087065565,4.76422446313797,0.0,23.0925549602808,45.991654975949,52.787361197519,1.51874004143909,8.60474121240804,4.74630502960632,31.0307324523922,5.98266086706248,5.59942692109959],\"yaxis\":\"y2\",\"type\":\"violin\"}],                        {\"template\":{\"data\":{\"histogram2dcontour\":[{\"type\":\"histogram2dcontour\",\"colorbar\":{\"outlinewidth\":0,\"ticks\":\"\"},\"colorscale\":[[0.0,\"#0d0887\"],[0.1111111111111111,\"#46039f\"],[0.2222222222222222,\"#7201a8\"],[0.3333333333333333,\"#9c179e\"],[0.4444444444444444,\"#bd3786\"],[0.5555555555555556,\"#d8576b\"],[0.6666666666666666,\"#ed7953\"],[0.7777777777777778,\"#fb9f3a\"],[0.8888888888888888,\"#fdca26\"],[1.0,\"#f0f921\"]]}],\"choropleth\":[{\"type\":\"choropleth\",\"colorbar\":{\"outlinewidth\":0,\"ticks\":\"\"}}],\"histogram2d\":[{\"type\":\"histogram2d\",\"colorbar\":{\"outlinewidth\":0,\"ticks\":\"\"},\"colorscale\":[[0.0,\"#0d0887\"],[0.1111111111111111,\"#46039f\"],[0.2222222222222222,\"#7201a8\"],[0.3333333333333333,\"#9c179e\"],[0.4444444444444444,\"#bd3786\"],[0.5555555555555556,\"#d8576b\"],[0.6666666666666666,\"#ed7953\"],[0.7777777777777778,\"#fb9f3a\"],[0.8888888888888888,\"#fdca26\"],[1.0,\"#f0f921\"]]}],\"heatmap\":[{\"type\":\"heatmap\",\"colorbar\":{\"outlinewidth\":0,\"ticks\":\"\"},\"colorscale\":[[0.0,\"#0d0887\"],[0.1111111111111111,\"#46039f\"],[0.2222222222222222,\"#7201a8\"],[0.3333333333333333,\"#9c179e\"],[0.4444444444444444,\"#bd3786\"],[0.5555555555555556,\"#d8576b\"],[0.6666666666666666,\"#ed7953\"],[0.7777777777777778,\"#fb9f3a\"],[0.8888888888888888,\"#fdca26\"],[1.0,\"#f0f921\"]]}],\"heatmapgl\":[{\"type\":\"heatmapgl\",\"colorbar\":{\"outlinewidth\":0,\"ticks\":\"\"},\"colorscale\":[[0.0,\"#0d0887\"],[0.1111111111111111,\"#46039f\"],[0.2222222222222222,\"#7201a8\"],[0.3333333333333333,\"#9c179e\"],[0.4444444444444444,\"#bd3786\"],[0.5555555555555556,\"#d8576b\"],[0.6666666666666666,\"#ed7953\"],[0.7777777777777778,\"#fb9f3a\"],[0.8888888888888888,\"#fdca26\"],[1.0,\"#f0f921\"]]}],\"contourcarpet\":[{\"type\":\"contourcarpet\",\"colorbar\":{\"outlinewidth\":0,\"ticks\":\"\"}}],\"contour\":[{\"type\":\"contour\",\"colorbar\":{\"outlinewidth\":0,\"ticks\":\"\"},\"colorscale\":[[0.0,\"#0d0887\"],[0.1111111111111111,\"#46039f\"],[0.2222222222222222,\"#7201a8\"],[0.3333333333333333,\"#9c179e\"],[0.4444444444444444,\"#bd3786\"],[0.5555555555555556,\"#d8576b\"],[0.6666666666666666,\"#ed7953\"],[0.7777777777777778,\"#fb9f3a\"],[0.8888888888888888,\"#fdca26\"],[1.0,\"#f0f921\"]]}],\"surface\":[{\"type\":\"surface\",\"colorbar\":{\"outlinewidth\":0,\"ticks\":\"\"},\"colorscale\":[[0.0,\"#0d0887\"],[0.1111111111111111,\"#46039f\"],[0.2222222222222222,\"#7201a8\"],[0.3333333333333333,\"#9c179e\"],[0.4444444444444444,\"#bd3786\"],[0.5555555555555556,\"#d8576b\"],[0.6666666666666666,\"#ed7953\"],[0.7777777777777778,\"#fb9f3a\"],[0.8888888888888888,\"#fdca26\"],[1.0,\"#f0f921\"]]}],\"mesh3d\":[{\"type\":\"mesh3d\",\"colorbar\":{\"outlinewidth\":0,\"ticks\":\"\"}}],\"scatter\":[{\"fillpattern\":{\"fillmode\":\"overlay\",\"size\":10,\"solidity\":0.2},\"type\":\"scatter\"}],\"parcoords\":[{\"type\":\"parcoords\",\"line\":{\"colorbar\":{\"outlinewidth\":0,\"ticks\":\"\"}}}],\"scatterpolargl\":[{\"type\":\"scatterpolargl\",\"marker\":{\"colorbar\":{\"outlinewidth\":0,\"ticks\":\"\"}}}],\"bar\":[{\"error_x\":{\"color\":\"#2a3f5f\"},\"error_y\":{\"color\":\"#2a3f5f\"},\"marker\":{\"line\":{\"color\":\"#E5ECF6\",\"width\":0.5},\"pattern\":{\"fillmode\":\"overlay\",\"size\":10,\"solidity\":0.2}},\"type\":\"bar\"}],\"scattergeo\":[{\"type\":\"scattergeo\",\"marker\":{\"colorbar\":{\"outlinewidth\":0,\"ticks\":\"\"}}}],\"scatterpolar\":[{\"type\":\"scatterpolar\",\"marker\":{\"colorbar\":{\"outlinewidth\":0,\"ticks\":\"\"}}}],\"histogram\":[{\"marker\":{\"pattern\":{\"fillmode\":\"overlay\",\"size\":10,\"solidity\":0.2}},\"type\":\"histogram\"}],\"scattergl\":[{\"type\":\"scattergl\",\"marker\":{\"colorbar\":{\"outlinewidth\":0,\"ticks\":\"\"}}}],\"scatter3d\":[{\"type\":\"scatter3d\",\"line\":{\"colorbar\":{\"outlinewidth\":0,\"ticks\":\"\"}},\"marker\":{\"colorbar\":{\"outlinewidth\":0,\"ticks\":\"\"}}}],\"scattermapbox\":[{\"type\":\"scattermapbox\",\"marker\":{\"colorbar\":{\"outlinewidth\":0,\"ticks\":\"\"}}}],\"scatterternary\":[{\"type\":\"scatterternary\",\"marker\":{\"colorbar\":{\"outlinewidth\":0,\"ticks\":\"\"}}}],\"scattercarpet\":[{\"type\":\"scattercarpet\",\"marker\":{\"colorbar\":{\"outlinewidth\":0,\"ticks\":\"\"}}}],\"carpet\":[{\"aaxis\":{\"endlinecolor\":\"#2a3f5f\",\"gridcolor\":\"white\",\"linecolor\":\"white\",\"minorgridcolor\":\"white\",\"startlinecolor\":\"#2a3f5f\"},\"baxis\":{\"endlinecolor\":\"#2a3f5f\",\"gridcolor\":\"white\",\"linecolor\":\"white\",\"minorgridcolor\":\"white\",\"startlinecolor\":\"#2a3f5f\"},\"type\":\"carpet\"}],\"table\":[{\"cells\":{\"fill\":{\"color\":\"#EBF0F8\"},\"line\":{\"color\":\"white\"}},\"header\":{\"fill\":{\"color\":\"#C8D4E3\"},\"line\":{\"color\":\"white\"}},\"type\":\"table\"}],\"barpolar\":[{\"marker\":{\"line\":{\"color\":\"#E5ECF6\",\"width\":0.5},\"pattern\":{\"fillmode\":\"overlay\",\"size\":10,\"solidity\":0.2}},\"type\":\"barpolar\"}],\"pie\":[{\"automargin\":true,\"type\":\"pie\"}]},\"layout\":{\"autotypenumbers\":\"strict\",\"colorway\":[\"#636efa\",\"#EF553B\",\"#00cc96\",\"#ab63fa\",\"#FFA15A\",\"#19d3f3\",\"#FF6692\",\"#B6E880\",\"#FF97FF\",\"#FECB52\"],\"font\":{\"color\":\"#2a3f5f\"},\"hovermode\":\"closest\",\"hoverlabel\":{\"align\":\"left\"},\"paper_bgcolor\":\"white\",\"plot_bgcolor\":\"#E5ECF6\",\"polar\":{\"bgcolor\":\"#E5ECF6\",\"angularaxis\":{\"gridcolor\":\"white\",\"linecolor\":\"white\",\"ticks\":\"\"},\"radialaxis\":{\"gridcolor\":\"white\",\"linecolor\":\"white\",\"ticks\":\"\"}},\"ternary\":{\"bgcolor\":\"#E5ECF6\",\"aaxis\":{\"gridcolor\":\"white\",\"linecolor\":\"white\",\"ticks\":\"\"},\"baxis\":{\"gridcolor\":\"white\",\"linecolor\":\"white\",\"ticks\":\"\"},\"caxis\":{\"gridcolor\":\"white\",\"linecolor\":\"white\",\"ticks\":\"\"}},\"coloraxis\":{\"colorbar\":{\"outlinewidth\":0,\"ticks\":\"\"}},\"colorscale\":{\"sequential\":[[0.0,\"#0d0887\"],[0.1111111111111111,\"#46039f\"],[0.2222222222222222,\"#7201a8\"],[0.3333333333333333,\"#9c179e\"],[0.4444444444444444,\"#bd3786\"],[0.5555555555555556,\"#d8576b\"],[0.6666666666666666,\"#ed7953\"],[0.7777777777777778,\"#fb9f3a\"],[0.8888888888888888,\"#fdca26\"],[1.0,\"#f0f921\"]],\"sequentialminus\":[[0.0,\"#0d0887\"],[0.1111111111111111,\"#46039f\"],[0.2222222222222222,\"#7201a8\"],[0.3333333333333333,\"#9c179e\"],[0.4444444444444444,\"#bd3786\"],[0.5555555555555556,\"#d8576b\"],[0.6666666666666666,\"#ed7953\"],[0.7777777777777778,\"#fb9f3a\"],[0.8888888888888888,\"#fdca26\"],[1.0,\"#f0f921\"]],\"diverging\":[[0,\"#8e0152\"],[0.1,\"#c51b7d\"],[0.2,\"#de77ae\"],[0.3,\"#f1b6da\"],[0.4,\"#fde0ef\"],[0.5,\"#f7f7f7\"],[0.6,\"#e6f5d0\"],[0.7,\"#b8e186\"],[0.8,\"#7fbc41\"],[0.9,\"#4d9221\"],[1,\"#276419\"]]},\"xaxis\":{\"gridcolor\":\"white\",\"linecolor\":\"white\",\"ticks\":\"\",\"title\":{\"standoff\":15},\"zerolinecolor\":\"white\",\"automargin\":true,\"zerolinewidth\":2},\"yaxis\":{\"gridcolor\":\"white\",\"linecolor\":\"white\",\"ticks\":\"\",\"title\":{\"standoff\":15},\"zerolinecolor\":\"white\",\"automargin\":true,\"zerolinewidth\":2},\"scene\":{\"xaxis\":{\"backgroundcolor\":\"#E5ECF6\",\"gridcolor\":\"white\",\"linecolor\":\"white\",\"showbackground\":true,\"ticks\":\"\",\"zerolinecolor\":\"white\",\"gridwidth\":2},\"yaxis\":{\"backgroundcolor\":\"#E5ECF6\",\"gridcolor\":\"white\",\"linecolor\":\"white\",\"showbackground\":true,\"ticks\":\"\",\"zerolinecolor\":\"white\",\"gridwidth\":2},\"zaxis\":{\"backgroundcolor\":\"#E5ECF6\",\"gridcolor\":\"white\",\"linecolor\":\"white\",\"showbackground\":true,\"ticks\":\"\",\"zerolinecolor\":\"white\",\"gridwidth\":2}},\"shapedefaults\":{\"line\":{\"color\":\"#2a3f5f\"}},\"annotationdefaults\":{\"arrowcolor\":\"#2a3f5f\",\"arrowhead\":0,\"arrowwidth\":1},\"geo\":{\"bgcolor\":\"white\",\"landcolor\":\"#E5ECF6\",\"subunitcolor\":\"white\",\"showland\":true,\"showlakes\":true,\"lakecolor\":\"white\"},\"title\":{\"x\":0.05},\"mapbox\":{\"style\":\"light\"}}},\"xaxis\":{\"anchor\":\"y\",\"domain\":[0.0,0.8358],\"title\":{\"text\":\"Country\"}},\"yaxis\":{\"anchor\":\"x\",\"domain\":[0.0,0.8316],\"title\":{\"text\":\"VALUE\"}},\"xaxis2\":{\"anchor\":\"y2\",\"domain\":[0.8408,1.0],\"matches\":\"x2\",\"showticklabels\":false,\"showline\":false,\"ticks\":\"\",\"showgrid\":false},\"yaxis2\":{\"anchor\":\"x2\",\"domain\":[0.0,0.8316],\"matches\":\"y\",\"showticklabels\":false,\"showgrid\":true},\"xaxis3\":{\"anchor\":\"y3\",\"domain\":[0.0,0.8358],\"matches\":\"x\",\"showticklabels\":false},\"yaxis3\":{\"anchor\":\"x3\",\"domain\":[0.8416,1.0],\"matches\":\"y\",\"title\":{\"text\":\"VALUE\"}},\"xaxis4\":{\"anchor\":\"y4\",\"domain\":[0.8408,1.0],\"matches\":\"x2\",\"showticklabels\":false,\"showline\":false,\"ticks\":\"\",\"showgrid\":false},\"yaxis4\":{\"anchor\":\"x4\",\"domain\":[0.8416,1.0],\"matches\":\"y\",\"showticklabels\":false,\"showgrid\":true},\"coloraxis\":{\"colorbar\":{\"title\":{\"text\":\"count\"}},\"colorscale\":[[0.0,\"lightyellow\"],[0.5,\"orange\"],[1.0,\"red\"]]},\"legend\":{\"tracegroupgap\":0},\"margin\":{\"t\":60}},                        {\"responsive\": true}                    ).then(function(){\n",
       "                            \n",
       "var gd = document.getElementById('e77a08fe-04a1-469c-b153-fd15a2bdcfe9');\n",
       "var x = new MutationObserver(function (mutations, observer) {{\n",
       "        var display = window.getComputedStyle(gd).display;\n",
       "        if (!display || display === 'none') {{\n",
       "            console.log([gd, 'removed!']);\n",
       "            Plotly.purge(gd);\n",
       "            observer.disconnect();\n",
       "        }}\n",
       "}});\n",
       "\n",
       "// Listen for the removal of the full notebook cells\n",
       "var notebookContainer = gd.closest('#notebook-container');\n",
       "if (notebookContainer) {{\n",
       "    x.observe(notebookContainer, {childList: true});\n",
       "}}\n",
       "\n",
       "// Listen for the clearing of the current output cell\n",
       "var outputEl = gd.closest('.output');\n",
       "if (outputEl) {{\n",
       "    x.observe(outputEl, {childList: true});\n",
       "}}\n",
       "\n",
       "                        })                };                });            </script>        </div>"
      ]
     },
     "metadata": {},
     "output_type": "display_data"
    }
   ],
   "source": [
    "fig1 = px.density_heatmap(df, x=\"Country\", y=\"VALUE\",marginal_x= False, marginal_y=\"violin\", \n",
    "                          color_continuous_scale=[\"lightyellow\", \"orange\", \"red\"])\n",
    "\n",
    "fig1.show()"
   ]
  },
  {
   "cell_type": "code",
   "execution_count": 44,
   "id": "e1c6980e",
   "metadata": {},
   "outputs": [
    {
     "data": {
      "application/vnd.plotly.v1+json": {
       "config": {
        "plotlyServerURL": "https://plot.ly"
       },
       "data": [
        {
         "coloraxis": "coloraxis",
         "hovertemplate": "Region=Americas<br>Country=%{x}<br>VALUE=%{y}<br>count=%{z}<extra></extra>",
         "name": "",
         "type": "histogram2d",
         "x": [
          "Aruba",
          "Anguilla",
          "Argentina",
          "Antigua and Barbuda",
          "Bahamas",
          "Belize",
          "Bermuda",
          "Brazil",
          "Barbados",
          "Canada",
          "Chile",
          "Colombia",
          "Costa Rica",
          "Cuba",
          "Cayman Islands",
          "Dominica",
          "Dominican Republic",
          "Ecuador",
          "Grenada",
          "Greenland",
          "Guatemala",
          "Guyana",
          "Honduras",
          "Haiti",
          "Jamaica",
          "Saint Kitts and Nevis",
          "Saint Lucia",
          "Mexico",
          "Nicaragua",
          "Panama",
          "Puerto Rico",
          "Paraguay",
          "El Salvador",
          "Trinidad and Tobago",
          "Uruguay",
          "United States of America",
          "Saint Vincent and the Grenadines",
          "Venezuela (Bolivarian Republic of)",
          "United States Virgin Islands"
         ],
         "xaxis": "x9",
         "xbingroup": "x",
         "y": [
          3.93449072935622,
          0,
          5.82945646358224,
          6.81585823014881,
          26.4836477562152,
          40.004341556448,
          10.7053281947758,
          26.717095855717,
          10.9878035380727,
          1.62822732372785,
          3.17069021002804,
          34.1841604810009,
          11.5131589726941,
          4.49855257957249,
          15.8808582721626,
          21.1634239598177,
          25.5180004532178,
          17.4803815359739,
          9.41380251725079,
          19.4215897454006,
          40.7370396748692,
          18.6808641234005,
          74.9747489229593,
          6.80448649847155,
          51.486160292393,
          42.8475240252188,
          25.2739930611401,
          22.5754505573749,
          13.4785745608989,
          12.6280269174629,
          28.7722195560586,
          11.859762865562,
          64.4741155103829,
          35.6136081629703,
          6.10251087065565,
          4.76422446313797,
          23.0925549602808,
          45.991654975949,
          52.787361197519
         ],
         "yaxis": "y9",
         "ybingroup": "y"
        },
        {
         "alignmentgroup": "True",
         "hovertemplate": "Region=Americas<br>VALUE=%{y}<extra></extra>",
         "legendgroup": "",
         "marker": {
          "color": "lightyellow"
         },
         "name": "",
         "offsetgroup": "",
         "scalegroup": "y",
         "showlegend": false,
         "type": "violin",
         "xaxis": "x10",
         "y": [
          3.93449072935622,
          0,
          5.82945646358224,
          6.81585823014881,
          26.4836477562152,
          40.004341556448,
          10.7053281947758,
          26.717095855717,
          10.9878035380727,
          1.62822732372785,
          3.17069021002804,
          34.1841604810009,
          11.5131589726941,
          4.49855257957249,
          15.8808582721626,
          21.1634239598177,
          25.5180004532178,
          17.4803815359739,
          9.41380251725079,
          19.4215897454006,
          40.7370396748692,
          18.6808641234005,
          74.9747489229593,
          6.80448649847155,
          51.486160292393,
          42.8475240252188,
          25.2739930611401,
          22.5754505573749,
          13.4785745608989,
          12.6280269174629,
          28.7722195560586,
          11.859762865562,
          64.4741155103829,
          35.6136081629703,
          6.10251087065565,
          4.76422446313797,
          23.0925549602808,
          45.991654975949,
          52.787361197519
         ],
         "yaxis": "y10"
        },
        {
         "coloraxis": "coloraxis",
         "hovertemplate": "Region=Asia<br>Country=%{x}<br>VALUE=%{y}<br>count=%{z}<extra></extra>",
         "name": "",
         "type": "histogram2d",
         "x": [
          "Afghanistan",
          "United Arab Emirates",
          "Armenia",
          "Azerbaijan",
          "Bangladesh",
          "Bahrain",
          "Brunei Darussalam",
          "Bhutan",
          "China",
          "Cyprus",
          "Georgia",
          "China, Hong Kong Special Administrative Region",
          "India",
          "Iraq",
          "Israel",
          "Jordan",
          "Japan",
          "Kazakhstan",
          "Kyrgyzstan",
          "Cambodia",
          "Republic of Korea",
          "Kuwait",
          "Lebanon",
          "Sri Lanka",
          "China, Macao Special Administrative Region",
          "Maldives",
          "Myanmar",
          "Mongolia",
          "Malaysia",
          "Nepal",
          "Oman",
          "Pakistan",
          "Philippines",
          "State of Palestine",
          "Qatar",
          "Singapore",
          "Syrian Arab Republic",
          "Thailand",
          "Tajikistan",
          "Timor-Leste",
          "Türkiye",
          "China, Taiwan Province of China",
          "Viet Nam",
          "Yemen"
         ],
         "xaxis": "x7",
         "xbingroup": "x",
         "y": [
          3.3681096075378,
          0.78362591429846,
          1.94625960183699,
          2.28066203411804,
          2.70234680592128,
          0.161178017897207,
          0.257311506455946,
          2.33405591814466,
          0.979682650091451,
          0.719025504733435,
          4.56198147103654,
          0.50241705668585,
          3.76413425017975,
          9.04781817294795,
          2.04180361497246,
          1.59745706868556,
          0.361748484929274,
          8.53419087902351,
          16.7641099769876,
          2.3127114235717,
          0.978157178925969,
          2.00542534403072,
          3.2908922638593,
          3.76571841961435,
          0.371598710552474,
          1.64055450742351,
          1.58297808057564,
          8.78708129925269,
          1.9143486386216,
          3.00963895179125,
          1.57820239459334,
          7.3512755993055,
          9.20005945930851,
          0.789026223286531,
          0.215479044932229,
          0.370285919195817,
          2.16734516741243,
          5.43790201632764,
          2.4045496736787,
          3.56647404658547,
          4.23631609067884,
          0.771965790616312,
          1.51874004143909,
          4.74630502960632
         ],
         "yaxis": "y7",
         "ybingroup": "y"
        },
        {
         "alignmentgroup": "True",
         "hovertemplate": "Region=Asia<br>VALUE=%{y}<extra></extra>",
         "legendgroup": "",
         "marker": {
          "color": "lightyellow"
         },
         "name": "",
         "offsetgroup": "",
         "scalegroup": "y",
         "showlegend": false,
         "type": "violin",
         "xaxis": "x8",
         "y": [
          3.3681096075378,
          0.78362591429846,
          1.94625960183699,
          2.28066203411804,
          2.70234680592128,
          0.161178017897207,
          0.257311506455946,
          2.33405591814466,
          0.979682650091451,
          0.719025504733435,
          4.56198147103654,
          0.50241705668585,
          3.76413425017975,
          9.04781817294795,
          2.04180361497246,
          1.59745706868556,
          0.361748484929274,
          8.53419087902351,
          16.7641099769876,
          2.3127114235717,
          0.978157178925969,
          2.00542534403072,
          3.2908922638593,
          3.76571841961435,
          0.371598710552474,
          1.64055450742351,
          1.58297808057564,
          8.78708129925269,
          1.9143486386216,
          3.00963895179125,
          1.57820239459334,
          7.3512755993055,
          9.20005945930851,
          0.789026223286531,
          0.215479044932229,
          0.370285919195817,
          2.16734516741243,
          5.43790201632764,
          2.4045496736787,
          3.56647404658547,
          4.23631609067884,
          0.771965790616312,
          1.51874004143909,
          4.74630502960632
         ],
         "yaxis": "y8"
        },
        {
         "coloraxis": "coloraxis",
         "hovertemplate": "Region=Europe<br>Country=%{x}<br>VALUE=%{y}<br>count=%{z}<extra></extra>",
         "name": "",
         "type": "histogram2d",
         "x": [
          "Albania",
          "Andorra",
          "Austria",
          "Bulgaria",
          "Bosnia and Herzegovina",
          "Belarus",
          "Channel Island",
          "Switzerland",
          "Czechia",
          "Germany",
          "Denmark",
          "Spain",
          "Estonia",
          "Finland",
          "France",
          "United Kingdom of Great Britain and Northern Ireland",
          "Gibraltar",
          "Greece",
          "Croatia",
          "Hungary",
          "Ireland",
          "Iceland",
          "Italy",
          "Liechtenstein",
          "Lithuania",
          "Luxembourg",
          "Republic of Moldova",
          "North Macedonia",
          "Malta",
          "Montenegro",
          "Netherlands",
          "Norway",
          "Poland",
          "Romania",
          "Russian Federation",
          "San Marino",
          "Serbia",
          "Slovakia",
          "Slovenia",
          "Sweden",
          "Ukraine",
          "Holy See"
         ],
         "xaxis": "x5",
         "xbingroup": "x",
         "y": [
          4.30796304921017,
          0,
          0.689659682673311,
          1.99326304028371,
          1.51127600811555,
          4.25663993369408,
          0,
          0.665926122668202,
          0.977552917407029,
          0.981107785998394,
          0.756096160309668,
          0.854445688374367,
          5.25484891183339,
          2.21775606323326,
          1.26591266936055,
          1.19130534304701,
          2.97751972606819,
          1.61651193463414,
          1.43247839787919,
          1.39009486893823,
          1.2076419583122,
          0.624332744379444,
          0.891694785112682,
          2.77808645405045,
          7.01063599913567,
          1.96893028017878,
          6.48541759971024,
          2.07655535203167,
          0.96558416635084,
          2.40277183759185,
          0.863157885903355,
          0.593547362418791,
          1.00183189135634,
          1.29934456370843,
          11.6323421850625,
          0,
          1.44584884562316,
          1.51731225527557,
          0.734093658605339,
          0.969099877669777,
          4.34136151823265,
          0
         ],
         "yaxis": "y5",
         "ybingroup": "y"
        },
        {
         "alignmentgroup": "True",
         "hovertemplate": "Region=Europe<br>VALUE=%{y}<extra></extra>",
         "legendgroup": "",
         "marker": {
          "color": "lightyellow"
         },
         "name": "",
         "offsetgroup": "",
         "scalegroup": "y",
         "showlegend": false,
         "type": "violin",
         "xaxis": "x6",
         "y": [
          4.30796304921017,
          0,
          0.689659682673311,
          1.99326304028371,
          1.51127600811555,
          4.25663993369408,
          0,
          0.665926122668202,
          0.977552917407029,
          0.981107785998394,
          0.756096160309668,
          0.854445688374367,
          5.25484891183339,
          2.21775606323326,
          1.26591266936055,
          1.19130534304701,
          2.97751972606819,
          1.61651193463414,
          1.43247839787919,
          1.39009486893823,
          1.2076419583122,
          0.624332744379444,
          0.891694785112682,
          2.77808645405045,
          7.01063599913567,
          1.96893028017878,
          6.48541759971024,
          2.07655535203167,
          0.96558416635084,
          2.40277183759185,
          0.863157885903355,
          0.593547362418791,
          1.00183189135634,
          1.29934456370843,
          11.6323421850625,
          0,
          1.44584884562316,
          1.51731225527557,
          0.734093658605339,
          0.969099877669777,
          4.34136151823265,
          0
         ],
         "yaxis": "y6"
        },
        {
         "coloraxis": "coloraxis",
         "hovertemplate": "Region=Oceania<br>Country=%{x}<br>VALUE=%{y}<br>count=%{z}<extra></extra>",
         "name": "",
         "type": "histogram2d",
         "x": [
          "American Samoa",
          "Australia",
          "Fiji",
          "Guam",
          "Kiribati",
          "New Zealand",
          "Papua New Guinea",
          "Tonga",
          "Tuvalu",
          "Samoa"
         ],
         "xaxis": "x3",
         "xbingroup": "x",
         "y": [
          8.91519863062549,
          1.0426687589854,
          2.32607906807968,
          1.88159735071093,
          3.88613620907413,
          0.983968183503201,
          9.7530788541213,
          0.961714159317568,
          9.5047999239616,
          8.60474121240804
         ],
         "yaxis": "y3",
         "ybingroup": "y"
        },
        {
         "alignmentgroup": "True",
         "hovertemplate": "Region=Oceania<br>VALUE=%{y}<extra></extra>",
         "legendgroup": "",
         "marker": {
          "color": "lightyellow"
         },
         "name": "",
         "offsetgroup": "",
         "scalegroup": "y",
         "showlegend": false,
         "type": "violin",
         "xaxis": "x4",
         "y": [
          8.91519863062549,
          1.0426687589854,
          2.32607906807968,
          1.88159735071093,
          3.88613620907413,
          0.983968183503201,
          9.7530788541213,
          0.961714159317568,
          9.5047999239616,
          8.60474121240804
         ],
         "yaxis": "y4"
        },
        {
         "coloraxis": "coloraxis",
         "hovertemplate": "Region=Africa<br>Country=%{x}<br>VALUE=%{y}<br>count=%{z}<extra></extra>",
         "name": "",
         "type": "histogram2d",
         "x": [
          "Burkina Faso",
          "Botswana",
          "Cameroon",
          "Algeria",
          "Egypt",
          "Ghana",
          "Kenya",
          "Liberia",
          "Lesotho",
          "Morocco",
          "Mozambique",
          "Mauritius",
          "Malawi",
          "Namibia",
          "Rwanda",
          "Sierra Leone",
          "Sao Tome and Principe",
          "Eswatini",
          "Seychelles",
          "Tunisia",
          "United Republic of Tanzania",
          "Uganda",
          "South Africa",
          "Zambia",
          "Zimbabwe"
         ],
         "xaxis": "x",
         "xbingroup": "x",
         "y": [
          0.788198249930744,
          15.248305827671,
          4.91120598571296,
          0.705997765100146,
          2.22205456457373,
          1.70301280722129,
          4.58236653964518,
          3.3150389439982,
          38.2847049096125,
          1.39441191435009,
          3.71840940299471,
          2.64433035538999,
          3.57643730309391,
          14.8191707210942,
          2.89859749716565,
          2.54066783090562,
          3.32645865211895,
          19.53343269089,
          9.86052830519431,
          2.68917171160608,
          8.76731465720927,
          9.7446158222217,
          31.0307324523922,
          5.98266086706248,
          5.59942692109959
         ],
         "yaxis": "y",
         "ybingroup": "y"
        },
        {
         "alignmentgroup": "True",
         "hovertemplate": "Region=Africa<br>VALUE=%{y}<extra></extra>",
         "legendgroup": "",
         "marker": {
          "color": "lightyellow"
         },
         "name": "",
         "offsetgroup": "",
         "scalegroup": "y",
         "showlegend": false,
         "type": "violin",
         "xaxis": "x2",
         "y": [
          0.788198249930744,
          15.248305827671,
          4.91120598571296,
          0.705997765100146,
          2.22205456457373,
          1.70301280722129,
          4.58236653964518,
          3.3150389439982,
          38.2847049096125,
          1.39441191435009,
          3.71840940299471,
          2.64433035538999,
          3.57643730309391,
          14.8191707210942,
          2.89859749716565,
          2.54066783090562,
          3.32645865211895,
          19.53343269089,
          9.86052830519431,
          2.68917171160608,
          8.76731465720927,
          9.7446158222217,
          31.0307324523922,
          5.98266086706248,
          5.59942692109959
         ],
         "yaxis": "y2"
        }
       ],
       "layout": {
        "annotations": [
         {
          "font": {},
          "showarrow": false,
          "text": "Region=Africa",
          "textangle": 90,
          "x": 0.98,
          "xanchor": "left",
          "xref": "paper",
          "y": 0.08800000000000001,
          "yanchor": "middle",
          "yref": "paper"
         },
         {
          "font": {},
          "showarrow": false,
          "text": "Region=Oceania",
          "textangle": 90,
          "x": 0.98,
          "xanchor": "left",
          "xref": "paper",
          "y": 0.29400000000000004,
          "yanchor": "middle",
          "yref": "paper"
         },
         {
          "font": {},
          "showarrow": false,
          "text": "Region=Europe",
          "textangle": 90,
          "x": 0.98,
          "xanchor": "left",
          "xref": "paper",
          "y": 0.5,
          "yanchor": "middle",
          "yref": "paper"
         },
         {
          "font": {},
          "showarrow": false,
          "text": "Region=Asia",
          "textangle": 90,
          "x": 0.98,
          "xanchor": "left",
          "xref": "paper",
          "y": 0.706,
          "yanchor": "middle",
          "yref": "paper"
         },
         {
          "font": {},
          "showarrow": false,
          "text": "Region=Americas",
          "textangle": 90,
          "x": 0.98,
          "xanchor": "left",
          "xref": "paper",
          "y": 0.912,
          "yanchor": "middle",
          "yref": "paper"
         }
        ],
        "coloraxis": {
         "colorbar": {
          "title": {
           "text": "count"
          }
         },
         "colorscale": [
          [
           0,
           "lightyellow"
          ],
          [
           0.5,
           "orange"
          ],
          [
           1,
           "red"
          ]
         ]
        },
        "legend": {
         "tracegroupgap": 0
        },
        "margin": {
         "t": 60
        },
        "template": {
         "data": {
          "bar": [
           {
            "error_x": {
             "color": "#2a3f5f"
            },
            "error_y": {
             "color": "#2a3f5f"
            },
            "marker": {
             "line": {
              "color": "#E5ECF6",
              "width": 0.5
             },
             "pattern": {
              "fillmode": "overlay",
              "size": 10,
              "solidity": 0.2
             }
            },
            "type": "bar"
           }
          ],
          "barpolar": [
           {
            "marker": {
             "line": {
              "color": "#E5ECF6",
              "width": 0.5
             },
             "pattern": {
              "fillmode": "overlay",
              "size": 10,
              "solidity": 0.2
             }
            },
            "type": "barpolar"
           }
          ],
          "carpet": [
           {
            "aaxis": {
             "endlinecolor": "#2a3f5f",
             "gridcolor": "white",
             "linecolor": "white",
             "minorgridcolor": "white",
             "startlinecolor": "#2a3f5f"
            },
            "baxis": {
             "endlinecolor": "#2a3f5f",
             "gridcolor": "white",
             "linecolor": "white",
             "minorgridcolor": "white",
             "startlinecolor": "#2a3f5f"
            },
            "type": "carpet"
           }
          ],
          "choropleth": [
           {
            "colorbar": {
             "outlinewidth": 0,
             "ticks": ""
            },
            "type": "choropleth"
           }
          ],
          "contour": [
           {
            "colorbar": {
             "outlinewidth": 0,
             "ticks": ""
            },
            "colorscale": [
             [
              0,
              "#0d0887"
             ],
             [
              0.1111111111111111,
              "#46039f"
             ],
             [
              0.2222222222222222,
              "#7201a8"
             ],
             [
              0.3333333333333333,
              "#9c179e"
             ],
             [
              0.4444444444444444,
              "#bd3786"
             ],
             [
              0.5555555555555556,
              "#d8576b"
             ],
             [
              0.6666666666666666,
              "#ed7953"
             ],
             [
              0.7777777777777778,
              "#fb9f3a"
             ],
             [
              0.8888888888888888,
              "#fdca26"
             ],
             [
              1,
              "#f0f921"
             ]
            ],
            "type": "contour"
           }
          ],
          "contourcarpet": [
           {
            "colorbar": {
             "outlinewidth": 0,
             "ticks": ""
            },
            "type": "contourcarpet"
           }
          ],
          "heatmap": [
           {
            "colorbar": {
             "outlinewidth": 0,
             "ticks": ""
            },
            "colorscale": [
             [
              0,
              "#0d0887"
             ],
             [
              0.1111111111111111,
              "#46039f"
             ],
             [
              0.2222222222222222,
              "#7201a8"
             ],
             [
              0.3333333333333333,
              "#9c179e"
             ],
             [
              0.4444444444444444,
              "#bd3786"
             ],
             [
              0.5555555555555556,
              "#d8576b"
             ],
             [
              0.6666666666666666,
              "#ed7953"
             ],
             [
              0.7777777777777778,
              "#fb9f3a"
             ],
             [
              0.8888888888888888,
              "#fdca26"
             ],
             [
              1,
              "#f0f921"
             ]
            ],
            "type": "heatmap"
           }
          ],
          "heatmapgl": [
           {
            "colorbar": {
             "outlinewidth": 0,
             "ticks": ""
            },
            "colorscale": [
             [
              0,
              "#0d0887"
             ],
             [
              0.1111111111111111,
              "#46039f"
             ],
             [
              0.2222222222222222,
              "#7201a8"
             ],
             [
              0.3333333333333333,
              "#9c179e"
             ],
             [
              0.4444444444444444,
              "#bd3786"
             ],
             [
              0.5555555555555556,
              "#d8576b"
             ],
             [
              0.6666666666666666,
              "#ed7953"
             ],
             [
              0.7777777777777778,
              "#fb9f3a"
             ],
             [
              0.8888888888888888,
              "#fdca26"
             ],
             [
              1,
              "#f0f921"
             ]
            ],
            "type": "heatmapgl"
           }
          ],
          "histogram": [
           {
            "marker": {
             "pattern": {
              "fillmode": "overlay",
              "size": 10,
              "solidity": 0.2
             }
            },
            "type": "histogram"
           }
          ],
          "histogram2d": [
           {
            "colorbar": {
             "outlinewidth": 0,
             "ticks": ""
            },
            "colorscale": [
             [
              0,
              "#0d0887"
             ],
             [
              0.1111111111111111,
              "#46039f"
             ],
             [
              0.2222222222222222,
              "#7201a8"
             ],
             [
              0.3333333333333333,
              "#9c179e"
             ],
             [
              0.4444444444444444,
              "#bd3786"
             ],
             [
              0.5555555555555556,
              "#d8576b"
             ],
             [
              0.6666666666666666,
              "#ed7953"
             ],
             [
              0.7777777777777778,
              "#fb9f3a"
             ],
             [
              0.8888888888888888,
              "#fdca26"
             ],
             [
              1,
              "#f0f921"
             ]
            ],
            "type": "histogram2d"
           }
          ],
          "histogram2dcontour": [
           {
            "colorbar": {
             "outlinewidth": 0,
             "ticks": ""
            },
            "colorscale": [
             [
              0,
              "#0d0887"
             ],
             [
              0.1111111111111111,
              "#46039f"
             ],
             [
              0.2222222222222222,
              "#7201a8"
             ],
             [
              0.3333333333333333,
              "#9c179e"
             ],
             [
              0.4444444444444444,
              "#bd3786"
             ],
             [
              0.5555555555555556,
              "#d8576b"
             ],
             [
              0.6666666666666666,
              "#ed7953"
             ],
             [
              0.7777777777777778,
              "#fb9f3a"
             ],
             [
              0.8888888888888888,
              "#fdca26"
             ],
             [
              1,
              "#f0f921"
             ]
            ],
            "type": "histogram2dcontour"
           }
          ],
          "mesh3d": [
           {
            "colorbar": {
             "outlinewidth": 0,
             "ticks": ""
            },
            "type": "mesh3d"
           }
          ],
          "parcoords": [
           {
            "line": {
             "colorbar": {
              "outlinewidth": 0,
              "ticks": ""
             }
            },
            "type": "parcoords"
           }
          ],
          "pie": [
           {
            "automargin": true,
            "type": "pie"
           }
          ],
          "scatter": [
           {
            "fillpattern": {
             "fillmode": "overlay",
             "size": 10,
             "solidity": 0.2
            },
            "type": "scatter"
           }
          ],
          "scatter3d": [
           {
            "line": {
             "colorbar": {
              "outlinewidth": 0,
              "ticks": ""
             }
            },
            "marker": {
             "colorbar": {
              "outlinewidth": 0,
              "ticks": ""
             }
            },
            "type": "scatter3d"
           }
          ],
          "scattercarpet": [
           {
            "marker": {
             "colorbar": {
              "outlinewidth": 0,
              "ticks": ""
             }
            },
            "type": "scattercarpet"
           }
          ],
          "scattergeo": [
           {
            "marker": {
             "colorbar": {
              "outlinewidth": 0,
              "ticks": ""
             }
            },
            "type": "scattergeo"
           }
          ],
          "scattergl": [
           {
            "marker": {
             "colorbar": {
              "outlinewidth": 0,
              "ticks": ""
             }
            },
            "type": "scattergl"
           }
          ],
          "scattermapbox": [
           {
            "marker": {
             "colorbar": {
              "outlinewidth": 0,
              "ticks": ""
             }
            },
            "type": "scattermapbox"
           }
          ],
          "scatterpolar": [
           {
            "marker": {
             "colorbar": {
              "outlinewidth": 0,
              "ticks": ""
             }
            },
            "type": "scatterpolar"
           }
          ],
          "scatterpolargl": [
           {
            "marker": {
             "colorbar": {
              "outlinewidth": 0,
              "ticks": ""
             }
            },
            "type": "scatterpolargl"
           }
          ],
          "scatterternary": [
           {
            "marker": {
             "colorbar": {
              "outlinewidth": 0,
              "ticks": ""
             }
            },
            "type": "scatterternary"
           }
          ],
          "surface": [
           {
            "colorbar": {
             "outlinewidth": 0,
             "ticks": ""
            },
            "colorscale": [
             [
              0,
              "#0d0887"
             ],
             [
              0.1111111111111111,
              "#46039f"
             ],
             [
              0.2222222222222222,
              "#7201a8"
             ],
             [
              0.3333333333333333,
              "#9c179e"
             ],
             [
              0.4444444444444444,
              "#bd3786"
             ],
             [
              0.5555555555555556,
              "#d8576b"
             ],
             [
              0.6666666666666666,
              "#ed7953"
             ],
             [
              0.7777777777777778,
              "#fb9f3a"
             ],
             [
              0.8888888888888888,
              "#fdca26"
             ],
             [
              1,
              "#f0f921"
             ]
            ],
            "type": "surface"
           }
          ],
          "table": [
           {
            "cells": {
             "fill": {
              "color": "#EBF0F8"
             },
             "line": {
              "color": "white"
             }
            },
            "header": {
             "fill": {
              "color": "#C8D4E3"
             },
             "line": {
              "color": "white"
             }
            },
            "type": "table"
           }
          ]
         },
         "layout": {
          "annotationdefaults": {
           "arrowcolor": "#2a3f5f",
           "arrowhead": 0,
           "arrowwidth": 1
          },
          "autotypenumbers": "strict",
          "coloraxis": {
           "colorbar": {
            "outlinewidth": 0,
            "ticks": ""
           }
          },
          "colorscale": {
           "diverging": [
            [
             0,
             "#8e0152"
            ],
            [
             0.1,
             "#c51b7d"
            ],
            [
             0.2,
             "#de77ae"
            ],
            [
             0.3,
             "#f1b6da"
            ],
            [
             0.4,
             "#fde0ef"
            ],
            [
             0.5,
             "#f7f7f7"
            ],
            [
             0.6,
             "#e6f5d0"
            ],
            [
             0.7,
             "#b8e186"
            ],
            [
             0.8,
             "#7fbc41"
            ],
            [
             0.9,
             "#4d9221"
            ],
            [
             1,
             "#276419"
            ]
           ],
           "sequential": [
            [
             0,
             "#0d0887"
            ],
            [
             0.1111111111111111,
             "#46039f"
            ],
            [
             0.2222222222222222,
             "#7201a8"
            ],
            [
             0.3333333333333333,
             "#9c179e"
            ],
            [
             0.4444444444444444,
             "#bd3786"
            ],
            [
             0.5555555555555556,
             "#d8576b"
            ],
            [
             0.6666666666666666,
             "#ed7953"
            ],
            [
             0.7777777777777778,
             "#fb9f3a"
            ],
            [
             0.8888888888888888,
             "#fdca26"
            ],
            [
             1,
             "#f0f921"
            ]
           ],
           "sequentialminus": [
            [
             0,
             "#0d0887"
            ],
            [
             0.1111111111111111,
             "#46039f"
            ],
            [
             0.2222222222222222,
             "#7201a8"
            ],
            [
             0.3333333333333333,
             "#9c179e"
            ],
            [
             0.4444444444444444,
             "#bd3786"
            ],
            [
             0.5555555555555556,
             "#d8576b"
            ],
            [
             0.6666666666666666,
             "#ed7953"
            ],
            [
             0.7777777777777778,
             "#fb9f3a"
            ],
            [
             0.8888888888888888,
             "#fdca26"
            ],
            [
             1,
             "#f0f921"
            ]
           ]
          },
          "colorway": [
           "#636efa",
           "#EF553B",
           "#00cc96",
           "#ab63fa",
           "#FFA15A",
           "#19d3f3",
           "#FF6692",
           "#B6E880",
           "#FF97FF",
           "#FECB52"
          ],
          "font": {
           "color": "#2a3f5f"
          },
          "geo": {
           "bgcolor": "white",
           "lakecolor": "white",
           "landcolor": "#E5ECF6",
           "showlakes": true,
           "showland": true,
           "subunitcolor": "white"
          },
          "hoverlabel": {
           "align": "left"
          },
          "hovermode": "closest",
          "mapbox": {
           "style": "light"
          },
          "paper_bgcolor": "white",
          "plot_bgcolor": "#E5ECF6",
          "polar": {
           "angularaxis": {
            "gridcolor": "white",
            "linecolor": "white",
            "ticks": ""
           },
           "bgcolor": "#E5ECF6",
           "radialaxis": {
            "gridcolor": "white",
            "linecolor": "white",
            "ticks": ""
           }
          },
          "scene": {
           "xaxis": {
            "backgroundcolor": "#E5ECF6",
            "gridcolor": "white",
            "gridwidth": 2,
            "linecolor": "white",
            "showbackground": true,
            "ticks": "",
            "zerolinecolor": "white"
           },
           "yaxis": {
            "backgroundcolor": "#E5ECF6",
            "gridcolor": "white",
            "gridwidth": 2,
            "linecolor": "white",
            "showbackground": true,
            "ticks": "",
            "zerolinecolor": "white"
           },
           "zaxis": {
            "backgroundcolor": "#E5ECF6",
            "gridcolor": "white",
            "gridwidth": 2,
            "linecolor": "white",
            "showbackground": true,
            "ticks": "",
            "zerolinecolor": "white"
           }
          },
          "shapedefaults": {
           "line": {
            "color": "#2a3f5f"
           }
          },
          "ternary": {
           "aaxis": {
            "gridcolor": "white",
            "linecolor": "white",
            "ticks": ""
           },
           "baxis": {
            "gridcolor": "white",
            "linecolor": "white",
            "ticks": ""
           },
           "bgcolor": "#E5ECF6",
           "caxis": {
            "gridcolor": "white",
            "linecolor": "white",
            "ticks": ""
           }
          },
          "title": {
           "x": 0.05
          },
          "xaxis": {
           "automargin": true,
           "gridcolor": "white",
           "linecolor": "white",
           "ticks": "",
           "title": {
            "standoff": 15
           },
           "zerolinecolor": "white",
           "zerolinewidth": 2
          },
          "yaxis": {
           "automargin": true,
           "gridcolor": "white",
           "linecolor": "white",
           "ticks": "",
           "title": {
            "standoff": 15
           },
           "zerolinecolor": "white",
           "zerolinewidth": 2
          }
         }
        },
        "xaxis": {
         "anchor": "y",
         "domain": [
          0,
          0.819
         ],
         "title": {
          "text": "Country"
         }
        },
        "xaxis10": {
         "anchor": "y10",
         "domain": [
          0.824,
          0.98
         ],
         "matches": "x2",
         "showgrid": false,
         "showline": false,
         "showticklabels": false,
         "ticks": ""
        },
        "xaxis2": {
         "anchor": "y2",
         "domain": [
          0.824,
          0.98
         ],
         "matches": "x2",
         "showgrid": false,
         "showline": false,
         "showticklabels": false,
         "ticks": ""
        },
        "xaxis3": {
         "anchor": "y3",
         "domain": [
          0,
          0.819
         ],
         "matches": "x",
         "showticklabels": false
        },
        "xaxis4": {
         "anchor": "y4",
         "domain": [
          0.824,
          0.98
         ],
         "matches": "x2",
         "showgrid": false,
         "showline": false,
         "showticklabels": false,
         "ticks": ""
        },
        "xaxis5": {
         "anchor": "y5",
         "domain": [
          0,
          0.819
         ],
         "matches": "x",
         "showticklabels": false
        },
        "xaxis6": {
         "anchor": "y6",
         "domain": [
          0.824,
          0.98
         ],
         "matches": "x2",
         "showgrid": false,
         "showline": false,
         "showticklabels": false,
         "ticks": ""
        },
        "xaxis7": {
         "anchor": "y7",
         "domain": [
          0,
          0.819
         ],
         "matches": "x",
         "showticklabels": false
        },
        "xaxis8": {
         "anchor": "y8",
         "domain": [
          0.824,
          0.98
         ],
         "matches": "x2",
         "showgrid": false,
         "showline": false,
         "showticklabels": false,
         "ticks": ""
        },
        "xaxis9": {
         "anchor": "y9",
         "domain": [
          0,
          0.819
         ],
         "matches": "x",
         "showticklabels": false
        },
        "yaxis": {
         "anchor": "x",
         "domain": [
          0,
          0.17600000000000002
         ],
         "title": {
          "text": "VALUE"
         }
        },
        "yaxis10": {
         "anchor": "x10",
         "domain": [
          0.8240000000000001,
          1
         ],
         "matches": "y",
         "showgrid": true,
         "showticklabels": false
        },
        "yaxis2": {
         "anchor": "x2",
         "domain": [
          0,
          0.17600000000000002
         ],
         "matches": "y",
         "showgrid": true,
         "showticklabels": false
        },
        "yaxis3": {
         "anchor": "x3",
         "domain": [
          0.20600000000000002,
          0.382
         ],
         "matches": "y",
         "title": {
          "text": "VALUE"
         }
        },
        "yaxis4": {
         "anchor": "x4",
         "domain": [
          0.20600000000000002,
          0.382
         ],
         "matches": "y",
         "showgrid": true,
         "showticklabels": false
        },
        "yaxis5": {
         "anchor": "x5",
         "domain": [
          0.41200000000000003,
          0.5880000000000001
         ],
         "matches": "y",
         "title": {
          "text": "VALUE"
         }
        },
        "yaxis6": {
         "anchor": "x6",
         "domain": [
          0.41200000000000003,
          0.5880000000000001
         ],
         "matches": "y",
         "showgrid": true,
         "showticklabels": false
        },
        "yaxis7": {
         "anchor": "x7",
         "domain": [
          0.618,
          0.794
         ],
         "matches": "y",
         "title": {
          "text": "VALUE"
         }
        },
        "yaxis8": {
         "anchor": "x8",
         "domain": [
          0.618,
          0.794
         ],
         "matches": "y",
         "showgrid": true,
         "showticklabels": false
        },
        "yaxis9": {
         "anchor": "x9",
         "domain": [
          0.8240000000000001,
          1
         ],
         "matches": "y",
         "title": {
          "text": "VALUE"
         }
        }
       }
      },
      "text/html": [
       "<div>                            <div id=\"7f433b39-983b-422d-aab8-6e1c79eafe9e\" class=\"plotly-graph-div\" style=\"height:525px; width:100%;\"></div>            <script type=\"text/javascript\">                require([\"plotly\"], function(Plotly) {                    window.PLOTLYENV=window.PLOTLYENV || {};                                    if (document.getElementById(\"7f433b39-983b-422d-aab8-6e1c79eafe9e\")) {                    Plotly.newPlot(                        \"7f433b39-983b-422d-aab8-6e1c79eafe9e\",                        [{\"coloraxis\":\"coloraxis\",\"hovertemplate\":\"Region=Americas<br>Country=%{x}<br>VALUE=%{y}<br>count=%{z}<extra></extra>\",\"name\":\"\",\"x\":[\"Aruba\",\"Anguilla\",\"Argentina\",\"Antigua and Barbuda\",\"Bahamas\",\"Belize\",\"Bermuda\",\"Brazil\",\"Barbados\",\"Canada\",\"Chile\",\"Colombia\",\"Costa Rica\",\"Cuba\",\"Cayman Islands\",\"Dominica\",\"Dominican Republic\",\"Ecuador\",\"Grenada\",\"Greenland\",\"Guatemala\",\"Guyana\",\"Honduras\",\"Haiti\",\"Jamaica\",\"Saint Kitts and Nevis\",\"Saint Lucia\",\"Mexico\",\"Nicaragua\",\"Panama\",\"Puerto Rico\",\"Paraguay\",\"El Salvador\",\"Trinidad and Tobago\",\"Uruguay\",\"United States of America\",\"Saint Vincent and the Grenadines\",\"Venezuela (Bolivarian Republic of)\",\"United States Virgin Islands\"],\"xaxis\":\"x9\",\"xbingroup\":\"x\",\"y\":[3.93449072935622,0.0,5.82945646358224,6.81585823014881,26.4836477562152,40.004341556448,10.7053281947758,26.717095855717,10.9878035380727,1.62822732372785,3.17069021002804,34.1841604810009,11.5131589726941,4.49855257957249,15.8808582721626,21.1634239598177,25.5180004532178,17.4803815359739,9.41380251725079,19.4215897454006,40.7370396748692,18.6808641234005,74.9747489229593,6.80448649847155,51.486160292393,42.8475240252188,25.2739930611401,22.5754505573749,13.4785745608989,12.6280269174629,28.7722195560586,11.859762865562,64.4741155103829,35.6136081629703,6.10251087065565,4.76422446313797,23.0925549602808,45.991654975949,52.787361197519],\"yaxis\":\"y9\",\"ybingroup\":\"y\",\"type\":\"histogram2d\"},{\"alignmentgroup\":\"True\",\"hovertemplate\":\"Region=Americas<br>VALUE=%{y}<extra></extra>\",\"legendgroup\":\"\",\"marker\":{\"color\":\"lightyellow\"},\"name\":\"\",\"offsetgroup\":\"\",\"scalegroup\":\"y\",\"showlegend\":false,\"xaxis\":\"x10\",\"y\":[3.93449072935622,0.0,5.82945646358224,6.81585823014881,26.4836477562152,40.004341556448,10.7053281947758,26.717095855717,10.9878035380727,1.62822732372785,3.17069021002804,34.1841604810009,11.5131589726941,4.49855257957249,15.8808582721626,21.1634239598177,25.5180004532178,17.4803815359739,9.41380251725079,19.4215897454006,40.7370396748692,18.6808641234005,74.9747489229593,6.80448649847155,51.486160292393,42.8475240252188,25.2739930611401,22.5754505573749,13.4785745608989,12.6280269174629,28.7722195560586,11.859762865562,64.4741155103829,35.6136081629703,6.10251087065565,4.76422446313797,23.0925549602808,45.991654975949,52.787361197519],\"yaxis\":\"y10\",\"type\":\"violin\"},{\"coloraxis\":\"coloraxis\",\"hovertemplate\":\"Region=Asia<br>Country=%{x}<br>VALUE=%{y}<br>count=%{z}<extra></extra>\",\"name\":\"\",\"x\":[\"Afghanistan\",\"United Arab Emirates\",\"Armenia\",\"Azerbaijan\",\"Bangladesh\",\"Bahrain\",\"Brunei Darussalam\",\"Bhutan\",\"China\",\"Cyprus\",\"Georgia\",\"China, Hong Kong Special Administrative Region\",\"India\",\"Iraq\",\"Israel\",\"Jordan\",\"Japan\",\"Kazakhstan\",\"Kyrgyzstan\",\"Cambodia\",\"Republic of Korea\",\"Kuwait\",\"Lebanon\",\"Sri Lanka\",\"China, Macao Special Administrative Region\",\"Maldives\",\"Myanmar\",\"Mongolia\",\"Malaysia\",\"Nepal\",\"Oman\",\"Pakistan\",\"Philippines\",\"State of Palestine\",\"Qatar\",\"Singapore\",\"Syrian Arab Republic\",\"Thailand\",\"Tajikistan\",\"Timor-Leste\",\"T\\u00fcrkiye\",\"China, Taiwan Province of China\",\"Viet Nam\",\"Yemen\"],\"xaxis\":\"x7\",\"xbingroup\":\"x\",\"y\":[3.3681096075378,0.78362591429846,1.94625960183699,2.28066203411804,2.70234680592128,0.161178017897207,0.257311506455946,2.33405591814466,0.979682650091451,0.719025504733435,4.56198147103654,0.50241705668585,3.76413425017975,9.04781817294795,2.04180361497246,1.59745706868556,0.361748484929274,8.53419087902351,16.7641099769876,2.3127114235717,0.978157178925969,2.00542534403072,3.2908922638593,3.76571841961435,0.371598710552474,1.64055450742351,1.58297808057564,8.78708129925269,1.9143486386216,3.00963895179125,1.57820239459334,7.3512755993055,9.20005945930851,0.789026223286531,0.215479044932229,0.370285919195817,2.16734516741243,5.43790201632764,2.4045496736787,3.56647404658547,4.23631609067884,0.771965790616312,1.51874004143909,4.74630502960632],\"yaxis\":\"y7\",\"ybingroup\":\"y\",\"type\":\"histogram2d\"},{\"alignmentgroup\":\"True\",\"hovertemplate\":\"Region=Asia<br>VALUE=%{y}<extra></extra>\",\"legendgroup\":\"\",\"marker\":{\"color\":\"lightyellow\"},\"name\":\"\",\"offsetgroup\":\"\",\"scalegroup\":\"y\",\"showlegend\":false,\"xaxis\":\"x8\",\"y\":[3.3681096075378,0.78362591429846,1.94625960183699,2.28066203411804,2.70234680592128,0.161178017897207,0.257311506455946,2.33405591814466,0.979682650091451,0.719025504733435,4.56198147103654,0.50241705668585,3.76413425017975,9.04781817294795,2.04180361497246,1.59745706868556,0.361748484929274,8.53419087902351,16.7641099769876,2.3127114235717,0.978157178925969,2.00542534403072,3.2908922638593,3.76571841961435,0.371598710552474,1.64055450742351,1.58297808057564,8.78708129925269,1.9143486386216,3.00963895179125,1.57820239459334,7.3512755993055,9.20005945930851,0.789026223286531,0.215479044932229,0.370285919195817,2.16734516741243,5.43790201632764,2.4045496736787,3.56647404658547,4.23631609067884,0.771965790616312,1.51874004143909,4.74630502960632],\"yaxis\":\"y8\",\"type\":\"violin\"},{\"coloraxis\":\"coloraxis\",\"hovertemplate\":\"Region=Europe<br>Country=%{x}<br>VALUE=%{y}<br>count=%{z}<extra></extra>\",\"name\":\"\",\"x\":[\"Albania\",\"Andorra\",\"Austria\",\"Bulgaria\",\"Bosnia and Herzegovina\",\"Belarus\",\"Channel Island\",\"Switzerland\",\"Czechia\",\"Germany\",\"Denmark\",\"Spain\",\"Estonia\",\"Finland\",\"France\",\"United Kingdom of Great Britain and Northern Ireland\",\"Gibraltar\",\"Greece\",\"Croatia\",\"Hungary\",\"Ireland\",\"Iceland\",\"Italy\",\"Liechtenstein\",\"Lithuania\",\"Luxembourg\",\"Republic of Moldova\",\"North Macedonia\",\"Malta\",\"Montenegro\",\"Netherlands\",\"Norway\",\"Poland\",\"Romania\",\"Russian Federation\",\"San Marino\",\"Serbia\",\"Slovakia\",\"Slovenia\",\"Sweden\",\"Ukraine\",\"Holy See\"],\"xaxis\":\"x5\",\"xbingroup\":\"x\",\"y\":[4.30796304921017,0.0,0.689659682673311,1.99326304028371,1.51127600811555,4.25663993369408,0.0,0.665926122668202,0.977552917407029,0.981107785998394,0.756096160309668,0.854445688374367,5.25484891183339,2.21775606323326,1.26591266936055,1.19130534304701,2.97751972606819,1.61651193463414,1.43247839787919,1.39009486893823,1.2076419583122,0.624332744379444,0.891694785112682,2.77808645405045,7.01063599913567,1.96893028017878,6.48541759971024,2.07655535203167,0.96558416635084,2.40277183759185,0.863157885903355,0.593547362418791,1.00183189135634,1.29934456370843,11.6323421850625,0.0,1.44584884562316,1.51731225527557,0.734093658605339,0.969099877669777,4.34136151823265,0.0],\"yaxis\":\"y5\",\"ybingroup\":\"y\",\"type\":\"histogram2d\"},{\"alignmentgroup\":\"True\",\"hovertemplate\":\"Region=Europe<br>VALUE=%{y}<extra></extra>\",\"legendgroup\":\"\",\"marker\":{\"color\":\"lightyellow\"},\"name\":\"\",\"offsetgroup\":\"\",\"scalegroup\":\"y\",\"showlegend\":false,\"xaxis\":\"x6\",\"y\":[4.30796304921017,0.0,0.689659682673311,1.99326304028371,1.51127600811555,4.25663993369408,0.0,0.665926122668202,0.977552917407029,0.981107785998394,0.756096160309668,0.854445688374367,5.25484891183339,2.21775606323326,1.26591266936055,1.19130534304701,2.97751972606819,1.61651193463414,1.43247839787919,1.39009486893823,1.2076419583122,0.624332744379444,0.891694785112682,2.77808645405045,7.01063599913567,1.96893028017878,6.48541759971024,2.07655535203167,0.96558416635084,2.40277183759185,0.863157885903355,0.593547362418791,1.00183189135634,1.29934456370843,11.6323421850625,0.0,1.44584884562316,1.51731225527557,0.734093658605339,0.969099877669777,4.34136151823265,0.0],\"yaxis\":\"y6\",\"type\":\"violin\"},{\"coloraxis\":\"coloraxis\",\"hovertemplate\":\"Region=Oceania<br>Country=%{x}<br>VALUE=%{y}<br>count=%{z}<extra></extra>\",\"name\":\"\",\"x\":[\"American Samoa\",\"Australia\",\"Fiji\",\"Guam\",\"Kiribati\",\"New Zealand\",\"Papua New Guinea\",\"Tonga\",\"Tuvalu\",\"Samoa\"],\"xaxis\":\"x3\",\"xbingroup\":\"x\",\"y\":[8.91519863062549,1.0426687589854,2.32607906807968,1.88159735071093,3.88613620907413,0.983968183503201,9.7530788541213,0.961714159317568,9.5047999239616,8.60474121240804],\"yaxis\":\"y3\",\"ybingroup\":\"y\",\"type\":\"histogram2d\"},{\"alignmentgroup\":\"True\",\"hovertemplate\":\"Region=Oceania<br>VALUE=%{y}<extra></extra>\",\"legendgroup\":\"\",\"marker\":{\"color\":\"lightyellow\"},\"name\":\"\",\"offsetgroup\":\"\",\"scalegroup\":\"y\",\"showlegend\":false,\"xaxis\":\"x4\",\"y\":[8.91519863062549,1.0426687589854,2.32607906807968,1.88159735071093,3.88613620907413,0.983968183503201,9.7530788541213,0.961714159317568,9.5047999239616,8.60474121240804],\"yaxis\":\"y4\",\"type\":\"violin\"},{\"coloraxis\":\"coloraxis\",\"hovertemplate\":\"Region=Africa<br>Country=%{x}<br>VALUE=%{y}<br>count=%{z}<extra></extra>\",\"name\":\"\",\"x\":[\"Burkina Faso\",\"Botswana\",\"Cameroon\",\"Algeria\",\"Egypt\",\"Ghana\",\"Kenya\",\"Liberia\",\"Lesotho\",\"Morocco\",\"Mozambique\",\"Mauritius\",\"Malawi\",\"Namibia\",\"Rwanda\",\"Sierra Leone\",\"Sao Tome and Principe\",\"Eswatini\",\"Seychelles\",\"Tunisia\",\"United Republic of Tanzania\",\"Uganda\",\"South Africa\",\"Zambia\",\"Zimbabwe\"],\"xaxis\":\"x\",\"xbingroup\":\"x\",\"y\":[0.788198249930744,15.248305827671,4.91120598571296,0.705997765100146,2.22205456457373,1.70301280722129,4.58236653964518,3.3150389439982,38.2847049096125,1.39441191435009,3.71840940299471,2.64433035538999,3.57643730309391,14.8191707210942,2.89859749716565,2.54066783090562,3.32645865211895,19.53343269089,9.86052830519431,2.68917171160608,8.76731465720927,9.7446158222217,31.0307324523922,5.98266086706248,5.59942692109959],\"yaxis\":\"y\",\"ybingroup\":\"y\",\"type\":\"histogram2d\"},{\"alignmentgroup\":\"True\",\"hovertemplate\":\"Region=Africa<br>VALUE=%{y}<extra></extra>\",\"legendgroup\":\"\",\"marker\":{\"color\":\"lightyellow\"},\"name\":\"\",\"offsetgroup\":\"\",\"scalegroup\":\"y\",\"showlegend\":false,\"xaxis\":\"x2\",\"y\":[0.788198249930744,15.248305827671,4.91120598571296,0.705997765100146,2.22205456457373,1.70301280722129,4.58236653964518,3.3150389439982,38.2847049096125,1.39441191435009,3.71840940299471,2.64433035538999,3.57643730309391,14.8191707210942,2.89859749716565,2.54066783090562,3.32645865211895,19.53343269089,9.86052830519431,2.68917171160608,8.76731465720927,9.7446158222217,31.0307324523922,5.98266086706248,5.59942692109959],\"yaxis\":\"y2\",\"type\":\"violin\"}],                        {\"template\":{\"data\":{\"histogram2dcontour\":[{\"type\":\"histogram2dcontour\",\"colorbar\":{\"outlinewidth\":0,\"ticks\":\"\"},\"colorscale\":[[0.0,\"#0d0887\"],[0.1111111111111111,\"#46039f\"],[0.2222222222222222,\"#7201a8\"],[0.3333333333333333,\"#9c179e\"],[0.4444444444444444,\"#bd3786\"],[0.5555555555555556,\"#d8576b\"],[0.6666666666666666,\"#ed7953\"],[0.7777777777777778,\"#fb9f3a\"],[0.8888888888888888,\"#fdca26\"],[1.0,\"#f0f921\"]]}],\"choropleth\":[{\"type\":\"choropleth\",\"colorbar\":{\"outlinewidth\":0,\"ticks\":\"\"}}],\"histogram2d\":[{\"type\":\"histogram2d\",\"colorbar\":{\"outlinewidth\":0,\"ticks\":\"\"},\"colorscale\":[[0.0,\"#0d0887\"],[0.1111111111111111,\"#46039f\"],[0.2222222222222222,\"#7201a8\"],[0.3333333333333333,\"#9c179e\"],[0.4444444444444444,\"#bd3786\"],[0.5555555555555556,\"#d8576b\"],[0.6666666666666666,\"#ed7953\"],[0.7777777777777778,\"#fb9f3a\"],[0.8888888888888888,\"#fdca26\"],[1.0,\"#f0f921\"]]}],\"heatmap\":[{\"type\":\"heatmap\",\"colorbar\":{\"outlinewidth\":0,\"ticks\":\"\"},\"colorscale\":[[0.0,\"#0d0887\"],[0.1111111111111111,\"#46039f\"],[0.2222222222222222,\"#7201a8\"],[0.3333333333333333,\"#9c179e\"],[0.4444444444444444,\"#bd3786\"],[0.5555555555555556,\"#d8576b\"],[0.6666666666666666,\"#ed7953\"],[0.7777777777777778,\"#fb9f3a\"],[0.8888888888888888,\"#fdca26\"],[1.0,\"#f0f921\"]]}],\"heatmapgl\":[{\"type\":\"heatmapgl\",\"colorbar\":{\"outlinewidth\":0,\"ticks\":\"\"},\"colorscale\":[[0.0,\"#0d0887\"],[0.1111111111111111,\"#46039f\"],[0.2222222222222222,\"#7201a8\"],[0.3333333333333333,\"#9c179e\"],[0.4444444444444444,\"#bd3786\"],[0.5555555555555556,\"#d8576b\"],[0.6666666666666666,\"#ed7953\"],[0.7777777777777778,\"#fb9f3a\"],[0.8888888888888888,\"#fdca26\"],[1.0,\"#f0f921\"]]}],\"contourcarpet\":[{\"type\":\"contourcarpet\",\"colorbar\":{\"outlinewidth\":0,\"ticks\":\"\"}}],\"contour\":[{\"type\":\"contour\",\"colorbar\":{\"outlinewidth\":0,\"ticks\":\"\"},\"colorscale\":[[0.0,\"#0d0887\"],[0.1111111111111111,\"#46039f\"],[0.2222222222222222,\"#7201a8\"],[0.3333333333333333,\"#9c179e\"],[0.4444444444444444,\"#bd3786\"],[0.5555555555555556,\"#d8576b\"],[0.6666666666666666,\"#ed7953\"],[0.7777777777777778,\"#fb9f3a\"],[0.8888888888888888,\"#fdca26\"],[1.0,\"#f0f921\"]]}],\"surface\":[{\"type\":\"surface\",\"colorbar\":{\"outlinewidth\":0,\"ticks\":\"\"},\"colorscale\":[[0.0,\"#0d0887\"],[0.1111111111111111,\"#46039f\"],[0.2222222222222222,\"#7201a8\"],[0.3333333333333333,\"#9c179e\"],[0.4444444444444444,\"#bd3786\"],[0.5555555555555556,\"#d8576b\"],[0.6666666666666666,\"#ed7953\"],[0.7777777777777778,\"#fb9f3a\"],[0.8888888888888888,\"#fdca26\"],[1.0,\"#f0f921\"]]}],\"mesh3d\":[{\"type\":\"mesh3d\",\"colorbar\":{\"outlinewidth\":0,\"ticks\":\"\"}}],\"scatter\":[{\"fillpattern\":{\"fillmode\":\"overlay\",\"size\":10,\"solidity\":0.2},\"type\":\"scatter\"}],\"parcoords\":[{\"type\":\"parcoords\",\"line\":{\"colorbar\":{\"outlinewidth\":0,\"ticks\":\"\"}}}],\"scatterpolargl\":[{\"type\":\"scatterpolargl\",\"marker\":{\"colorbar\":{\"outlinewidth\":0,\"ticks\":\"\"}}}],\"bar\":[{\"error_x\":{\"color\":\"#2a3f5f\"},\"error_y\":{\"color\":\"#2a3f5f\"},\"marker\":{\"line\":{\"color\":\"#E5ECF6\",\"width\":0.5},\"pattern\":{\"fillmode\":\"overlay\",\"size\":10,\"solidity\":0.2}},\"type\":\"bar\"}],\"scattergeo\":[{\"type\":\"scattergeo\",\"marker\":{\"colorbar\":{\"outlinewidth\":0,\"ticks\":\"\"}}}],\"scatterpolar\":[{\"type\":\"scatterpolar\",\"marker\":{\"colorbar\":{\"outlinewidth\":0,\"ticks\":\"\"}}}],\"histogram\":[{\"marker\":{\"pattern\":{\"fillmode\":\"overlay\",\"size\":10,\"solidity\":0.2}},\"type\":\"histogram\"}],\"scattergl\":[{\"type\":\"scattergl\",\"marker\":{\"colorbar\":{\"outlinewidth\":0,\"ticks\":\"\"}}}],\"scatter3d\":[{\"type\":\"scatter3d\",\"line\":{\"colorbar\":{\"outlinewidth\":0,\"ticks\":\"\"}},\"marker\":{\"colorbar\":{\"outlinewidth\":0,\"ticks\":\"\"}}}],\"scattermapbox\":[{\"type\":\"scattermapbox\",\"marker\":{\"colorbar\":{\"outlinewidth\":0,\"ticks\":\"\"}}}],\"scatterternary\":[{\"type\":\"scatterternary\",\"marker\":{\"colorbar\":{\"outlinewidth\":0,\"ticks\":\"\"}}}],\"scattercarpet\":[{\"type\":\"scattercarpet\",\"marker\":{\"colorbar\":{\"outlinewidth\":0,\"ticks\":\"\"}}}],\"carpet\":[{\"aaxis\":{\"endlinecolor\":\"#2a3f5f\",\"gridcolor\":\"white\",\"linecolor\":\"white\",\"minorgridcolor\":\"white\",\"startlinecolor\":\"#2a3f5f\"},\"baxis\":{\"endlinecolor\":\"#2a3f5f\",\"gridcolor\":\"white\",\"linecolor\":\"white\",\"minorgridcolor\":\"white\",\"startlinecolor\":\"#2a3f5f\"},\"type\":\"carpet\"}],\"table\":[{\"cells\":{\"fill\":{\"color\":\"#EBF0F8\"},\"line\":{\"color\":\"white\"}},\"header\":{\"fill\":{\"color\":\"#C8D4E3\"},\"line\":{\"color\":\"white\"}},\"type\":\"table\"}],\"barpolar\":[{\"marker\":{\"line\":{\"color\":\"#E5ECF6\",\"width\":0.5},\"pattern\":{\"fillmode\":\"overlay\",\"size\":10,\"solidity\":0.2}},\"type\":\"barpolar\"}],\"pie\":[{\"automargin\":true,\"type\":\"pie\"}]},\"layout\":{\"autotypenumbers\":\"strict\",\"colorway\":[\"#636efa\",\"#EF553B\",\"#00cc96\",\"#ab63fa\",\"#FFA15A\",\"#19d3f3\",\"#FF6692\",\"#B6E880\",\"#FF97FF\",\"#FECB52\"],\"font\":{\"color\":\"#2a3f5f\"},\"hovermode\":\"closest\",\"hoverlabel\":{\"align\":\"left\"},\"paper_bgcolor\":\"white\",\"plot_bgcolor\":\"#E5ECF6\",\"polar\":{\"bgcolor\":\"#E5ECF6\",\"angularaxis\":{\"gridcolor\":\"white\",\"linecolor\":\"white\",\"ticks\":\"\"},\"radialaxis\":{\"gridcolor\":\"white\",\"linecolor\":\"white\",\"ticks\":\"\"}},\"ternary\":{\"bgcolor\":\"#E5ECF6\",\"aaxis\":{\"gridcolor\":\"white\",\"linecolor\":\"white\",\"ticks\":\"\"},\"baxis\":{\"gridcolor\":\"white\",\"linecolor\":\"white\",\"ticks\":\"\"},\"caxis\":{\"gridcolor\":\"white\",\"linecolor\":\"white\",\"ticks\":\"\"}},\"coloraxis\":{\"colorbar\":{\"outlinewidth\":0,\"ticks\":\"\"}},\"colorscale\":{\"sequential\":[[0.0,\"#0d0887\"],[0.1111111111111111,\"#46039f\"],[0.2222222222222222,\"#7201a8\"],[0.3333333333333333,\"#9c179e\"],[0.4444444444444444,\"#bd3786\"],[0.5555555555555556,\"#d8576b\"],[0.6666666666666666,\"#ed7953\"],[0.7777777777777778,\"#fb9f3a\"],[0.8888888888888888,\"#fdca26\"],[1.0,\"#f0f921\"]],\"sequentialminus\":[[0.0,\"#0d0887\"],[0.1111111111111111,\"#46039f\"],[0.2222222222222222,\"#7201a8\"],[0.3333333333333333,\"#9c179e\"],[0.4444444444444444,\"#bd3786\"],[0.5555555555555556,\"#d8576b\"],[0.6666666666666666,\"#ed7953\"],[0.7777777777777778,\"#fb9f3a\"],[0.8888888888888888,\"#fdca26\"],[1.0,\"#f0f921\"]],\"diverging\":[[0,\"#8e0152\"],[0.1,\"#c51b7d\"],[0.2,\"#de77ae\"],[0.3,\"#f1b6da\"],[0.4,\"#fde0ef\"],[0.5,\"#f7f7f7\"],[0.6,\"#e6f5d0\"],[0.7,\"#b8e186\"],[0.8,\"#7fbc41\"],[0.9,\"#4d9221\"],[1,\"#276419\"]]},\"xaxis\":{\"gridcolor\":\"white\",\"linecolor\":\"white\",\"ticks\":\"\",\"title\":{\"standoff\":15},\"zerolinecolor\":\"white\",\"automargin\":true,\"zerolinewidth\":2},\"yaxis\":{\"gridcolor\":\"white\",\"linecolor\":\"white\",\"ticks\":\"\",\"title\":{\"standoff\":15},\"zerolinecolor\":\"white\",\"automargin\":true,\"zerolinewidth\":2},\"scene\":{\"xaxis\":{\"backgroundcolor\":\"#E5ECF6\",\"gridcolor\":\"white\",\"linecolor\":\"white\",\"showbackground\":true,\"ticks\":\"\",\"zerolinecolor\":\"white\",\"gridwidth\":2},\"yaxis\":{\"backgroundcolor\":\"#E5ECF6\",\"gridcolor\":\"white\",\"linecolor\":\"white\",\"showbackground\":true,\"ticks\":\"\",\"zerolinecolor\":\"white\",\"gridwidth\":2},\"zaxis\":{\"backgroundcolor\":\"#E5ECF6\",\"gridcolor\":\"white\",\"linecolor\":\"white\",\"showbackground\":true,\"ticks\":\"\",\"zerolinecolor\":\"white\",\"gridwidth\":2}},\"shapedefaults\":{\"line\":{\"color\":\"#2a3f5f\"}},\"annotationdefaults\":{\"arrowcolor\":\"#2a3f5f\",\"arrowhead\":0,\"arrowwidth\":1},\"geo\":{\"bgcolor\":\"white\",\"landcolor\":\"#E5ECF6\",\"subunitcolor\":\"white\",\"showland\":true,\"showlakes\":true,\"lakecolor\":\"white\"},\"title\":{\"x\":0.05},\"mapbox\":{\"style\":\"light\"}}},\"xaxis\":{\"anchor\":\"y\",\"domain\":[0.0,0.819],\"title\":{\"text\":\"Country\"}},\"yaxis\":{\"anchor\":\"x\",\"domain\":[0.0,0.17600000000000002],\"title\":{\"text\":\"VALUE\"}},\"xaxis2\":{\"anchor\":\"y2\",\"domain\":[0.824,0.98],\"matches\":\"x2\",\"showticklabels\":false,\"showline\":false,\"ticks\":\"\",\"showgrid\":false},\"yaxis2\":{\"anchor\":\"x2\",\"domain\":[0.0,0.17600000000000002],\"matches\":\"y\",\"showticklabels\":false,\"showgrid\":true},\"xaxis3\":{\"anchor\":\"y3\",\"domain\":[0.0,0.819],\"matches\":\"x\",\"showticklabels\":false},\"yaxis3\":{\"anchor\":\"x3\",\"domain\":[0.20600000000000002,0.382],\"matches\":\"y\",\"title\":{\"text\":\"VALUE\"}},\"xaxis4\":{\"anchor\":\"y4\",\"domain\":[0.824,0.98],\"matches\":\"x2\",\"showticklabels\":false,\"showline\":false,\"ticks\":\"\",\"showgrid\":false},\"yaxis4\":{\"anchor\":\"x4\",\"domain\":[0.20600000000000002,0.382],\"matches\":\"y\",\"showticklabels\":false,\"showgrid\":true},\"xaxis5\":{\"anchor\":\"y5\",\"domain\":[0.0,0.819],\"matches\":\"x\",\"showticklabels\":false},\"yaxis5\":{\"anchor\":\"x5\",\"domain\":[0.41200000000000003,0.5880000000000001],\"matches\":\"y\",\"title\":{\"text\":\"VALUE\"}},\"xaxis6\":{\"anchor\":\"y6\",\"domain\":[0.824,0.98],\"matches\":\"x2\",\"showticklabels\":false,\"showline\":false,\"ticks\":\"\",\"showgrid\":false},\"yaxis6\":{\"anchor\":\"x6\",\"domain\":[0.41200000000000003,0.5880000000000001],\"matches\":\"y\",\"showticklabels\":false,\"showgrid\":true},\"xaxis7\":{\"anchor\":\"y7\",\"domain\":[0.0,0.819],\"matches\":\"x\",\"showticklabels\":false},\"yaxis7\":{\"anchor\":\"x7\",\"domain\":[0.618,0.794],\"matches\":\"y\",\"title\":{\"text\":\"VALUE\"}},\"xaxis8\":{\"anchor\":\"y8\",\"domain\":[0.824,0.98],\"matches\":\"x2\",\"showticklabels\":false,\"showline\":false,\"ticks\":\"\",\"showgrid\":false},\"yaxis8\":{\"anchor\":\"x8\",\"domain\":[0.618,0.794],\"matches\":\"y\",\"showticklabels\":false,\"showgrid\":true},\"xaxis9\":{\"anchor\":\"y9\",\"domain\":[0.0,0.819],\"matches\":\"x\",\"showticklabels\":false},\"yaxis9\":{\"anchor\":\"x9\",\"domain\":[0.8240000000000001,1.0],\"matches\":\"y\",\"title\":{\"text\":\"VALUE\"}},\"xaxis10\":{\"anchor\":\"y10\",\"domain\":[0.824,0.98],\"matches\":\"x2\",\"showticklabels\":false,\"showline\":false,\"ticks\":\"\",\"showgrid\":false},\"yaxis10\":{\"anchor\":\"x10\",\"domain\":[0.8240000000000001,1.0],\"matches\":\"y\",\"showticklabels\":false,\"showgrid\":true},\"annotations\":[{\"font\":{},\"showarrow\":false,\"text\":\"Region=Africa\",\"textangle\":90,\"x\":0.98,\"xanchor\":\"left\",\"xref\":\"paper\",\"y\":0.08800000000000001,\"yanchor\":\"middle\",\"yref\":\"paper\"},{\"font\":{},\"showarrow\":false,\"text\":\"Region=Oceania\",\"textangle\":90,\"x\":0.98,\"xanchor\":\"left\",\"xref\":\"paper\",\"y\":0.29400000000000004,\"yanchor\":\"middle\",\"yref\":\"paper\"},{\"font\":{},\"showarrow\":false,\"text\":\"Region=Europe\",\"textangle\":90,\"x\":0.98,\"xanchor\":\"left\",\"xref\":\"paper\",\"y\":0.5,\"yanchor\":\"middle\",\"yref\":\"paper\"},{\"font\":{},\"showarrow\":false,\"text\":\"Region=Asia\",\"textangle\":90,\"x\":0.98,\"xanchor\":\"left\",\"xref\":\"paper\",\"y\":0.706,\"yanchor\":\"middle\",\"yref\":\"paper\"},{\"font\":{},\"showarrow\":false,\"text\":\"Region=Americas\",\"textangle\":90,\"x\":0.98,\"xanchor\":\"left\",\"xref\":\"paper\",\"y\":0.912,\"yanchor\":\"middle\",\"yref\":\"paper\"}],\"coloraxis\":{\"colorbar\":{\"title\":{\"text\":\"count\"}},\"colorscale\":[[0.0,\"lightyellow\"],[0.5,\"orange\"],[1.0,\"red\"]]},\"legend\":{\"tracegroupgap\":0},\"margin\":{\"t\":60}},                        {\"responsive\": true}                    ).then(function(){\n",
       "                            \n",
       "var gd = document.getElementById('7f433b39-983b-422d-aab8-6e1c79eafe9e');\n",
       "var x = new MutationObserver(function (mutations, observer) {{\n",
       "        var display = window.getComputedStyle(gd).display;\n",
       "        if (!display || display === 'none') {{\n",
       "            console.log([gd, 'removed!']);\n",
       "            Plotly.purge(gd);\n",
       "            observer.disconnect();\n",
       "        }}\n",
       "}});\n",
       "\n",
       "// Listen for the removal of the full notebook cells\n",
       "var notebookContainer = gd.closest('#notebook-container');\n",
       "if (notebookContainer) {{\n",
       "    x.observe(notebookContainer, {childList: true});\n",
       "}}\n",
       "\n",
       "// Listen for the clearing of the current output cell\n",
       "var outputEl = gd.closest('.output');\n",
       "if (outputEl) {{\n",
       "    x.observe(outputEl, {childList: true});\n",
       "}}\n",
       "\n",
       "                        })                };                });            </script>        </div>"
      ]
     },
     "metadata": {},
     "output_type": "display_data"
    }
   ],
   "source": [
    "fig2 = px.density_heatmap(df, x=\"Country\", y=\"VALUE\",marginal_x= False, marginal_y=\"violin\", \n",
    "                          color_continuous_scale=[\"lightyellow\", \"orange\", \"red\"],facet_row=\"Region\")\n",
    "\n",
    "fig2.show()"
   ]
  },
  {
   "cell_type": "code",
   "execution_count": 46,
   "id": "f54546f9",
   "metadata": {
    "scrolled": true
   },
   "outputs": [
    {
     "data": {
      "application/vnd.plotly.v1+json": {
       "config": {
        "plotlyServerURL": "https://plot.ly"
       },
       "data": [
        {
         "hovertemplate": "Country=%{x}<br>VALUE=%{y}<extra></extra>",
         "legendgroup": "",
         "marker": {
          "color": "#636efa",
          "symbol": "circle"
         },
         "mode": "markers",
         "name": "",
         "orientation": "v",
         "showlegend": false,
         "type": "scatter",
         "x": [
          "Aruba",
          "Afghanistan",
          "Anguilla",
          "Albania",
          "Andorra",
          "United Arab Emirates",
          "Argentina",
          "Armenia",
          "American Samoa",
          "Antigua and Barbuda",
          "Australia",
          "Austria",
          "Azerbaijan",
          "Burkina Faso",
          "Bangladesh",
          "Bulgaria",
          "Bahrain",
          "Bahamas",
          "Bosnia and Herzegovina",
          "Belarus",
          "Belize",
          "Bermuda",
          "Brazil",
          "Barbados",
          "Brunei Darussalam",
          "Bhutan",
          "Botswana",
          "Canada",
          "Channel Island",
          "Switzerland",
          "Chile",
          "China",
          "Cameroon",
          "Colombia",
          "Costa Rica",
          "Cuba",
          "Cayman Islands",
          "Cyprus",
          "Czechia",
          "Germany",
          "Dominica",
          "Denmark",
          "Dominican Republic",
          "Algeria",
          "Ecuador",
          "Egypt",
          "Spain",
          "Estonia",
          "Finland",
          "Fiji",
          "France",
          "United Kingdom of Great Britain and Northern Ireland",
          "Georgia",
          "Ghana",
          "Gibraltar",
          "Greece",
          "Grenada",
          "Greenland",
          "Guatemala",
          "Guam",
          "Guyana",
          "China, Hong Kong Special Administrative Region",
          "Honduras",
          "Croatia",
          "Haiti",
          "Hungary",
          "India",
          "Ireland",
          "Iraq",
          "Iceland",
          "Israel",
          "Italy",
          "Jamaica",
          "Jordan",
          "Japan",
          "Kazakhstan",
          "Kenya",
          "Kyrgyzstan",
          "Cambodia",
          "Kiribati",
          "Saint Kitts and Nevis",
          "Republic of Korea",
          "Kuwait",
          "Lebanon",
          "Liberia",
          "Saint Lucia",
          "Liechtenstein",
          "Sri Lanka",
          "Lesotho",
          "Lithuania",
          "Luxembourg",
          "China, Macao Special Administrative Region",
          "Morocco",
          "Republic of Moldova",
          "Maldives",
          "Mexico",
          "North Macedonia",
          "Malta",
          "Myanmar",
          "Montenegro",
          "Mongolia",
          "Mozambique",
          "Mauritius",
          "Malawi",
          "Malaysia",
          "Namibia",
          "Nicaragua",
          "Netherlands",
          "Norway",
          "Nepal",
          "New Zealand",
          "Oman",
          "Pakistan",
          "Panama",
          "Philippines",
          "Papua New Guinea",
          "Poland",
          "Puerto Rico",
          "Paraguay",
          "State of Palestine",
          "Qatar",
          "Romania",
          "Russian Federation",
          "Rwanda",
          "Singapore",
          "Sierra Leone",
          "El Salvador",
          "San Marino",
          "Serbia",
          "Sao Tome and Principe",
          "Slovakia",
          "Slovenia",
          "Sweden",
          "Eswatini",
          "Seychelles",
          "Syrian Arab Republic",
          "Thailand",
          "Tajikistan",
          "Timor-Leste",
          "Tonga",
          "Trinidad and Tobago",
          "Tunisia",
          "Türkiye",
          "Tuvalu",
          "China, Taiwan Province of China",
          "United Republic of Tanzania",
          "Uganda",
          "Ukraine",
          "Uruguay",
          "United States of America",
          "Holy See",
          "Saint Vincent and the Grenadines",
          "Venezuela (Bolivarian Republic of)",
          "United States Virgin Islands",
          "Viet Nam",
          "Samoa",
          "Yemen",
          "South Africa",
          "Zambia",
          "Zimbabwe"
         ],
         "xaxis": "x",
         "y": [
          3.93449072935622,
          3.3681096075378,
          0,
          4.30796304921017,
          0,
          0.78362591429846,
          5.82945646358224,
          1.94625960183699,
          8.91519863062549,
          6.81585823014881,
          1.0426687589854,
          0.689659682673311,
          2.28066203411804,
          0.788198249930744,
          2.70234680592128,
          1.99326304028371,
          0.161178017897207,
          26.4836477562152,
          1.51127600811555,
          4.25663993369408,
          40.004341556448,
          10.7053281947758,
          26.717095855717,
          10.9878035380727,
          0.257311506455946,
          2.33405591814466,
          15.248305827671,
          1.62822732372785,
          0,
          0.665926122668202,
          3.17069021002804,
          0.979682650091451,
          4.91120598571296,
          34.1841604810009,
          11.5131589726941,
          4.49855257957249,
          15.8808582721626,
          0.719025504733435,
          0.977552917407029,
          0.981107785998394,
          21.1634239598177,
          0.756096160309668,
          25.5180004532178,
          0.705997765100146,
          17.4803815359739,
          2.22205456457373,
          0.854445688374367,
          5.25484891183339,
          2.21775606323326,
          2.32607906807968,
          1.26591266936055,
          1.19130534304701,
          4.56198147103654,
          1.70301280722129,
          2.97751972606819,
          1.61651193463414,
          9.41380251725079,
          19.4215897454006,
          40.7370396748692,
          1.88159735071093,
          18.6808641234005,
          0.50241705668585,
          74.9747489229593,
          1.43247839787919,
          6.80448649847155,
          1.39009486893823,
          3.76413425017975,
          1.2076419583122,
          9.04781817294795,
          0.624332744379444,
          2.04180361497246,
          0.891694785112682,
          51.486160292393,
          1.59745706868556,
          0.361748484929274,
          8.53419087902351,
          4.58236653964518,
          16.7641099769876,
          2.3127114235717,
          3.88613620907413,
          42.8475240252188,
          0.978157178925969,
          2.00542534403072,
          3.2908922638593,
          3.3150389439982,
          25.2739930611401,
          2.77808645405045,
          3.76571841961435,
          38.2847049096125,
          7.01063599913567,
          1.96893028017878,
          0.371598710552474,
          1.39441191435009,
          6.48541759971024,
          1.64055450742351,
          22.5754505573749,
          2.07655535203167,
          0.96558416635084,
          1.58297808057564,
          2.40277183759185,
          8.78708129925269,
          3.71840940299471,
          2.64433035538999,
          3.57643730309391,
          1.9143486386216,
          14.8191707210942,
          13.4785745608989,
          0.863157885903355,
          0.593547362418791,
          3.00963895179125,
          0.983968183503201,
          1.57820239459334,
          7.3512755993055,
          12.6280269174629,
          9.20005945930851,
          9.7530788541213,
          1.00183189135634,
          28.7722195560586,
          11.859762865562,
          0.789026223286531,
          0.215479044932229,
          1.29934456370843,
          11.6323421850625,
          2.89859749716565,
          0.370285919195817,
          2.54066783090562,
          64.4741155103829,
          0,
          1.44584884562316,
          3.32645865211895,
          1.51731225527557,
          0.734093658605339,
          0.969099877669777,
          19.53343269089,
          9.86052830519431,
          2.16734516741243,
          5.43790201632764,
          2.4045496736787,
          3.56647404658547,
          0.961714159317568,
          35.6136081629703,
          2.68917171160608,
          4.23631609067884,
          9.5047999239616,
          0.771965790616312,
          8.76731465720927,
          9.7446158222217,
          4.34136151823265,
          6.10251087065565,
          4.76422446313797,
          0,
          23.0925549602808,
          45.991654975949,
          52.787361197519,
          1.51874004143909,
          8.60474121240804,
          4.74630502960632,
          31.0307324523922,
          5.98266086706248,
          5.59942692109959
         ],
         "yaxis": "y"
        },
        {
         "alignmentgroup": "True",
         "hovertemplate": "VALUE=%{y}<extra></extra>",
         "legendgroup": "",
         "marker": {
          "color": "#636efa",
          "symbol": "circle"
         },
         "name": "",
         "offsetgroup": "",
         "scalegroup": "y",
         "showlegend": false,
         "type": "violin",
         "xaxis": "x2",
         "y": [
          3.93449072935622,
          3.3681096075378,
          0,
          4.30796304921017,
          0,
          0.78362591429846,
          5.82945646358224,
          1.94625960183699,
          8.91519863062549,
          6.81585823014881,
          1.0426687589854,
          0.689659682673311,
          2.28066203411804,
          0.788198249930744,
          2.70234680592128,
          1.99326304028371,
          0.161178017897207,
          26.4836477562152,
          1.51127600811555,
          4.25663993369408,
          40.004341556448,
          10.7053281947758,
          26.717095855717,
          10.9878035380727,
          0.257311506455946,
          2.33405591814466,
          15.248305827671,
          1.62822732372785,
          0,
          0.665926122668202,
          3.17069021002804,
          0.979682650091451,
          4.91120598571296,
          34.1841604810009,
          11.5131589726941,
          4.49855257957249,
          15.8808582721626,
          0.719025504733435,
          0.977552917407029,
          0.981107785998394,
          21.1634239598177,
          0.756096160309668,
          25.5180004532178,
          0.705997765100146,
          17.4803815359739,
          2.22205456457373,
          0.854445688374367,
          5.25484891183339,
          2.21775606323326,
          2.32607906807968,
          1.26591266936055,
          1.19130534304701,
          4.56198147103654,
          1.70301280722129,
          2.97751972606819,
          1.61651193463414,
          9.41380251725079,
          19.4215897454006,
          40.7370396748692,
          1.88159735071093,
          18.6808641234005,
          0.50241705668585,
          74.9747489229593,
          1.43247839787919,
          6.80448649847155,
          1.39009486893823,
          3.76413425017975,
          1.2076419583122,
          9.04781817294795,
          0.624332744379444,
          2.04180361497246,
          0.891694785112682,
          51.486160292393,
          1.59745706868556,
          0.361748484929274,
          8.53419087902351,
          4.58236653964518,
          16.7641099769876,
          2.3127114235717,
          3.88613620907413,
          42.8475240252188,
          0.978157178925969,
          2.00542534403072,
          3.2908922638593,
          3.3150389439982,
          25.2739930611401,
          2.77808645405045,
          3.76571841961435,
          38.2847049096125,
          7.01063599913567,
          1.96893028017878,
          0.371598710552474,
          1.39441191435009,
          6.48541759971024,
          1.64055450742351,
          22.5754505573749,
          2.07655535203167,
          0.96558416635084,
          1.58297808057564,
          2.40277183759185,
          8.78708129925269,
          3.71840940299471,
          2.64433035538999,
          3.57643730309391,
          1.9143486386216,
          14.8191707210942,
          13.4785745608989,
          0.863157885903355,
          0.593547362418791,
          3.00963895179125,
          0.983968183503201,
          1.57820239459334,
          7.3512755993055,
          12.6280269174629,
          9.20005945930851,
          9.7530788541213,
          1.00183189135634,
          28.7722195560586,
          11.859762865562,
          0.789026223286531,
          0.215479044932229,
          1.29934456370843,
          11.6323421850625,
          2.89859749716565,
          0.370285919195817,
          2.54066783090562,
          64.4741155103829,
          0,
          1.44584884562316,
          3.32645865211895,
          1.51731225527557,
          0.734093658605339,
          0.969099877669777,
          19.53343269089,
          9.86052830519431,
          2.16734516741243,
          5.43790201632764,
          2.4045496736787,
          3.56647404658547,
          0.961714159317568,
          35.6136081629703,
          2.68917171160608,
          4.23631609067884,
          9.5047999239616,
          0.771965790616312,
          8.76731465720927,
          9.7446158222217,
          4.34136151823265,
          6.10251087065565,
          4.76422446313797,
          0,
          23.0925549602808,
          45.991654975949,
          52.787361197519,
          1.51874004143909,
          8.60474121240804,
          4.74630502960632,
          31.0307324523922,
          5.98266086706248,
          5.59942692109959
         ],
         "yaxis": "y2"
        }
       ],
       "layout": {
        "legend": {
         "tracegroupgap": 0
        },
        "margin": {
         "t": 60
        },
        "template": {
         "data": {
          "bar": [
           {
            "error_x": {
             "color": "#2a3f5f"
            },
            "error_y": {
             "color": "#2a3f5f"
            },
            "marker": {
             "line": {
              "color": "#E5ECF6",
              "width": 0.5
             },
             "pattern": {
              "fillmode": "overlay",
              "size": 10,
              "solidity": 0.2
             }
            },
            "type": "bar"
           }
          ],
          "barpolar": [
           {
            "marker": {
             "line": {
              "color": "#E5ECF6",
              "width": 0.5
             },
             "pattern": {
              "fillmode": "overlay",
              "size": 10,
              "solidity": 0.2
             }
            },
            "type": "barpolar"
           }
          ],
          "carpet": [
           {
            "aaxis": {
             "endlinecolor": "#2a3f5f",
             "gridcolor": "white",
             "linecolor": "white",
             "minorgridcolor": "white",
             "startlinecolor": "#2a3f5f"
            },
            "baxis": {
             "endlinecolor": "#2a3f5f",
             "gridcolor": "white",
             "linecolor": "white",
             "minorgridcolor": "white",
             "startlinecolor": "#2a3f5f"
            },
            "type": "carpet"
           }
          ],
          "choropleth": [
           {
            "colorbar": {
             "outlinewidth": 0,
             "ticks": ""
            },
            "type": "choropleth"
           }
          ],
          "contour": [
           {
            "colorbar": {
             "outlinewidth": 0,
             "ticks": ""
            },
            "colorscale": [
             [
              0,
              "#0d0887"
             ],
             [
              0.1111111111111111,
              "#46039f"
             ],
             [
              0.2222222222222222,
              "#7201a8"
             ],
             [
              0.3333333333333333,
              "#9c179e"
             ],
             [
              0.4444444444444444,
              "#bd3786"
             ],
             [
              0.5555555555555556,
              "#d8576b"
             ],
             [
              0.6666666666666666,
              "#ed7953"
             ],
             [
              0.7777777777777778,
              "#fb9f3a"
             ],
             [
              0.8888888888888888,
              "#fdca26"
             ],
             [
              1,
              "#f0f921"
             ]
            ],
            "type": "contour"
           }
          ],
          "contourcarpet": [
           {
            "colorbar": {
             "outlinewidth": 0,
             "ticks": ""
            },
            "type": "contourcarpet"
           }
          ],
          "heatmap": [
           {
            "colorbar": {
             "outlinewidth": 0,
             "ticks": ""
            },
            "colorscale": [
             [
              0,
              "#0d0887"
             ],
             [
              0.1111111111111111,
              "#46039f"
             ],
             [
              0.2222222222222222,
              "#7201a8"
             ],
             [
              0.3333333333333333,
              "#9c179e"
             ],
             [
              0.4444444444444444,
              "#bd3786"
             ],
             [
              0.5555555555555556,
              "#d8576b"
             ],
             [
              0.6666666666666666,
              "#ed7953"
             ],
             [
              0.7777777777777778,
              "#fb9f3a"
             ],
             [
              0.8888888888888888,
              "#fdca26"
             ],
             [
              1,
              "#f0f921"
             ]
            ],
            "type": "heatmap"
           }
          ],
          "heatmapgl": [
           {
            "colorbar": {
             "outlinewidth": 0,
             "ticks": ""
            },
            "colorscale": [
             [
              0,
              "#0d0887"
             ],
             [
              0.1111111111111111,
              "#46039f"
             ],
             [
              0.2222222222222222,
              "#7201a8"
             ],
             [
              0.3333333333333333,
              "#9c179e"
             ],
             [
              0.4444444444444444,
              "#bd3786"
             ],
             [
              0.5555555555555556,
              "#d8576b"
             ],
             [
              0.6666666666666666,
              "#ed7953"
             ],
             [
              0.7777777777777778,
              "#fb9f3a"
             ],
             [
              0.8888888888888888,
              "#fdca26"
             ],
             [
              1,
              "#f0f921"
             ]
            ],
            "type": "heatmapgl"
           }
          ],
          "histogram": [
           {
            "marker": {
             "pattern": {
              "fillmode": "overlay",
              "size": 10,
              "solidity": 0.2
             }
            },
            "type": "histogram"
           }
          ],
          "histogram2d": [
           {
            "colorbar": {
             "outlinewidth": 0,
             "ticks": ""
            },
            "colorscale": [
             [
              0,
              "#0d0887"
             ],
             [
              0.1111111111111111,
              "#46039f"
             ],
             [
              0.2222222222222222,
              "#7201a8"
             ],
             [
              0.3333333333333333,
              "#9c179e"
             ],
             [
              0.4444444444444444,
              "#bd3786"
             ],
             [
              0.5555555555555556,
              "#d8576b"
             ],
             [
              0.6666666666666666,
              "#ed7953"
             ],
             [
              0.7777777777777778,
              "#fb9f3a"
             ],
             [
              0.8888888888888888,
              "#fdca26"
             ],
             [
              1,
              "#f0f921"
             ]
            ],
            "type": "histogram2d"
           }
          ],
          "histogram2dcontour": [
           {
            "colorbar": {
             "outlinewidth": 0,
             "ticks": ""
            },
            "colorscale": [
             [
              0,
              "#0d0887"
             ],
             [
              0.1111111111111111,
              "#46039f"
             ],
             [
              0.2222222222222222,
              "#7201a8"
             ],
             [
              0.3333333333333333,
              "#9c179e"
             ],
             [
              0.4444444444444444,
              "#bd3786"
             ],
             [
              0.5555555555555556,
              "#d8576b"
             ],
             [
              0.6666666666666666,
              "#ed7953"
             ],
             [
              0.7777777777777778,
              "#fb9f3a"
             ],
             [
              0.8888888888888888,
              "#fdca26"
             ],
             [
              1,
              "#f0f921"
             ]
            ],
            "type": "histogram2dcontour"
           }
          ],
          "mesh3d": [
           {
            "colorbar": {
             "outlinewidth": 0,
             "ticks": ""
            },
            "type": "mesh3d"
           }
          ],
          "parcoords": [
           {
            "line": {
             "colorbar": {
              "outlinewidth": 0,
              "ticks": ""
             }
            },
            "type": "parcoords"
           }
          ],
          "pie": [
           {
            "automargin": true,
            "type": "pie"
           }
          ],
          "scatter": [
           {
            "fillpattern": {
             "fillmode": "overlay",
             "size": 10,
             "solidity": 0.2
            },
            "type": "scatter"
           }
          ],
          "scatter3d": [
           {
            "line": {
             "colorbar": {
              "outlinewidth": 0,
              "ticks": ""
             }
            },
            "marker": {
             "colorbar": {
              "outlinewidth": 0,
              "ticks": ""
             }
            },
            "type": "scatter3d"
           }
          ],
          "scattercarpet": [
           {
            "marker": {
             "colorbar": {
              "outlinewidth": 0,
              "ticks": ""
             }
            },
            "type": "scattercarpet"
           }
          ],
          "scattergeo": [
           {
            "marker": {
             "colorbar": {
              "outlinewidth": 0,
              "ticks": ""
             }
            },
            "type": "scattergeo"
           }
          ],
          "scattergl": [
           {
            "marker": {
             "colorbar": {
              "outlinewidth": 0,
              "ticks": ""
             }
            },
            "type": "scattergl"
           }
          ],
          "scattermapbox": [
           {
            "marker": {
             "colorbar": {
              "outlinewidth": 0,
              "ticks": ""
             }
            },
            "type": "scattermapbox"
           }
          ],
          "scatterpolar": [
           {
            "marker": {
             "colorbar": {
              "outlinewidth": 0,
              "ticks": ""
             }
            },
            "type": "scatterpolar"
           }
          ],
          "scatterpolargl": [
           {
            "marker": {
             "colorbar": {
              "outlinewidth": 0,
              "ticks": ""
             }
            },
            "type": "scatterpolargl"
           }
          ],
          "scatterternary": [
           {
            "marker": {
             "colorbar": {
              "outlinewidth": 0,
              "ticks": ""
             }
            },
            "type": "scatterternary"
           }
          ],
          "surface": [
           {
            "colorbar": {
             "outlinewidth": 0,
             "ticks": ""
            },
            "colorscale": [
             [
              0,
              "#0d0887"
             ],
             [
              0.1111111111111111,
              "#46039f"
             ],
             [
              0.2222222222222222,
              "#7201a8"
             ],
             [
              0.3333333333333333,
              "#9c179e"
             ],
             [
              0.4444444444444444,
              "#bd3786"
             ],
             [
              0.5555555555555556,
              "#d8576b"
             ],
             [
              0.6666666666666666,
              "#ed7953"
             ],
             [
              0.7777777777777778,
              "#fb9f3a"
             ],
             [
              0.8888888888888888,
              "#fdca26"
             ],
             [
              1,
              "#f0f921"
             ]
            ],
            "type": "surface"
           }
          ],
          "table": [
           {
            "cells": {
             "fill": {
              "color": "#EBF0F8"
             },
             "line": {
              "color": "white"
             }
            },
            "header": {
             "fill": {
              "color": "#C8D4E3"
             },
             "line": {
              "color": "white"
             }
            },
            "type": "table"
           }
          ]
         },
         "layout": {
          "annotationdefaults": {
           "arrowcolor": "#2a3f5f",
           "arrowhead": 0,
           "arrowwidth": 1
          },
          "autotypenumbers": "strict",
          "coloraxis": {
           "colorbar": {
            "outlinewidth": 0,
            "ticks": ""
           }
          },
          "colorscale": {
           "diverging": [
            [
             0,
             "#8e0152"
            ],
            [
             0.1,
             "#c51b7d"
            ],
            [
             0.2,
             "#de77ae"
            ],
            [
             0.3,
             "#f1b6da"
            ],
            [
             0.4,
             "#fde0ef"
            ],
            [
             0.5,
             "#f7f7f7"
            ],
            [
             0.6,
             "#e6f5d0"
            ],
            [
             0.7,
             "#b8e186"
            ],
            [
             0.8,
             "#7fbc41"
            ],
            [
             0.9,
             "#4d9221"
            ],
            [
             1,
             "#276419"
            ]
           ],
           "sequential": [
            [
             0,
             "#0d0887"
            ],
            [
             0.1111111111111111,
             "#46039f"
            ],
            [
             0.2222222222222222,
             "#7201a8"
            ],
            [
             0.3333333333333333,
             "#9c179e"
            ],
            [
             0.4444444444444444,
             "#bd3786"
            ],
            [
             0.5555555555555556,
             "#d8576b"
            ],
            [
             0.6666666666666666,
             "#ed7953"
            ],
            [
             0.7777777777777778,
             "#fb9f3a"
            ],
            [
             0.8888888888888888,
             "#fdca26"
            ],
            [
             1,
             "#f0f921"
            ]
           ],
           "sequentialminus": [
            [
             0,
             "#0d0887"
            ],
            [
             0.1111111111111111,
             "#46039f"
            ],
            [
             0.2222222222222222,
             "#7201a8"
            ],
            [
             0.3333333333333333,
             "#9c179e"
            ],
            [
             0.4444444444444444,
             "#bd3786"
            ],
            [
             0.5555555555555556,
             "#d8576b"
            ],
            [
             0.6666666666666666,
             "#ed7953"
            ],
            [
             0.7777777777777778,
             "#fb9f3a"
            ],
            [
             0.8888888888888888,
             "#fdca26"
            ],
            [
             1,
             "#f0f921"
            ]
           ]
          },
          "colorway": [
           "#636efa",
           "#EF553B",
           "#00cc96",
           "#ab63fa",
           "#FFA15A",
           "#19d3f3",
           "#FF6692",
           "#B6E880",
           "#FF97FF",
           "#FECB52"
          ],
          "font": {
           "color": "#2a3f5f"
          },
          "geo": {
           "bgcolor": "white",
           "lakecolor": "white",
           "landcolor": "#E5ECF6",
           "showlakes": true,
           "showland": true,
           "subunitcolor": "white"
          },
          "hoverlabel": {
           "align": "left"
          },
          "hovermode": "closest",
          "mapbox": {
           "style": "light"
          },
          "paper_bgcolor": "white",
          "plot_bgcolor": "#E5ECF6",
          "polar": {
           "angularaxis": {
            "gridcolor": "white",
            "linecolor": "white",
            "ticks": ""
           },
           "bgcolor": "#E5ECF6",
           "radialaxis": {
            "gridcolor": "white",
            "linecolor": "white",
            "ticks": ""
           }
          },
          "scene": {
           "xaxis": {
            "backgroundcolor": "#E5ECF6",
            "gridcolor": "white",
            "gridwidth": 2,
            "linecolor": "white",
            "showbackground": true,
            "ticks": "",
            "zerolinecolor": "white"
           },
           "yaxis": {
            "backgroundcolor": "#E5ECF6",
            "gridcolor": "white",
            "gridwidth": 2,
            "linecolor": "white",
            "showbackground": true,
            "ticks": "",
            "zerolinecolor": "white"
           },
           "zaxis": {
            "backgroundcolor": "#E5ECF6",
            "gridcolor": "white",
            "gridwidth": 2,
            "linecolor": "white",
            "showbackground": true,
            "ticks": "",
            "zerolinecolor": "white"
           }
          },
          "shapedefaults": {
           "line": {
            "color": "#2a3f5f"
           }
          },
          "ternary": {
           "aaxis": {
            "gridcolor": "white",
            "linecolor": "white",
            "ticks": ""
           },
           "baxis": {
            "gridcolor": "white",
            "linecolor": "white",
            "ticks": ""
           },
           "bgcolor": "#E5ECF6",
           "caxis": {
            "gridcolor": "white",
            "linecolor": "white",
            "ticks": ""
           }
          },
          "title": {
           "x": 0.05
          },
          "xaxis": {
           "automargin": true,
           "gridcolor": "white",
           "linecolor": "white",
           "ticks": "",
           "title": {
            "standoff": 15
           },
           "zerolinecolor": "white",
           "zerolinewidth": 2
          },
          "yaxis": {
           "automargin": true,
           "gridcolor": "white",
           "linecolor": "white",
           "ticks": "",
           "title": {
            "standoff": 15
           },
           "zerolinecolor": "white",
           "zerolinewidth": 2
          }
         }
        },
        "xaxis": {
         "anchor": "y",
         "domain": [
          0,
          0.8358
         ],
         "title": {
          "text": "Country"
         }
        },
        "xaxis2": {
         "anchor": "y2",
         "domain": [
          0.8408,
          1
         ],
         "matches": "x2",
         "showgrid": false,
         "showline": false,
         "showticklabels": false,
         "ticks": ""
        },
        "xaxis3": {
         "anchor": "y3",
         "domain": [
          0,
          0.8358
         ],
         "matches": "x",
         "showticklabels": false
        },
        "xaxis4": {
         "anchor": "y4",
         "domain": [
          0.8408,
          1
         ],
         "matches": "x2",
         "showgrid": false,
         "showline": false,
         "showticklabels": false,
         "ticks": ""
        },
        "yaxis": {
         "anchor": "x",
         "domain": [
          0,
          0.8316
         ],
         "title": {
          "text": "VALUE"
         }
        },
        "yaxis2": {
         "anchor": "x2",
         "domain": [
          0,
          0.8316
         ],
         "matches": "y",
         "showgrid": true,
         "showticklabels": false
        },
        "yaxis3": {
         "anchor": "x3",
         "domain": [
          0.8416,
          1
         ],
         "matches": "y",
         "title": {
          "text": "VALUE"
         }
        },
        "yaxis4": {
         "anchor": "x4",
         "domain": [
          0.8416,
          1
         ],
         "matches": "y",
         "showgrid": true,
         "showticklabels": false
        }
       }
      },
      "text/html": [
       "<div>                            <div id=\"3bbdf521-db70-47da-95dd-8ffc4acc7b66\" class=\"plotly-graph-div\" style=\"height:525px; width:100%;\"></div>            <script type=\"text/javascript\">                require([\"plotly\"], function(Plotly) {                    window.PLOTLYENV=window.PLOTLYENV || {};                                    if (document.getElementById(\"3bbdf521-db70-47da-95dd-8ffc4acc7b66\")) {                    Plotly.newPlot(                        \"3bbdf521-db70-47da-95dd-8ffc4acc7b66\",                        [{\"hovertemplate\":\"Country=%{x}<br>VALUE=%{y}<extra></extra>\",\"legendgroup\":\"\",\"marker\":{\"color\":\"#636efa\",\"symbol\":\"circle\"},\"mode\":\"markers\",\"name\":\"\",\"orientation\":\"v\",\"showlegend\":false,\"x\":[\"Aruba\",\"Afghanistan\",\"Anguilla\",\"Albania\",\"Andorra\",\"United Arab Emirates\",\"Argentina\",\"Armenia\",\"American Samoa\",\"Antigua and Barbuda\",\"Australia\",\"Austria\",\"Azerbaijan\",\"Burkina Faso\",\"Bangladesh\",\"Bulgaria\",\"Bahrain\",\"Bahamas\",\"Bosnia and Herzegovina\",\"Belarus\",\"Belize\",\"Bermuda\",\"Brazil\",\"Barbados\",\"Brunei Darussalam\",\"Bhutan\",\"Botswana\",\"Canada\",\"Channel Island\",\"Switzerland\",\"Chile\",\"China\",\"Cameroon\",\"Colombia\",\"Costa Rica\",\"Cuba\",\"Cayman Islands\",\"Cyprus\",\"Czechia\",\"Germany\",\"Dominica\",\"Denmark\",\"Dominican Republic\",\"Algeria\",\"Ecuador\",\"Egypt\",\"Spain\",\"Estonia\",\"Finland\",\"Fiji\",\"France\",\"United Kingdom of Great Britain and Northern Ireland\",\"Georgia\",\"Ghana\",\"Gibraltar\",\"Greece\",\"Grenada\",\"Greenland\",\"Guatemala\",\"Guam\",\"Guyana\",\"China, Hong Kong Special Administrative Region\",\"Honduras\",\"Croatia\",\"Haiti\",\"Hungary\",\"India\",\"Ireland\",\"Iraq\",\"Iceland\",\"Israel\",\"Italy\",\"Jamaica\",\"Jordan\",\"Japan\",\"Kazakhstan\",\"Kenya\",\"Kyrgyzstan\",\"Cambodia\",\"Kiribati\",\"Saint Kitts and Nevis\",\"Republic of Korea\",\"Kuwait\",\"Lebanon\",\"Liberia\",\"Saint Lucia\",\"Liechtenstein\",\"Sri Lanka\",\"Lesotho\",\"Lithuania\",\"Luxembourg\",\"China, Macao Special Administrative Region\",\"Morocco\",\"Republic of Moldova\",\"Maldives\",\"Mexico\",\"North Macedonia\",\"Malta\",\"Myanmar\",\"Montenegro\",\"Mongolia\",\"Mozambique\",\"Mauritius\",\"Malawi\",\"Malaysia\",\"Namibia\",\"Nicaragua\",\"Netherlands\",\"Norway\",\"Nepal\",\"New Zealand\",\"Oman\",\"Pakistan\",\"Panama\",\"Philippines\",\"Papua New Guinea\",\"Poland\",\"Puerto Rico\",\"Paraguay\",\"State of Palestine\",\"Qatar\",\"Romania\",\"Russian Federation\",\"Rwanda\",\"Singapore\",\"Sierra Leone\",\"El Salvador\",\"San Marino\",\"Serbia\",\"Sao Tome and Principe\",\"Slovakia\",\"Slovenia\",\"Sweden\",\"Eswatini\",\"Seychelles\",\"Syrian Arab Republic\",\"Thailand\",\"Tajikistan\",\"Timor-Leste\",\"Tonga\",\"Trinidad and Tobago\",\"Tunisia\",\"T\\u00fcrkiye\",\"Tuvalu\",\"China, Taiwan Province of China\",\"United Republic of Tanzania\",\"Uganda\",\"Ukraine\",\"Uruguay\",\"United States of America\",\"Holy See\",\"Saint Vincent and the Grenadines\",\"Venezuela (Bolivarian Republic of)\",\"United States Virgin Islands\",\"Viet Nam\",\"Samoa\",\"Yemen\",\"South Africa\",\"Zambia\",\"Zimbabwe\"],\"xaxis\":\"x\",\"y\":[3.93449072935622,3.3681096075378,0.0,4.30796304921017,0.0,0.78362591429846,5.82945646358224,1.94625960183699,8.91519863062549,6.81585823014881,1.0426687589854,0.689659682673311,2.28066203411804,0.788198249930744,2.70234680592128,1.99326304028371,0.161178017897207,26.4836477562152,1.51127600811555,4.25663993369408,40.004341556448,10.7053281947758,26.717095855717,10.9878035380727,0.257311506455946,2.33405591814466,15.248305827671,1.62822732372785,0.0,0.665926122668202,3.17069021002804,0.979682650091451,4.91120598571296,34.1841604810009,11.5131589726941,4.49855257957249,15.8808582721626,0.719025504733435,0.977552917407029,0.981107785998394,21.1634239598177,0.756096160309668,25.5180004532178,0.705997765100146,17.4803815359739,2.22205456457373,0.854445688374367,5.25484891183339,2.21775606323326,2.32607906807968,1.26591266936055,1.19130534304701,4.56198147103654,1.70301280722129,2.97751972606819,1.61651193463414,9.41380251725079,19.4215897454006,40.7370396748692,1.88159735071093,18.6808641234005,0.50241705668585,74.9747489229593,1.43247839787919,6.80448649847155,1.39009486893823,3.76413425017975,1.2076419583122,9.04781817294795,0.624332744379444,2.04180361497246,0.891694785112682,51.486160292393,1.59745706868556,0.361748484929274,8.53419087902351,4.58236653964518,16.7641099769876,2.3127114235717,3.88613620907413,42.8475240252188,0.978157178925969,2.00542534403072,3.2908922638593,3.3150389439982,25.2739930611401,2.77808645405045,3.76571841961435,38.2847049096125,7.01063599913567,1.96893028017878,0.371598710552474,1.39441191435009,6.48541759971024,1.64055450742351,22.5754505573749,2.07655535203167,0.96558416635084,1.58297808057564,2.40277183759185,8.78708129925269,3.71840940299471,2.64433035538999,3.57643730309391,1.9143486386216,14.8191707210942,13.4785745608989,0.863157885903355,0.593547362418791,3.00963895179125,0.983968183503201,1.57820239459334,7.3512755993055,12.6280269174629,9.20005945930851,9.7530788541213,1.00183189135634,28.7722195560586,11.859762865562,0.789026223286531,0.215479044932229,1.29934456370843,11.6323421850625,2.89859749716565,0.370285919195817,2.54066783090562,64.4741155103829,0.0,1.44584884562316,3.32645865211895,1.51731225527557,0.734093658605339,0.969099877669777,19.53343269089,9.86052830519431,2.16734516741243,5.43790201632764,2.4045496736787,3.56647404658547,0.961714159317568,35.6136081629703,2.68917171160608,4.23631609067884,9.5047999239616,0.771965790616312,8.76731465720927,9.7446158222217,4.34136151823265,6.10251087065565,4.76422446313797,0.0,23.0925549602808,45.991654975949,52.787361197519,1.51874004143909,8.60474121240804,4.74630502960632,31.0307324523922,5.98266086706248,5.59942692109959],\"yaxis\":\"y\",\"type\":\"scatter\"},{\"alignmentgroup\":\"True\",\"hovertemplate\":\"VALUE=%{y}<extra></extra>\",\"legendgroup\":\"\",\"marker\":{\"color\":\"#636efa\",\"symbol\":\"circle\"},\"name\":\"\",\"offsetgroup\":\"\",\"scalegroup\":\"y\",\"showlegend\":false,\"xaxis\":\"x2\",\"y\":[3.93449072935622,3.3681096075378,0.0,4.30796304921017,0.0,0.78362591429846,5.82945646358224,1.94625960183699,8.91519863062549,6.81585823014881,1.0426687589854,0.689659682673311,2.28066203411804,0.788198249930744,2.70234680592128,1.99326304028371,0.161178017897207,26.4836477562152,1.51127600811555,4.25663993369408,40.004341556448,10.7053281947758,26.717095855717,10.9878035380727,0.257311506455946,2.33405591814466,15.248305827671,1.62822732372785,0.0,0.665926122668202,3.17069021002804,0.979682650091451,4.91120598571296,34.1841604810009,11.5131589726941,4.49855257957249,15.8808582721626,0.719025504733435,0.977552917407029,0.981107785998394,21.1634239598177,0.756096160309668,25.5180004532178,0.705997765100146,17.4803815359739,2.22205456457373,0.854445688374367,5.25484891183339,2.21775606323326,2.32607906807968,1.26591266936055,1.19130534304701,4.56198147103654,1.70301280722129,2.97751972606819,1.61651193463414,9.41380251725079,19.4215897454006,40.7370396748692,1.88159735071093,18.6808641234005,0.50241705668585,74.9747489229593,1.43247839787919,6.80448649847155,1.39009486893823,3.76413425017975,1.2076419583122,9.04781817294795,0.624332744379444,2.04180361497246,0.891694785112682,51.486160292393,1.59745706868556,0.361748484929274,8.53419087902351,4.58236653964518,16.7641099769876,2.3127114235717,3.88613620907413,42.8475240252188,0.978157178925969,2.00542534403072,3.2908922638593,3.3150389439982,25.2739930611401,2.77808645405045,3.76571841961435,38.2847049096125,7.01063599913567,1.96893028017878,0.371598710552474,1.39441191435009,6.48541759971024,1.64055450742351,22.5754505573749,2.07655535203167,0.96558416635084,1.58297808057564,2.40277183759185,8.78708129925269,3.71840940299471,2.64433035538999,3.57643730309391,1.9143486386216,14.8191707210942,13.4785745608989,0.863157885903355,0.593547362418791,3.00963895179125,0.983968183503201,1.57820239459334,7.3512755993055,12.6280269174629,9.20005945930851,9.7530788541213,1.00183189135634,28.7722195560586,11.859762865562,0.789026223286531,0.215479044932229,1.29934456370843,11.6323421850625,2.89859749716565,0.370285919195817,2.54066783090562,64.4741155103829,0.0,1.44584884562316,3.32645865211895,1.51731225527557,0.734093658605339,0.969099877669777,19.53343269089,9.86052830519431,2.16734516741243,5.43790201632764,2.4045496736787,3.56647404658547,0.961714159317568,35.6136081629703,2.68917171160608,4.23631609067884,9.5047999239616,0.771965790616312,8.76731465720927,9.7446158222217,4.34136151823265,6.10251087065565,4.76422446313797,0.0,23.0925549602808,45.991654975949,52.787361197519,1.51874004143909,8.60474121240804,4.74630502960632,31.0307324523922,5.98266086706248,5.59942692109959],\"yaxis\":\"y2\",\"type\":\"violin\"}],                        {\"template\":{\"data\":{\"histogram2dcontour\":[{\"type\":\"histogram2dcontour\",\"colorbar\":{\"outlinewidth\":0,\"ticks\":\"\"},\"colorscale\":[[0.0,\"#0d0887\"],[0.1111111111111111,\"#46039f\"],[0.2222222222222222,\"#7201a8\"],[0.3333333333333333,\"#9c179e\"],[0.4444444444444444,\"#bd3786\"],[0.5555555555555556,\"#d8576b\"],[0.6666666666666666,\"#ed7953\"],[0.7777777777777778,\"#fb9f3a\"],[0.8888888888888888,\"#fdca26\"],[1.0,\"#f0f921\"]]}],\"choropleth\":[{\"type\":\"choropleth\",\"colorbar\":{\"outlinewidth\":0,\"ticks\":\"\"}}],\"histogram2d\":[{\"type\":\"histogram2d\",\"colorbar\":{\"outlinewidth\":0,\"ticks\":\"\"},\"colorscale\":[[0.0,\"#0d0887\"],[0.1111111111111111,\"#46039f\"],[0.2222222222222222,\"#7201a8\"],[0.3333333333333333,\"#9c179e\"],[0.4444444444444444,\"#bd3786\"],[0.5555555555555556,\"#d8576b\"],[0.6666666666666666,\"#ed7953\"],[0.7777777777777778,\"#fb9f3a\"],[0.8888888888888888,\"#fdca26\"],[1.0,\"#f0f921\"]]}],\"heatmap\":[{\"type\":\"heatmap\",\"colorbar\":{\"outlinewidth\":0,\"ticks\":\"\"},\"colorscale\":[[0.0,\"#0d0887\"],[0.1111111111111111,\"#46039f\"],[0.2222222222222222,\"#7201a8\"],[0.3333333333333333,\"#9c179e\"],[0.4444444444444444,\"#bd3786\"],[0.5555555555555556,\"#d8576b\"],[0.6666666666666666,\"#ed7953\"],[0.7777777777777778,\"#fb9f3a\"],[0.8888888888888888,\"#fdca26\"],[1.0,\"#f0f921\"]]}],\"heatmapgl\":[{\"type\":\"heatmapgl\",\"colorbar\":{\"outlinewidth\":0,\"ticks\":\"\"},\"colorscale\":[[0.0,\"#0d0887\"],[0.1111111111111111,\"#46039f\"],[0.2222222222222222,\"#7201a8\"],[0.3333333333333333,\"#9c179e\"],[0.4444444444444444,\"#bd3786\"],[0.5555555555555556,\"#d8576b\"],[0.6666666666666666,\"#ed7953\"],[0.7777777777777778,\"#fb9f3a\"],[0.8888888888888888,\"#fdca26\"],[1.0,\"#f0f921\"]]}],\"contourcarpet\":[{\"type\":\"contourcarpet\",\"colorbar\":{\"outlinewidth\":0,\"ticks\":\"\"}}],\"contour\":[{\"type\":\"contour\",\"colorbar\":{\"outlinewidth\":0,\"ticks\":\"\"},\"colorscale\":[[0.0,\"#0d0887\"],[0.1111111111111111,\"#46039f\"],[0.2222222222222222,\"#7201a8\"],[0.3333333333333333,\"#9c179e\"],[0.4444444444444444,\"#bd3786\"],[0.5555555555555556,\"#d8576b\"],[0.6666666666666666,\"#ed7953\"],[0.7777777777777778,\"#fb9f3a\"],[0.8888888888888888,\"#fdca26\"],[1.0,\"#f0f921\"]]}],\"surface\":[{\"type\":\"surface\",\"colorbar\":{\"outlinewidth\":0,\"ticks\":\"\"},\"colorscale\":[[0.0,\"#0d0887\"],[0.1111111111111111,\"#46039f\"],[0.2222222222222222,\"#7201a8\"],[0.3333333333333333,\"#9c179e\"],[0.4444444444444444,\"#bd3786\"],[0.5555555555555556,\"#d8576b\"],[0.6666666666666666,\"#ed7953\"],[0.7777777777777778,\"#fb9f3a\"],[0.8888888888888888,\"#fdca26\"],[1.0,\"#f0f921\"]]}],\"mesh3d\":[{\"type\":\"mesh3d\",\"colorbar\":{\"outlinewidth\":0,\"ticks\":\"\"}}],\"scatter\":[{\"fillpattern\":{\"fillmode\":\"overlay\",\"size\":10,\"solidity\":0.2},\"type\":\"scatter\"}],\"parcoords\":[{\"type\":\"parcoords\",\"line\":{\"colorbar\":{\"outlinewidth\":0,\"ticks\":\"\"}}}],\"scatterpolargl\":[{\"type\":\"scatterpolargl\",\"marker\":{\"colorbar\":{\"outlinewidth\":0,\"ticks\":\"\"}}}],\"bar\":[{\"error_x\":{\"color\":\"#2a3f5f\"},\"error_y\":{\"color\":\"#2a3f5f\"},\"marker\":{\"line\":{\"color\":\"#E5ECF6\",\"width\":0.5},\"pattern\":{\"fillmode\":\"overlay\",\"size\":10,\"solidity\":0.2}},\"type\":\"bar\"}],\"scattergeo\":[{\"type\":\"scattergeo\",\"marker\":{\"colorbar\":{\"outlinewidth\":0,\"ticks\":\"\"}}}],\"scatterpolar\":[{\"type\":\"scatterpolar\",\"marker\":{\"colorbar\":{\"outlinewidth\":0,\"ticks\":\"\"}}}],\"histogram\":[{\"marker\":{\"pattern\":{\"fillmode\":\"overlay\",\"size\":10,\"solidity\":0.2}},\"type\":\"histogram\"}],\"scattergl\":[{\"type\":\"scattergl\",\"marker\":{\"colorbar\":{\"outlinewidth\":0,\"ticks\":\"\"}}}],\"scatter3d\":[{\"type\":\"scatter3d\",\"line\":{\"colorbar\":{\"outlinewidth\":0,\"ticks\":\"\"}},\"marker\":{\"colorbar\":{\"outlinewidth\":0,\"ticks\":\"\"}}}],\"scattermapbox\":[{\"type\":\"scattermapbox\",\"marker\":{\"colorbar\":{\"outlinewidth\":0,\"ticks\":\"\"}}}],\"scatterternary\":[{\"type\":\"scatterternary\",\"marker\":{\"colorbar\":{\"outlinewidth\":0,\"ticks\":\"\"}}}],\"scattercarpet\":[{\"type\":\"scattercarpet\",\"marker\":{\"colorbar\":{\"outlinewidth\":0,\"ticks\":\"\"}}}],\"carpet\":[{\"aaxis\":{\"endlinecolor\":\"#2a3f5f\",\"gridcolor\":\"white\",\"linecolor\":\"white\",\"minorgridcolor\":\"white\",\"startlinecolor\":\"#2a3f5f\"},\"baxis\":{\"endlinecolor\":\"#2a3f5f\",\"gridcolor\":\"white\",\"linecolor\":\"white\",\"minorgridcolor\":\"white\",\"startlinecolor\":\"#2a3f5f\"},\"type\":\"carpet\"}],\"table\":[{\"cells\":{\"fill\":{\"color\":\"#EBF0F8\"},\"line\":{\"color\":\"white\"}},\"header\":{\"fill\":{\"color\":\"#C8D4E3\"},\"line\":{\"color\":\"white\"}},\"type\":\"table\"}],\"barpolar\":[{\"marker\":{\"line\":{\"color\":\"#E5ECF6\",\"width\":0.5},\"pattern\":{\"fillmode\":\"overlay\",\"size\":10,\"solidity\":0.2}},\"type\":\"barpolar\"}],\"pie\":[{\"automargin\":true,\"type\":\"pie\"}]},\"layout\":{\"autotypenumbers\":\"strict\",\"colorway\":[\"#636efa\",\"#EF553B\",\"#00cc96\",\"#ab63fa\",\"#FFA15A\",\"#19d3f3\",\"#FF6692\",\"#B6E880\",\"#FF97FF\",\"#FECB52\"],\"font\":{\"color\":\"#2a3f5f\"},\"hovermode\":\"closest\",\"hoverlabel\":{\"align\":\"left\"},\"paper_bgcolor\":\"white\",\"plot_bgcolor\":\"#E5ECF6\",\"polar\":{\"bgcolor\":\"#E5ECF6\",\"angularaxis\":{\"gridcolor\":\"white\",\"linecolor\":\"white\",\"ticks\":\"\"},\"radialaxis\":{\"gridcolor\":\"white\",\"linecolor\":\"white\",\"ticks\":\"\"}},\"ternary\":{\"bgcolor\":\"#E5ECF6\",\"aaxis\":{\"gridcolor\":\"white\",\"linecolor\":\"white\",\"ticks\":\"\"},\"baxis\":{\"gridcolor\":\"white\",\"linecolor\":\"white\",\"ticks\":\"\"},\"caxis\":{\"gridcolor\":\"white\",\"linecolor\":\"white\",\"ticks\":\"\"}},\"coloraxis\":{\"colorbar\":{\"outlinewidth\":0,\"ticks\":\"\"}},\"colorscale\":{\"sequential\":[[0.0,\"#0d0887\"],[0.1111111111111111,\"#46039f\"],[0.2222222222222222,\"#7201a8\"],[0.3333333333333333,\"#9c179e\"],[0.4444444444444444,\"#bd3786\"],[0.5555555555555556,\"#d8576b\"],[0.6666666666666666,\"#ed7953\"],[0.7777777777777778,\"#fb9f3a\"],[0.8888888888888888,\"#fdca26\"],[1.0,\"#f0f921\"]],\"sequentialminus\":[[0.0,\"#0d0887\"],[0.1111111111111111,\"#46039f\"],[0.2222222222222222,\"#7201a8\"],[0.3333333333333333,\"#9c179e\"],[0.4444444444444444,\"#bd3786\"],[0.5555555555555556,\"#d8576b\"],[0.6666666666666666,\"#ed7953\"],[0.7777777777777778,\"#fb9f3a\"],[0.8888888888888888,\"#fdca26\"],[1.0,\"#f0f921\"]],\"diverging\":[[0,\"#8e0152\"],[0.1,\"#c51b7d\"],[0.2,\"#de77ae\"],[0.3,\"#f1b6da\"],[0.4,\"#fde0ef\"],[0.5,\"#f7f7f7\"],[0.6,\"#e6f5d0\"],[0.7,\"#b8e186\"],[0.8,\"#7fbc41\"],[0.9,\"#4d9221\"],[1,\"#276419\"]]},\"xaxis\":{\"gridcolor\":\"white\",\"linecolor\":\"white\",\"ticks\":\"\",\"title\":{\"standoff\":15},\"zerolinecolor\":\"white\",\"automargin\":true,\"zerolinewidth\":2},\"yaxis\":{\"gridcolor\":\"white\",\"linecolor\":\"white\",\"ticks\":\"\",\"title\":{\"standoff\":15},\"zerolinecolor\":\"white\",\"automargin\":true,\"zerolinewidth\":2},\"scene\":{\"xaxis\":{\"backgroundcolor\":\"#E5ECF6\",\"gridcolor\":\"white\",\"linecolor\":\"white\",\"showbackground\":true,\"ticks\":\"\",\"zerolinecolor\":\"white\",\"gridwidth\":2},\"yaxis\":{\"backgroundcolor\":\"#E5ECF6\",\"gridcolor\":\"white\",\"linecolor\":\"white\",\"showbackground\":true,\"ticks\":\"\",\"zerolinecolor\":\"white\",\"gridwidth\":2},\"zaxis\":{\"backgroundcolor\":\"#E5ECF6\",\"gridcolor\":\"white\",\"linecolor\":\"white\",\"showbackground\":true,\"ticks\":\"\",\"zerolinecolor\":\"white\",\"gridwidth\":2}},\"shapedefaults\":{\"line\":{\"color\":\"#2a3f5f\"}},\"annotationdefaults\":{\"arrowcolor\":\"#2a3f5f\",\"arrowhead\":0,\"arrowwidth\":1},\"geo\":{\"bgcolor\":\"white\",\"landcolor\":\"#E5ECF6\",\"subunitcolor\":\"white\",\"showland\":true,\"showlakes\":true,\"lakecolor\":\"white\"},\"title\":{\"x\":0.05},\"mapbox\":{\"style\":\"light\"}}},\"xaxis\":{\"anchor\":\"y\",\"domain\":[0.0,0.8358],\"title\":{\"text\":\"Country\"}},\"yaxis\":{\"anchor\":\"x\",\"domain\":[0.0,0.8316],\"title\":{\"text\":\"VALUE\"}},\"xaxis2\":{\"anchor\":\"y2\",\"domain\":[0.8408,1.0],\"matches\":\"x2\",\"showticklabels\":false,\"showline\":false,\"ticks\":\"\",\"showgrid\":false},\"yaxis2\":{\"anchor\":\"x2\",\"domain\":[0.0,0.8316],\"matches\":\"y\",\"showticklabels\":false,\"showgrid\":true},\"xaxis3\":{\"anchor\":\"y3\",\"domain\":[0.0,0.8358],\"matches\":\"x\",\"showticklabels\":false},\"yaxis3\":{\"anchor\":\"x3\",\"domain\":[0.8416,1.0],\"matches\":\"y\",\"title\":{\"text\":\"VALUE\"}},\"xaxis4\":{\"anchor\":\"y4\",\"domain\":[0.8408,1.0],\"matches\":\"x2\",\"showticklabels\":false,\"showline\":false,\"ticks\":\"\",\"showgrid\":false},\"yaxis4\":{\"anchor\":\"x4\",\"domain\":[0.8416,1.0],\"matches\":\"y\",\"showticklabels\":false,\"showgrid\":true},\"legend\":{\"tracegroupgap\":0},\"margin\":{\"t\":60}},                        {\"responsive\": true}                    ).then(function(){\n",
       "                            \n",
       "var gd = document.getElementById('3bbdf521-db70-47da-95dd-8ffc4acc7b66');\n",
       "var x = new MutationObserver(function (mutations, observer) {{\n",
       "        var display = window.getComputedStyle(gd).display;\n",
       "        if (!display || display === 'none') {{\n",
       "            console.log([gd, 'removed!']);\n",
       "            Plotly.purge(gd);\n",
       "            observer.disconnect();\n",
       "        }}\n",
       "}});\n",
       "\n",
       "// Listen for the removal of the full notebook cells\n",
       "var notebookContainer = gd.closest('#notebook-container');\n",
       "if (notebookContainer) {{\n",
       "    x.observe(notebookContainer, {childList: true});\n",
       "}}\n",
       "\n",
       "// Listen for the clearing of the current output cell\n",
       "var outputEl = gd.closest('.output');\n",
       "if (outputEl) {{\n",
       "    x.observe(outputEl, {childList: true});\n",
       "}}\n",
       "\n",
       "                        })                };                });            </script>        </div>"
      ]
     },
     "metadata": {},
     "output_type": "display_data"
    }
   ],
   "source": [
    "fig3 = px.scatter(df, x=\"Country\", y=\"VALUE\",marginal_x= False, marginal_y=\"violin\",\n",
    "                  labels={\n",
    "                     \"VALUE\": \"Criminalité pour 100 000 habitants\",\n",
    "                     \"sepal_width\": \"Pays\",\n",
    "                      color_continuous_scale=[\"lightyellow\", \"orange\", \"red\"]\n",
    "                 )\n",
    "\n",
    "fig3.show()"
   ]
  },
  {
   "cell_type": "code",
   "execution_count": null,
   "id": "7e8bc738",
   "metadata": {},
   "outputs": [],
   "source": []
  }
 ],
 "metadata": {
  "kernelspec": {
   "display_name": "Python 3 (ipykernel)",
   "language": "python",
   "name": "python3"
  },
  "language_info": {
   "codemirror_mode": {
    "name": "ipython",
    "version": 3
   },
   "file_extension": ".py",
   "mimetype": "text/x-python",
   "name": "python",
   "nbconvert_exporter": "python",
   "pygments_lexer": "ipython3",
   "version": "3.9.15"
  },
  "toc": {
   "base_numbering": 1,
   "nav_menu": {},
   "number_sections": false,
   "sideBar": true,
   "skip_h1_title": false,
   "title_cell": "Table of Contents",
   "title_sidebar": "Contents",
   "toc_cell": false,
   "toc_position": {},
   "toc_section_display": true,
   "toc_window_display": false
  }
 },
 "nbformat": 4,
 "nbformat_minor": 5
}
