{
 "cells": [
  {
   "cell_type": "code",
   "execution_count": null,
   "id": "3c7c61e7",
   "metadata": {},
   "outputs": [],
   "source": [
    "import pandas as pd\n",
    "\n",
    "path = 'C://Users/flore/OneDrive/Documents/GitHub/Criminality-in-data/Dataset/homicide_intentional_.xlsx'\n",
    "crimes = pd.read_excel(path)\n",
    "crimes.columns = crimes.iloc[1]\n",
    "crimes = crimes[2:]\n",
    "crimes = crimes[(crimes.Year >= 2000) & (crimes.Year <= 2020)]\n",
    "crimes = crimes[(crimes.Country == 'India') |\n",
    "                (crimes.Country == 'United States of America') | (crimes.Country == 'Brazil')]\n",
    "crimes = crimes.reset_index()\n",
    "\n",
    "print(crimes)"
   ]
  }
 ],
 "metadata": {
  "kernelspec": {
   "display_name": "Python 3 (ipykernel)",
   "language": "python",
   "name": "python3"
  },
  "language_info": {
   "codemirror_mode": {
    "name": "ipython",
    "version": 3
   },
   "file_extension": ".py",
   "mimetype": "text/x-python",
   "name": "python",
   "nbconvert_exporter": "python",
   "pygments_lexer": "ipython3",
   "version": "3.9.12"
  },
  "toc": {
   "base_numbering": 1,
   "nav_menu": {},
   "number_sections": false,
   "sideBar": true,
   "skip_h1_title": false,
   "title_cell": "Table of Contents",
   "title_sidebar": "Contents",
   "toc_cell": false,
   "toc_position": {},
   "toc_section_display": true,
   "toc_window_display": false
  }
 },
 "nbformat": 4,
 "nbformat_minor": 5
}
