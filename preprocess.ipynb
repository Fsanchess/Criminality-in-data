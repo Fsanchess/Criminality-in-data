{
 "cells": [
  {
   "cell_type": "code",
   "execution_count": 8,
   "id": "203e7410",
   "metadata": {},
   "outputs": [],
   "source": [
    "import mapclassify as mc\n",
    "import pandas as pd #used to read in the revenue file \n",
    "import matplotlib.pyplot as plt #for plotting#to read in shape file and provides high #level interface with #matplotlib library for making maps\n",
    "import geopandas as gpd#import locally saved file\n",
    "import seaborn as sns"
   ]
  },
  {
   "cell_type": "markdown",
   "id": "83534145",
   "metadata": {},
   "source": [
    "## Dataset homicide"
   ]
  },
  {
   "cell_type": "code",
   "execution_count": 30,
   "id": "8ba04c01",
   "metadata": {},
   "outputs": [
    {
     "name": "stdout",
     "output_type": "stream",
     "text": [
      "<class 'pandas.core.frame.DataFrame'>\n",
      "Int64Index: 2820 entries, 48047 to 62667\n",
      "Data columns (total 13 columns):\n",
      " #   Column               Non-Null Count  Dtype \n",
      "---  ------               --------------  ----- \n",
      " 0   Iso3_code            2820 non-null   object\n",
      " 1   Country              2820 non-null   object\n",
      " 2   Region               2820 non-null   object\n",
      " 3   Subregion            2820 non-null   object\n",
      " 4   Indicator            2820 non-null   object\n",
      " 5   Dimension            2820 non-null   object\n",
      " 6   Category             2820 non-null   object\n",
      " 7   Sex                  2820 non-null   object\n",
      " 8   Age                  2820 non-null   object\n",
      " 9   Year                 2820 non-null   object\n",
      " 10  Unit of measurement  2820 non-null   object\n",
      " 11  VALUE                2820 non-null   object\n",
      " 12  Source               2820 non-null   object\n",
      "dtypes: object(13)\n",
      "memory usage: 308.4+ KB\n"
     ]
    }
   ],
   "source": [
    "homicide_datapath = 'Dataset/homicide_intentional_.xlsx'\n",
    "homicide_dataset = pd.read_excel(homicide_datapath)\n",
    "homicide_dataset.columns = homicide_dataset.iloc[1]\n",
    "homicide_dataset = homicide_dataset[2:]\n",
    "homicide_dataset = homicide_dataset.drop_duplicates()\n",
    "homicide_dataset = homicide_dataset[(homicide_dataset.Year >= 2000) & (homicide_dataset.Year <= 2020)]\n",
    "homicide_dataset = homicide_dataset.loc[homicide_dataset['Unit of measurement'] == 'Rate per 100,000 population']\n",
    "homicide_dataset = homicide_dataset.loc[homicide_dataset['Indicator'] == 'Victims of intentional homicide']\n",
    "homicide_dataset = homicide_dataset.loc[homicide_dataset['Dimension'] == 'Total']\n",
    "homicide_dataset = homicide_dataset.loc[homicide_dataset['Category'] == 'Total']\n",
    "homicide_dataset = homicide_dataset.loc[homicide_dataset['Sex'] == 'Total']\n",
    "homicide_dataset = homicide_dataset.loc[homicide_dataset['Age'] == 'Total']\n",
    "homicide_dataset.info()"
   ]
  },
  {
   "cell_type": "code",
   "execution_count": 31,
   "id": "e29d2f19",
   "metadata": {},
   "outputs": [
    {
     "data": {
      "text/html": [
       "<div>\n",
       "<style scoped>\n",
       "    .dataframe tbody tr th:only-of-type {\n",
       "        vertical-align: middle;\n",
       "    }\n",
       "\n",
       "    .dataframe tbody tr th {\n",
       "        vertical-align: top;\n",
       "    }\n",
       "\n",
       "    .dataframe thead th {\n",
       "        text-align: right;\n",
       "    }\n",
       "</style>\n",
       "<table border=\"1\" class=\"dataframe\">\n",
       "  <thead>\n",
       "    <tr style=\"text-align: right;\">\n",
       "      <th>1</th>\n",
       "      <th>Iso3_code</th>\n",
       "      <th>Country</th>\n",
       "      <th>Region</th>\n",
       "      <th>Subregion</th>\n",
       "      <th>Indicator</th>\n",
       "      <th>Dimension</th>\n",
       "      <th>Category</th>\n",
       "      <th>Sex</th>\n",
       "      <th>Age</th>\n",
       "      <th>Year</th>\n",
       "      <th>Unit of measurement</th>\n",
       "      <th>VALUE</th>\n",
       "      <th>Source</th>\n",
       "    </tr>\n",
       "  </thead>\n",
       "  <tbody>\n",
       "    <tr>\n",
       "      <th>48047</th>\n",
       "      <td>ABW</td>\n",
       "      <td>Aruba</td>\n",
       "      <td>Americas</td>\n",
       "      <td>Latin America and the Caribbean</td>\n",
       "      <td>Victims of intentional homicide</td>\n",
       "      <td>Total</td>\n",
       "      <td>Total</td>\n",
       "      <td>Total</td>\n",
       "      <td>Total</td>\n",
       "      <td>2001</td>\n",
       "      <td>Rate per 100,000 population</td>\n",
       "      <td>4.306076</td>\n",
       "      <td>MD</td>\n",
       "    </tr>\n",
       "    <tr>\n",
       "      <th>48048</th>\n",
       "      <td>ABW</td>\n",
       "      <td>Aruba</td>\n",
       "      <td>Americas</td>\n",
       "      <td>Latin America and the Caribbean</td>\n",
       "      <td>Victims of intentional homicide</td>\n",
       "      <td>Total</td>\n",
       "      <td>Total</td>\n",
       "      <td>Total</td>\n",
       "      <td>Total</td>\n",
       "      <td>2002</td>\n",
       "      <td>Rate per 100,000 population</td>\n",
       "      <td>5.263601</td>\n",
       "      <td>MD</td>\n",
       "    </tr>\n",
       "    <tr>\n",
       "      <th>48049</th>\n",
       "      <td>ABW</td>\n",
       "      <td>Aruba</td>\n",
       "      <td>Americas</td>\n",
       "      <td>Latin America and the Caribbean</td>\n",
       "      <td>Victims of intentional homicide</td>\n",
       "      <td>Total</td>\n",
       "      <td>Total</td>\n",
       "      <td>Total</td>\n",
       "      <td>Total</td>\n",
       "      <td>2003</td>\n",
       "      <td>Rate per 100,000 population</td>\n",
       "      <td>4.123031</td>\n",
       "      <td>MD</td>\n",
       "    </tr>\n",
       "    <tr>\n",
       "      <th>48050</th>\n",
       "      <td>ABW</td>\n",
       "      <td>Aruba</td>\n",
       "      <td>Americas</td>\n",
       "      <td>Latin America and the Caribbean</td>\n",
       "      <td>Victims of intentional homicide</td>\n",
       "      <td>Total</td>\n",
       "      <td>Total</td>\n",
       "      <td>Total</td>\n",
       "      <td>Total</td>\n",
       "      <td>2004</td>\n",
       "      <td>Rate per 100,000 population</td>\n",
       "      <td>2.02544</td>\n",
       "      <td>MD</td>\n",
       "    </tr>\n",
       "    <tr>\n",
       "      <th>48051</th>\n",
       "      <td>ABW</td>\n",
       "      <td>Aruba</td>\n",
       "      <td>Americas</td>\n",
       "      <td>Latin America and the Caribbean</td>\n",
       "      <td>Victims of intentional homicide</td>\n",
       "      <td>Total</td>\n",
       "      <td>Total</td>\n",
       "      <td>Total</td>\n",
       "      <td>Total</td>\n",
       "      <td>2005</td>\n",
       "      <td>Rate per 100,000 population</td>\n",
       "      <td>5.99832</td>\n",
       "      <td>MD</td>\n",
       "    </tr>\n",
       "  </tbody>\n",
       "</table>\n",
       "</div>"
      ],
      "text/plain": [
       "1     Iso3_code Country    Region                        Subregion  \\\n",
       "48047       ABW   Aruba  Americas  Latin America and the Caribbean   \n",
       "48048       ABW   Aruba  Americas  Latin America and the Caribbean   \n",
       "48049       ABW   Aruba  Americas  Latin America and the Caribbean   \n",
       "48050       ABW   Aruba  Americas  Latin America and the Caribbean   \n",
       "48051       ABW   Aruba  Americas  Latin America and the Caribbean   \n",
       "\n",
       "1                            Indicator Dimension Category    Sex    Age  Year  \\\n",
       "48047  Victims of intentional homicide     Total    Total  Total  Total  2001   \n",
       "48048  Victims of intentional homicide     Total    Total  Total  Total  2002   \n",
       "48049  Victims of intentional homicide     Total    Total  Total  Total  2003   \n",
       "48050  Victims of intentional homicide     Total    Total  Total  Total  2004   \n",
       "48051  Victims of intentional homicide     Total    Total  Total  Total  2005   \n",
       "\n",
       "1              Unit of measurement     VALUE Source  \n",
       "48047  Rate per 100,000 population  4.306076     MD  \n",
       "48048  Rate per 100,000 population  5.263601     MD  \n",
       "48049  Rate per 100,000 population  4.123031     MD  \n",
       "48050  Rate per 100,000 population   2.02544     MD  \n",
       "48051  Rate per 100,000 population   5.99832     MD  "
      ]
     },
     "execution_count": 31,
     "metadata": {},
     "output_type": "execute_result"
    }
   ],
   "source": [
    "homicide_dataset.head()"
   ]
  },
  {
   "cell_type": "code",
   "execution_count": 32,
   "id": "df481486",
   "metadata": {},
   "outputs": [
    {
     "name": "stdout",
     "output_type": "stream",
     "text": [
      "21\n",
      "21\n",
      "21\n",
      "21\n",
      "18\n",
      "21\n"
     ]
    }
   ],
   "source": [
    "print(sum(homicide_dataset['Iso3_code'] == 'AUS'))\n",
    "print(sum(homicide_dataset['Iso3_code'] == 'BRA'))\n",
    "print(sum(homicide_dataset['Iso3_code'] == 'IND'))\n",
    "print(sum(homicide_dataset['Iso3_code'] == 'SWE'))\n",
    "print(sum(homicide_dataset['Iso3_code'] == 'USA'))\n",
    "print(sum(homicide_dataset['Iso3_code'] == 'ZAF'))"
   ]
  },
  {
   "cell_type": "code",
   "execution_count": 33,
   "id": "73e5f471",
   "metadata": {},
   "outputs": [
    {
     "data": {
      "image/png": "[encoded data removed]",
      "text/plain": [
       "<Figure size 432x288 with 1 Axes>"
      ]
     },
     "metadata": {
      "needs_background": "light"
     },
     "output_type": "display_data"
    }
   ],
   "source": [
    "plt.boxplot(homicide_dataset.VALUE)\n",
    "plt.title(\"Box plot of VALUE\")\n",
    "plt.show()"
   ]
  },
  {
   "cell_type": "markdown",
   "id": "231ff1f8",
   "metadata": {},
   "source": [
    "## Dataset chômage"
   ]
  },
  {
   "cell_type": "code",
   "execution_count": 36,
   "id": "4bd06813",
   "metadata": {},
   "outputs": [
    {
     "name": "stdout",
     "output_type": "stream",
     "text": [
      "<class 'pandas.core.frame.DataFrame'>\n",
      "Int64Index: 6 entries, 13 to 263\n",
      "Data columns (total 26 columns):\n",
      " #   Column          Non-Null Count  Dtype  \n",
      "---  ------          --------------  -----  \n",
      " 0   Country Name    6 non-null      object \n",
      " 1   Country Code    6 non-null      object \n",
      " 2   Indicator Name  6 non-null      object \n",
      " 3   Indicator Code  6 non-null      object \n",
      " 4   2000            6 non-null      float64\n",
      " 5   2001            6 non-null      float64\n",
      " 6   2002            6 non-null      float64\n",
      " 7   2003            6 non-null      float64\n",
      " 8   2004            6 non-null      float64\n",
      " 9   2005            6 non-null      float64\n",
      " 10  2006            6 non-null      float64\n",
      " 11  2007            6 non-null      float64\n",
      " 12  2008            6 non-null      float64\n",
      " 13  2009            6 non-null      float64\n",
      " 14  2010            6 non-null      float64\n",
      " 15  2011            6 non-null      float64\n",
      " 16  2012            6 non-null      float64\n",
      " 17  2013            6 non-null      float64\n",
      " 18  2014            6 non-null      float64\n",
      " 19  2015            6 non-null      float64\n",
      " 20  2016            6 non-null      float64\n",
      " 21  2017            6 non-null      float64\n",
      " 22  2018            6 non-null      float64\n",
      " 23  2019            6 non-null      float64\n",
      " 24  2020            6 non-null      float64\n",
      " 25  Unnamed: 25     0 non-null      float64\n",
      "dtypes: float64(22), object(4)\n",
      "memory usage: 1.3+ KB\n"
     ]
    }
   ],
   "source": [
    "unemployment_path = 'Dataset/unemployment.csv'\n",
    "unemployment_dataset = pd.read_csv(unemployment_path, sep = ';')\n",
    "pd_unemployment = unemployment_dataset.drop_duplicates()\n",
    "pd_unemployment = pd_unemployment[unemployment_dataset['Country Code'].isin(['AUS', 'BRA', 'IND', 'SWE', 'USA', 'ZAF']) ]\n",
    "pd_unemployment.info()"
   ]
  },
  {
   "cell_type": "code",
   "execution_count": 37,
   "id": "7cca0d99",
   "metadata": {},
   "outputs": [
    {
     "data": {
      "text/html": [
       "<div>\n",
       "<style scoped>\n",
       "    .dataframe tbody tr th:only-of-type {\n",
       "        vertical-align: middle;\n",
       "    }\n",
       "\n",
       "    .dataframe tbody tr th {\n",
       "        vertical-align: top;\n",
       "    }\n",
       "\n",
       "    .dataframe thead th {\n",
       "        text-align: right;\n",
       "    }\n",
       "</style>\n",
       "<table border=\"1\" class=\"dataframe\">\n",
       "  <thead>\n",
       "    <tr style=\"text-align: right;\">\n",
       "      <th></th>\n",
       "      <th>Country Name</th>\n",
       "      <th>Country Code</th>\n",
       "      <th>Indicator Name</th>\n",
       "      <th>Indicator Code</th>\n",
       "      <th>2000</th>\n",
       "      <th>2001</th>\n",
       "      <th>2002</th>\n",
       "      <th>2003</th>\n",
       "      <th>2004</th>\n",
       "      <th>2005</th>\n",
       "      <th>...</th>\n",
       "      <th>2012</th>\n",
       "      <th>2013</th>\n",
       "      <th>2014</th>\n",
       "      <th>2015</th>\n",
       "      <th>2016</th>\n",
       "      <th>2017</th>\n",
       "      <th>2018</th>\n",
       "      <th>2019</th>\n",
       "      <th>2020</th>\n",
       "      <th>Unnamed: 25</th>\n",
       "    </tr>\n",
       "  </thead>\n",
       "  <tbody>\n",
       "    <tr>\n",
       "      <th>13</th>\n",
       "      <td>Australia</td>\n",
       "      <td>AUS</td>\n",
       "      <td>Unemployment, total (% of total labor force) (...</td>\n",
       "      <td>SL.UEM.TOTL.ZS</td>\n",
       "      <td>6.280</td>\n",
       "      <td>6.740</td>\n",
       "      <td>6.37</td>\n",
       "      <td>5.930</td>\n",
       "      <td>5.390</td>\n",
       "      <td>5.030</td>\n",
       "      <td>...</td>\n",
       "      <td>5.220</td>\n",
       "      <td>5.660</td>\n",
       "      <td>6.080</td>\n",
       "      <td>6.050</td>\n",
       "      <td>5.710</td>\n",
       "      <td>5.590</td>\n",
       "      <td>5.30</td>\n",
       "      <td>5.16</td>\n",
       "      <td>6.460</td>\n",
       "      <td>NaN</td>\n",
       "    </tr>\n",
       "    <tr>\n",
       "      <th>29</th>\n",
       "      <td>Brazil</td>\n",
       "      <td>BRA</td>\n",
       "      <td>Unemployment, total (% of total labor force) (...</td>\n",
       "      <td>SL.UEM.TOTL.ZS</td>\n",
       "      <td>9.561</td>\n",
       "      <td>9.610</td>\n",
       "      <td>9.37</td>\n",
       "      <td>9.990</td>\n",
       "      <td>9.110</td>\n",
       "      <td>9.570</td>\n",
       "      <td>...</td>\n",
       "      <td>7.190</td>\n",
       "      <td>6.980</td>\n",
       "      <td>6.660</td>\n",
       "      <td>8.430</td>\n",
       "      <td>11.600</td>\n",
       "      <td>12.820</td>\n",
       "      <td>12.33</td>\n",
       "      <td>11.93</td>\n",
       "      <td>13.690</td>\n",
       "      <td>NaN</td>\n",
       "    </tr>\n",
       "    <tr>\n",
       "      <th>109</th>\n",
       "      <td>India</td>\n",
       "      <td>IND</td>\n",
       "      <td>Unemployment, total (% of total labor force) (...</td>\n",
       "      <td>SL.UEM.TOTL.ZS</td>\n",
       "      <td>5.561</td>\n",
       "      <td>5.576</td>\n",
       "      <td>5.53</td>\n",
       "      <td>5.643</td>\n",
       "      <td>5.629</td>\n",
       "      <td>5.613</td>\n",
       "      <td>...</td>\n",
       "      <td>5.414</td>\n",
       "      <td>5.424</td>\n",
       "      <td>5.436</td>\n",
       "      <td>5.435</td>\n",
       "      <td>5.423</td>\n",
       "      <td>5.358</td>\n",
       "      <td>5.33</td>\n",
       "      <td>5.27</td>\n",
       "      <td>7.997</td>\n",
       "      <td>NaN</td>\n",
       "    </tr>\n",
       "    <tr>\n",
       "      <th>223</th>\n",
       "      <td>Sweden</td>\n",
       "      <td>SWE</td>\n",
       "      <td>Unemployment, total (% of total labor force) (...</td>\n",
       "      <td>SL.UEM.TOTL.ZS</td>\n",
       "      <td>5.470</td>\n",
       "      <td>4.730</td>\n",
       "      <td>4.97</td>\n",
       "      <td>5.550</td>\n",
       "      <td>6.690</td>\n",
       "      <td>7.490</td>\n",
       "      <td>...</td>\n",
       "      <td>7.980</td>\n",
       "      <td>8.050</td>\n",
       "      <td>7.950</td>\n",
       "      <td>7.430</td>\n",
       "      <td>6.990</td>\n",
       "      <td>6.720</td>\n",
       "      <td>6.36</td>\n",
       "      <td>6.83</td>\n",
       "      <td>8.290</td>\n",
       "      <td>NaN</td>\n",
       "    </tr>\n",
       "    <tr>\n",
       "      <th>251</th>\n",
       "      <td>United States</td>\n",
       "      <td>USA</td>\n",
       "      <td>Unemployment, total (% of total labor force) (...</td>\n",
       "      <td>SL.UEM.TOTL.ZS</td>\n",
       "      <td>3.990</td>\n",
       "      <td>4.730</td>\n",
       "      <td>5.78</td>\n",
       "      <td>5.990</td>\n",
       "      <td>5.530</td>\n",
       "      <td>5.080</td>\n",
       "      <td>...</td>\n",
       "      <td>8.070</td>\n",
       "      <td>7.370</td>\n",
       "      <td>6.170</td>\n",
       "      <td>5.280</td>\n",
       "      <td>4.870</td>\n",
       "      <td>4.360</td>\n",
       "      <td>3.90</td>\n",
       "      <td>3.67</td>\n",
       "      <td>8.050</td>\n",
       "      <td>NaN</td>\n",
       "    </tr>\n",
       "  </tbody>\n",
       "</table>\n",
       "<p>5 rows × 26 columns</p>\n",
       "</div>"
      ],
      "text/plain": [
       "      Country Name Country Code  \\\n",
       "13       Australia          AUS   \n",
       "29          Brazil          BRA   \n",
       "109          India          IND   \n",
       "223         Sweden          SWE   \n",
       "251  United States          USA   \n",
       "\n",
       "                                        Indicator Name  Indicator Code   2000  \\\n",
       "13   Unemployment, total (% of total labor force) (...  SL.UEM.TOTL.ZS  6.280   \n",
       "29   Unemployment, total (% of total labor force) (...  SL.UEM.TOTL.ZS  9.561   \n",
       "109  Unemployment, total (% of total labor force) (...  SL.UEM.TOTL.ZS  5.561   \n",
       "223  Unemployment, total (% of total labor force) (...  SL.UEM.TOTL.ZS  5.470   \n",
       "251  Unemployment, total (% of total labor force) (...  SL.UEM.TOTL.ZS  3.990   \n",
       "\n",
       "      2001  2002   2003   2004   2005  ...   2012   2013   2014   2015  \\\n",
       "13   6.740  6.37  5.930  5.390  5.030  ...  5.220  5.660  6.080  6.050   \n",
       "29   9.610  9.37  9.990  9.110  9.570  ...  7.190  6.980  6.660  8.430   \n",
       "109  5.576  5.53  5.643  5.629  5.613  ...  5.414  5.424  5.436  5.435   \n",
       "223  4.730  4.97  5.550  6.690  7.490  ...  7.980  8.050  7.950  7.430   \n",
       "251  4.730  5.78  5.990  5.530  5.080  ...  8.070  7.370  6.170  5.280   \n",
       "\n",
       "       2016    2017   2018   2019    2020  Unnamed: 25  \n",
       "13    5.710   5.590   5.30   5.16   6.460          NaN  \n",
       "29   11.600  12.820  12.33  11.93  13.690          NaN  \n",
       "109   5.423   5.358   5.33   5.27   7.997          NaN  \n",
       "223   6.990   6.720   6.36   6.83   8.290          NaN  \n",
       "251   4.870   4.360   3.90   3.67   8.050          NaN  \n",
       "\n",
       "[5 rows x 26 columns]"
      ]
     },
     "execution_count": 37,
     "metadata": {},
     "output_type": "execute_result"
    }
   ],
   "source": [
    "pd_unemployment.head()"
   ]
  },
  {
   "cell_type": "code",
   "execution_count": 43,
   "id": "2632898b",
   "metadata": {},
   "outputs": [
    {
     "data": {
      "image/png": "[encoded data removed]",
      "text/plain": [
       "<Figure size 432x288 with 1 Axes>"
      ]
     },
     "metadata": {
      "needs_background": "light"
     },
     "output_type": "display_data"
    }
   ],
   "source": [
    "ax = pd_unemployment[['2000', '2001', '2002', '2003', '2004', '2005', '2006', '2007', '2008', '2009', '2010',\n",
    "                      '2011', '2012', '2013', '2014', '2015', '2016', '2017', '2018', '2019', '2020']].plot(kind='box', title='boxplot')\n",
    "plt.show()"
   ]
  },
  {
   "cell_type": "markdown",
   "id": "33020324",
   "metadata": {},
   "source": [
    "## Dataset prison"
   ]
  },
  {
   "cell_type": "code",
   "execution_count": 60,
   "id": "64501707",
   "metadata": {
    "scrolled": true
   },
   "outputs": [
    {
     "name": "stdout",
     "output_type": "stream",
     "text": [
      "<class 'pandas.core.frame.DataFrame'>\n",
      "Int64Index: 103 entries, 39388 to 53529\n",
      "Data columns (total 10 columns):\n",
      " #   Column     Non-Null Count  Dtype  \n",
      "---  ------     --------------  -----  \n",
      " 0   Iso3_code  103 non-null    object \n",
      " 1   Country    103 non-null    object \n",
      " 2   Region     103 non-null    object \n",
      " 3   Subregion  103 non-null    object \n",
      " 4   Indicator  103 non-null    object \n",
      " 5   Dimension  103 non-null    object \n",
      " 6   Category   103 non-null    object \n",
      " 7   Year       103 non-null    float64\n",
      " 8   Unit       103 non-null    object \n",
      " 9   VALUE      103 non-null    float64\n",
      "dtypes: float64(2), object(8)\n",
      "memory usage: 8.9+ KB\n"
     ]
    }
   ],
   "source": [
    "prison_datapath = \"dataset_clean/data_cts_prisons_and_prisoners.xlsx\"\n",
    "prison_dataset = pd.read_excel(prison_datapath)\n",
    "#prison_dataset.columns = homicide_dataset.iloc[1]\n",
    "#prison_dataset = prison_dataset[2:]\n",
    "prison_dataset = prison_dataset.drop_duplicates()\n",
    "prison_dataset = prison_dataset[(prison_dataset.Year >= 2000) & (prison_dataset.Year <= 2020)]\n",
    "prison_dataset = prison_dataset.loc[prison_dataset['Unit'] == 'Rate per 100,000 population']\n",
    "prison_dataset = prison_dataset.loc[prison_dataset['Indicator'] == 'Persons held']\n",
    "prison_dataset = prison_dataset.loc[prison_dataset['Dimension'] == 'Total']\n",
    "prison_dataset = prison_dataset.loc[prison_dataset['Category'] == 'Total']\n",
    "prison_dataset = prison_dataset[prison_dataset['Iso3_code'].isin(['AUS', 'BRA', 'IND', 'SWE', 'USA', 'ZAF']) ]\n",
    "prison_dataset.info()"
   ]
  },
  {
   "cell_type": "code",
   "execution_count": 61,
   "id": "987695cc",
   "metadata": {},
   "outputs": [
    {
     "data": {
      "text/html": [
       "<div>\n",
       "<style scoped>\n",
       "    .dataframe tbody tr th:only-of-type {\n",
       "        vertical-align: middle;\n",
       "    }\n",
       "\n",
       "    .dataframe tbody tr th {\n",
       "        vertical-align: top;\n",
       "    }\n",
       "\n",
       "    .dataframe thead th {\n",
       "        text-align: right;\n",
       "    }\n",
       "</style>\n",
       "<table border=\"1\" class=\"dataframe\">\n",
       "  <thead>\n",
       "    <tr style=\"text-align: right;\">\n",
       "      <th></th>\n",
       "      <th>Iso3_code</th>\n",
       "      <th>Country</th>\n",
       "      <th>Region</th>\n",
       "      <th>Subregion</th>\n",
       "      <th>Indicator</th>\n",
       "      <th>Dimension</th>\n",
       "      <th>Category</th>\n",
       "      <th>Year</th>\n",
       "      <th>Unit</th>\n",
       "      <th>VALUE</th>\n",
       "    </tr>\n",
       "  </thead>\n",
       "  <tbody>\n",
       "    <tr>\n",
       "      <th>39388</th>\n",
       "      <td>AUS</td>\n",
       "      <td>Australia</td>\n",
       "      <td>Oceania</td>\n",
       "      <td>Australia and New Zealand</td>\n",
       "      <td>Persons held</td>\n",
       "      <td>Total</td>\n",
       "      <td>Total</td>\n",
       "      <td>2003.0</td>\n",
       "      <td>Rate per 100,000 population</td>\n",
       "      <td>120.030597</td>\n",
       "    </tr>\n",
       "    <tr>\n",
       "      <th>39392</th>\n",
       "      <td>AUS</td>\n",
       "      <td>Australia</td>\n",
       "      <td>Oceania</td>\n",
       "      <td>Australia and New Zealand</td>\n",
       "      <td>Persons held</td>\n",
       "      <td>Total</td>\n",
       "      <td>Total</td>\n",
       "      <td>2004.0</td>\n",
       "      <td>Rate per 100,000 population</td>\n",
       "      <td>121.586623</td>\n",
       "    </tr>\n",
       "    <tr>\n",
       "      <th>39396</th>\n",
       "      <td>AUS</td>\n",
       "      <td>Australia</td>\n",
       "      <td>Oceania</td>\n",
       "      <td>Australia and New Zealand</td>\n",
       "      <td>Persons held</td>\n",
       "      <td>Total</td>\n",
       "      <td>Total</td>\n",
       "      <td>2007.0</td>\n",
       "      <td>Rate per 100,000 population</td>\n",
       "      <td>133.790144</td>\n",
       "    </tr>\n",
       "    <tr>\n",
       "      <th>39400</th>\n",
       "      <td>AUS</td>\n",
       "      <td>Australia</td>\n",
       "      <td>Oceania</td>\n",
       "      <td>Australia and New Zealand</td>\n",
       "      <td>Persons held</td>\n",
       "      <td>Total</td>\n",
       "      <td>Total</td>\n",
       "      <td>2008.0</td>\n",
       "      <td>Rate per 100,000 population</td>\n",
       "      <td>133.103366</td>\n",
       "    </tr>\n",
       "    <tr>\n",
       "      <th>39404</th>\n",
       "      <td>AUS</td>\n",
       "      <td>Australia</td>\n",
       "      <td>Oceania</td>\n",
       "      <td>Australia and New Zealand</td>\n",
       "      <td>Persons held</td>\n",
       "      <td>Total</td>\n",
       "      <td>Total</td>\n",
       "      <td>2009.0</td>\n",
       "      <td>Rate per 100,000 population</td>\n",
       "      <td>138.532504</td>\n",
       "    </tr>\n",
       "  </tbody>\n",
       "</table>\n",
       "</div>"
      ],
      "text/plain": [
       "      Iso3_code    Country   Region                  Subregion     Indicator  \\\n",
       "39388       AUS  Australia  Oceania  Australia and New Zealand  Persons held   \n",
       "39392       AUS  Australia  Oceania  Australia and New Zealand  Persons held   \n",
       "39396       AUS  Australia  Oceania  Australia and New Zealand  Persons held   \n",
       "39400       AUS  Australia  Oceania  Australia and New Zealand  Persons held   \n",
       "39404       AUS  Australia  Oceania  Australia and New Zealand  Persons held   \n",
       "\n",
       "      Dimension Category    Year                         Unit       VALUE  \n",
       "39388     Total    Total  2003.0  Rate per 100,000 population  120.030597  \n",
       "39392     Total    Total  2004.0  Rate per 100,000 population  121.586623  \n",
       "39396     Total    Total  2007.0  Rate per 100,000 population  133.790144  \n",
       "39400     Total    Total  2008.0  Rate per 100,000 population  133.103366  \n",
       "39404     Total    Total  2009.0  Rate per 100,000 population  138.532504  "
      ]
     },
     "execution_count": 61,
     "metadata": {},
     "output_type": "execute_result"
    }
   ],
   "source": [
    "prison_dataset.head()"
   ]
  },
  {
   "cell_type": "code",
   "execution_count": 62,
   "id": "5cbdc5e2",
   "metadata": {},
   "outputs": [
    {
     "name": "stdout",
     "output_type": "stream",
     "text": [
      "16\n",
      "18\n",
      "18\n",
      "18\n",
      "18\n",
      "15\n"
     ]
    }
   ],
   "source": [
    "print(sum(prison_dataset['Iso3_code'] == 'AUS'))\n",
    "print(sum(prison_dataset['Iso3_code'] == 'BRA'))\n",
    "print(sum(prison_dataset['Iso3_code'] == 'IND'))\n",
    "print(sum(prison_dataset['Iso3_code'] == 'SWE'))\n",
    "print(sum(prison_dataset['Iso3_code'] == 'USA'))\n",
    "print(sum(prison_dataset['Iso3_code'] == 'ZAF'))"
   ]
  },
  {
   "cell_type": "code",
   "execution_count": 63,
   "id": "a260b26d",
   "metadata": {},
   "outputs": [
    {
     "data": {
      "image/png": "[encoded data removed]",
      "text/plain": [
       "<Figure size 432x288 with 1 Axes>"
      ]
     },
     "metadata": {
      "needs_background": "light"
     },
     "output_type": "display_data"
    }
   ],
   "source": [
    "plt.boxplot(prison_dataset.VALUE)\n",
    "plt.title(\"Box plot of VALUE\")\n",
    "plt.show()"
   ]
  },
  {
   "cell_type": "markdown",
   "id": "a32f14d5",
   "metadata": {},
   "source": [
    "## Dataset education"
   ]
  },
  {
   "cell_type": "code",
   "execution_count": 68,
   "id": "b20a171f",
   "metadata": {},
   "outputs": [
    {
     "name": "stdout",
     "output_type": "stream",
     "text": [
      "<class 'pandas.core.frame.DataFrame'>\n",
      "Int64Index: 92 entries, 0 to 780\n",
      "Data columns (total 8 columns):\n",
      " #   Column      Non-Null Count  Dtype  \n",
      "---  ------      --------------  -----  \n",
      " 0   LOCATION    92 non-null     object \n",
      " 1   INDICATOR   92 non-null     object \n",
      " 2   SUBJECT     92 non-null     object \n",
      " 3   MEASURE     92 non-null     object \n",
      " 4   FREQUENCY   92 non-null     object \n",
      " 5   TIME        92 non-null     int64  \n",
      " 6   Value       92 non-null     float64\n",
      " 7   Flag Codes  0 non-null      float64\n",
      "dtypes: float64(2), int64(1), object(5)\n",
      "memory usage: 6.5+ KB\n"
     ]
    }
   ],
   "source": [
    "tertiary_path = 'Dataset/education_tertiary_25-64_brut.csv'\n",
    "tertiary_dataset = pd.read_csv(tertiary_path, sep = ',')\n",
    "pd_tertiary = tertiary_dataset[tertiary_dataset['LOCATION'].isin(['AUS', 'BRA', 'IND', 'SWE', 'USA', 'ZAF'])]\n",
    "pd_tertiary = pd_tertiary.drop_duplicates()\n",
    "pd_tertiary.info()"
   ]
  },
  {
   "cell_type": "code",
   "execution_count": 69,
   "id": "8046fdc1",
   "metadata": {},
   "outputs": [
    {
     "data": {
      "text/html": [
       "<div>\n",
       "<style scoped>\n",
       "    .dataframe tbody tr th:only-of-type {\n",
       "        vertical-align: middle;\n",
       "    }\n",
       "\n",
       "    .dataframe tbody tr th {\n",
       "        vertical-align: top;\n",
       "    }\n",
       "\n",
       "    .dataframe thead th {\n",
       "        text-align: right;\n",
       "    }\n",
       "</style>\n",
       "<table border=\"1\" class=\"dataframe\">\n",
       "  <thead>\n",
       "    <tr style=\"text-align: right;\">\n",
       "      <th></th>\n",
       "      <th>LOCATION</th>\n",
       "      <th>INDICATOR</th>\n",
       "      <th>SUBJECT</th>\n",
       "      <th>MEASURE</th>\n",
       "      <th>FREQUENCY</th>\n",
       "      <th>TIME</th>\n",
       "      <th>Value</th>\n",
       "      <th>Flag Codes</th>\n",
       "    </tr>\n",
       "  </thead>\n",
       "  <tbody>\n",
       "    <tr>\n",
       "      <th>0</th>\n",
       "      <td>AUS</td>\n",
       "      <td>EDUADULT</td>\n",
       "      <td>TRY</td>\n",
       "      <td>PC_25_64</td>\n",
       "      <td>A</td>\n",
       "      <td>2000</td>\n",
       "      <td>27.475746</td>\n",
       "      <td>NaN</td>\n",
       "    </tr>\n",
       "    <tr>\n",
       "      <th>1</th>\n",
       "      <td>AUS</td>\n",
       "      <td>EDUADULT</td>\n",
       "      <td>TRY</td>\n",
       "      <td>PC_25_64</td>\n",
       "      <td>A</td>\n",
       "      <td>2001</td>\n",
       "      <td>28.977322</td>\n",
       "      <td>NaN</td>\n",
       "    </tr>\n",
       "    <tr>\n",
       "      <th>2</th>\n",
       "      <td>AUS</td>\n",
       "      <td>EDUADULT</td>\n",
       "      <td>TRY</td>\n",
       "      <td>PC_25_64</td>\n",
       "      <td>A</td>\n",
       "      <td>2002</td>\n",
       "      <td>30.759785</td>\n",
       "      <td>NaN</td>\n",
       "    </tr>\n",
       "    <tr>\n",
       "      <th>3</th>\n",
       "      <td>AUS</td>\n",
       "      <td>EDUADULT</td>\n",
       "      <td>TRY</td>\n",
       "      <td>PC_25_64</td>\n",
       "      <td>A</td>\n",
       "      <td>2003</td>\n",
       "      <td>31.314152</td>\n",
       "      <td>NaN</td>\n",
       "    </tr>\n",
       "    <tr>\n",
       "      <th>4</th>\n",
       "      <td>AUS</td>\n",
       "      <td>EDUADULT</td>\n",
       "      <td>TRY</td>\n",
       "      <td>PC_25_64</td>\n",
       "      <td>A</td>\n",
       "      <td>2004</td>\n",
       "      <td>30.823080</td>\n",
       "      <td>NaN</td>\n",
       "    </tr>\n",
       "  </tbody>\n",
       "</table>\n",
       "</div>"
      ],
      "text/plain": [
       "  LOCATION INDICATOR SUBJECT   MEASURE FREQUENCY  TIME      Value  Flag Codes\n",
       "0      AUS  EDUADULT     TRY  PC_25_64         A  2000  27.475746         NaN\n",
       "1      AUS  EDUADULT     TRY  PC_25_64         A  2001  28.977322         NaN\n",
       "2      AUS  EDUADULT     TRY  PC_25_64         A  2002  30.759785         NaN\n",
       "3      AUS  EDUADULT     TRY  PC_25_64         A  2003  31.314152         NaN\n",
       "4      AUS  EDUADULT     TRY  PC_25_64         A  2004  30.823080         NaN"
      ]
     },
     "execution_count": 69,
     "metadata": {},
     "output_type": "execute_result"
    }
   ],
   "source": [
    "pd_tertiary.head()"
   ]
  },
  {
   "cell_type": "code",
   "execution_count": 72,
   "id": "d6e6bd21",
   "metadata": {},
   "outputs": [
    {
     "name": "stdout",
     "output_type": "stream",
     "text": [
      "21\n",
      "13\n",
      "5\n",
      "21\n",
      "21\n",
      "11\n"
     ]
    }
   ],
   "source": [
    "print(sum(pd_tertiary['LOCATION'] == 'AUS'))\n",
    "print(sum(pd_tertiary['LOCATION'] == 'BRA'))\n",
    "print(sum(pd_tertiary['LOCATION'] == 'IND'))\n",
    "print(sum(pd_tertiary['LOCATION'] == 'SWE'))\n",
    "print(sum(pd_tertiary['LOCATION'] == 'USA'))\n",
    "print(sum(pd_tertiary['LOCATION'] == 'ZAF'))"
   ]
  },
  {
   "cell_type": "code",
   "execution_count": 74,
   "id": "d95ae226",
   "metadata": {},
   "outputs": [
    {
     "data": {
      "image/png": "[encoded data removed]",
      "text/plain": [
       "<Figure size 432x288 with 1 Axes>"
      ]
     },
     "metadata": {
      "needs_background": "light"
     },
     "output_type": "display_data"
    }
   ],
   "source": [
    "plt.boxplot(pd_tertiary.Value)\n",
    "plt.title(\"Box plot of VALUE\")\n",
    "plt.show()"
   ]
  },
  {
   "cell_type": "code",
   "execution_count": 75,
   "id": "c4665840",
   "metadata": {},
   "outputs": [
    {
     "name": "stdout",
     "output_type": "stream",
     "text": [
      "<class 'pandas.core.frame.DataFrame'>\n",
      "Int64Index: 92 entries, 0 to 773\n",
      "Data columns (total 8 columns):\n",
      " #   Column      Non-Null Count  Dtype  \n",
      "---  ------      --------------  -----  \n",
      " 0   LOCATION    92 non-null     object \n",
      " 1   INDICATOR   92 non-null     object \n",
      " 2   SUBJECT     92 non-null     object \n",
      " 3   MEASURE     92 non-null     object \n",
      " 4   FREQUENCY   92 non-null     object \n",
      " 5   TIME        92 non-null     int64  \n",
      " 6   Value       92 non-null     float64\n",
      " 7   Flag Codes  0 non-null      float64\n",
      "dtypes: float64(2), int64(1), object(5)\n",
      "memory usage: 6.5+ KB\n"
     ]
    }
   ],
   "source": [
    "below_path = 'Dataset/education_below-upper-secondary_25-64_brut.csv'\n",
    "below_datatset = pd.read_csv(below_path, sep = ',')\n",
    "pd_below = below_datatset[below_datatset['LOCATION'].isin(['AUS', 'BRA', 'IND', 'SWE', 'USA', 'ZAF']) ]\n",
    "pd_below = pd_below.drop_duplicates()\n",
    "pd_below.info()"
   ]
  },
  {
   "cell_type": "code",
   "execution_count": 76,
   "id": "0290b8a1",
   "metadata": {},
   "outputs": [
    {
     "data": {
      "text/html": [
       "<div>\n",
       "<style scoped>\n",
       "    .dataframe tbody tr th:only-of-type {\n",
       "        vertical-align: middle;\n",
       "    }\n",
       "\n",
       "    .dataframe tbody tr th {\n",
       "        vertical-align: top;\n",
       "    }\n",
       "\n",
       "    .dataframe thead th {\n",
       "        text-align: right;\n",
       "    }\n",
       "</style>\n",
       "<table border=\"1\" class=\"dataframe\">\n",
       "  <thead>\n",
       "    <tr style=\"text-align: right;\">\n",
       "      <th></th>\n",
       "      <th>LOCATION</th>\n",
       "      <th>INDICATOR</th>\n",
       "      <th>SUBJECT</th>\n",
       "      <th>MEASURE</th>\n",
       "      <th>FREQUENCY</th>\n",
       "      <th>TIME</th>\n",
       "      <th>Value</th>\n",
       "      <th>Flag Codes</th>\n",
       "    </tr>\n",
       "  </thead>\n",
       "  <tbody>\n",
       "    <tr>\n",
       "      <th>0</th>\n",
       "      <td>AUS</td>\n",
       "      <td>EDUADULT</td>\n",
       "      <td>BUPPSRY</td>\n",
       "      <td>PC_25_64</td>\n",
       "      <td>A</td>\n",
       "      <td>2000</td>\n",
       "      <td>41.212311</td>\n",
       "      <td>NaN</td>\n",
       "    </tr>\n",
       "    <tr>\n",
       "      <th>1</th>\n",
       "      <td>AUS</td>\n",
       "      <td>EDUADULT</td>\n",
       "      <td>BUPPSRY</td>\n",
       "      <td>PC_25_64</td>\n",
       "      <td>A</td>\n",
       "      <td>2001</td>\n",
       "      <td>41.076141</td>\n",
       "      <td>NaN</td>\n",
       "    </tr>\n",
       "    <tr>\n",
       "      <th>2</th>\n",
       "      <td>AUS</td>\n",
       "      <td>EDUADULT</td>\n",
       "      <td>BUPPSRY</td>\n",
       "      <td>PC_25_64</td>\n",
       "      <td>A</td>\n",
       "      <td>2002</td>\n",
       "      <td>39.050316</td>\n",
       "      <td>NaN</td>\n",
       "    </tr>\n",
       "    <tr>\n",
       "      <th>3</th>\n",
       "      <td>AUS</td>\n",
       "      <td>EDUADULT</td>\n",
       "      <td>BUPPSRY</td>\n",
       "      <td>PC_25_64</td>\n",
       "      <td>A</td>\n",
       "      <td>2003</td>\n",
       "      <td>37.519817</td>\n",
       "      <td>NaN</td>\n",
       "    </tr>\n",
       "    <tr>\n",
       "      <th>4</th>\n",
       "      <td>AUS</td>\n",
       "      <td>EDUADULT</td>\n",
       "      <td>BUPPSRY</td>\n",
       "      <td>PC_25_64</td>\n",
       "      <td>A</td>\n",
       "      <td>2004</td>\n",
       "      <td>35.879036</td>\n",
       "      <td>NaN</td>\n",
       "    </tr>\n",
       "  </tbody>\n",
       "</table>\n",
       "</div>"
      ],
      "text/plain": [
       "  LOCATION INDICATOR  SUBJECT   MEASURE FREQUENCY  TIME      Value  Flag Codes\n",
       "0      AUS  EDUADULT  BUPPSRY  PC_25_64         A  2000  41.212311         NaN\n",
       "1      AUS  EDUADULT  BUPPSRY  PC_25_64         A  2001  41.076141         NaN\n",
       "2      AUS  EDUADULT  BUPPSRY  PC_25_64         A  2002  39.050316         NaN\n",
       "3      AUS  EDUADULT  BUPPSRY  PC_25_64         A  2003  37.519817         NaN\n",
       "4      AUS  EDUADULT  BUPPSRY  PC_25_64         A  2004  35.879036         NaN"
      ]
     },
     "execution_count": 76,
     "metadata": {},
     "output_type": "execute_result"
    }
   ],
   "source": [
    "pd_below.head()"
   ]
  },
  {
   "cell_type": "code",
   "execution_count": 77,
   "id": "f3c975c2",
   "metadata": {},
   "outputs": [
    {
     "name": "stdout",
     "output_type": "stream",
     "text": [
      "21\n",
      "13\n",
      "5\n",
      "21\n",
      "21\n",
      "11\n"
     ]
    }
   ],
   "source": [
    "print(sum(pd_below['LOCATION'] == 'AUS'))\n",
    "print(sum(pd_below['LOCATION'] == 'BRA'))\n",
    "print(sum(pd_below['LOCATION'] == 'IND'))\n",
    "print(sum(pd_below['LOCATION'] == 'SWE'))\n",
    "print(sum(pd_below['LOCATION'] == 'USA'))\n",
    "print(sum(pd_below['LOCATION'] == 'ZAF'))"
   ]
  },
  {
   "cell_type": "code",
   "execution_count": 78,
   "id": "a9873482",
   "metadata": {},
   "outputs": [
    {
     "data": {
      "image/png": "[encoded data removed]",
      "text/plain": [
       "<Figure size 432x288 with 1 Axes>"
      ]
     },
     "metadata": {
      "needs_background": "light"
     },
     "output_type": "display_data"
    }
   ],
   "source": [
    "plt.boxplot(pd_below.Value)\n",
    "plt.title(\"Box plot of VALUE\")\n",
    "plt.show()"
   ]
  },
  {
   "cell_type": "markdown",
   "id": "508adceb",
   "metadata": {},
   "source": [
    "## Dataset bonheur"
   ]
  },
  {
   "cell_type": "code",
   "execution_count": 83,
   "id": "9cefd056",
   "metadata": {},
   "outputs": [
    {
     "name": "stdout",
     "output_type": "stream",
     "text": [
      "<class 'pandas.core.frame.DataFrame'>\n",
      "Int64Index: 101 entries, 76 to 2131\n",
      "Data columns (total 4 columns):\n",
      " #   Column                                                             Non-Null Count  Dtype  \n",
      "---  ------                                                             --------------  -----  \n",
      " 0   Entity                                                             101 non-null    object \n",
      " 1   Code                                                               101 non-null    object \n",
      " 2   Year                                                               101 non-null    int64  \n",
      " 3   Life satisfaction in Cantril Ladder (World Happiness Report 2022)  101 non-null    float64\n",
      "dtypes: float64(1), int64(1), object(2)\n",
      "memory usage: 3.9+ KB\n"
     ]
    }
   ],
   "source": [
    "happiness_path = 'dataset_clean/happiness-cantril-ladder.csv'\n",
    "happiness_dataset = pd.read_csv(happiness_path, sep = ',')\n",
    "pd_happiness = happiness_dataset[happiness_dataset['Code'].isin(['AUS', 'BRA', 'IND', 'SWE', 'USA', 'ZAF']) ]\n",
    "pd_happiness = pd_happiness[(pd_happiness.Year >= 2000) & (pd_happiness.Year <= 2020)]\n",
    "pd_happiness = pd_happiness.drop_duplicates()\n",
    "pd_happiness.info()"
   ]
  },
  {
   "cell_type": "code",
   "execution_count": 82,
   "id": "7305f6f6",
   "metadata": {},
   "outputs": [
    {
     "data": {
      "text/html": [
       "<div>\n",
       "<style scoped>\n",
       "    .dataframe tbody tr th:only-of-type {\n",
       "        vertical-align: middle;\n",
       "    }\n",
       "\n",
       "    .dataframe tbody tr th {\n",
       "        vertical-align: top;\n",
       "    }\n",
       "\n",
       "    .dataframe thead th {\n",
       "        text-align: right;\n",
       "    }\n",
       "</style>\n",
       "<table border=\"1\" class=\"dataframe\">\n",
       "  <thead>\n",
       "    <tr style=\"text-align: right;\">\n",
       "      <th></th>\n",
       "      <th>Entity</th>\n",
       "      <th>Code</th>\n",
       "      <th>Year</th>\n",
       "      <th>Life satisfaction in Cantril Ladder (World Happiness Report 2022)</th>\n",
       "    </tr>\n",
       "  </thead>\n",
       "  <tbody>\n",
       "    <tr>\n",
       "      <th>76</th>\n",
       "      <td>Australia</td>\n",
       "      <td>AUS</td>\n",
       "      <td>2003</td>\n",
       "      <td>7.340688</td>\n",
       "    </tr>\n",
       "    <tr>\n",
       "      <th>77</th>\n",
       "      <td>Australia</td>\n",
       "      <td>AUS</td>\n",
       "      <td>2005</td>\n",
       "      <td>7.285391</td>\n",
       "    </tr>\n",
       "    <tr>\n",
       "      <th>78</th>\n",
       "      <td>Australia</td>\n",
       "      <td>AUS</td>\n",
       "      <td>2006</td>\n",
       "      <td>7.253757</td>\n",
       "    </tr>\n",
       "    <tr>\n",
       "      <th>79</th>\n",
       "      <td>Australia</td>\n",
       "      <td>AUS</td>\n",
       "      <td>2008</td>\n",
       "      <td>7.450047</td>\n",
       "    </tr>\n",
       "    <tr>\n",
       "      <th>80</th>\n",
       "      <td>Australia</td>\n",
       "      <td>AUS</td>\n",
       "      <td>2009</td>\n",
       "      <td>7.405616</td>\n",
       "    </tr>\n",
       "  </tbody>\n",
       "</table>\n",
       "</div>"
      ],
      "text/plain": [
       "       Entity Code  Year  \\\n",
       "76  Australia  AUS  2003   \n",
       "77  Australia  AUS  2005   \n",
       "78  Australia  AUS  2006   \n",
       "79  Australia  AUS  2008   \n",
       "80  Australia  AUS  2009   \n",
       "\n",
       "    Life satisfaction in Cantril Ladder (World Happiness Report 2022)  \n",
       "76                                           7.340688                  \n",
       "77                                           7.285391                  \n",
       "78                                           7.253757                  \n",
       "79                                           7.450047                  \n",
       "80                                           7.405616                  "
      ]
     },
     "execution_count": 82,
     "metadata": {},
     "output_type": "execute_result"
    }
   ],
   "source": [
    "pd_happiness.head()"
   ]
  },
  {
   "cell_type": "code",
   "execution_count": 85,
   "id": "014313d3",
   "metadata": {},
   "outputs": [
    {
     "name": "stdout",
     "output_type": "stream",
     "text": [
      "16\n",
      "17\n",
      "17\n",
      "17\n",
      "17\n",
      "17\n"
     ]
    }
   ],
   "source": [
    "print(sum(pd_happiness['Code'] == 'AUS'))\n",
    "print(sum(pd_happiness['Code'] == 'BRA'))\n",
    "print(sum(pd_happiness['Code'] == 'IND'))\n",
    "print(sum(pd_happiness['Code'] == 'SWE'))\n",
    "print(sum(pd_happiness['Code'] == 'USA'))\n",
    "print(sum(pd_happiness['Code'] == 'ZAF'))"
   ]
  },
  {
   "cell_type": "code",
   "execution_count": 88,
   "id": "34b486ad",
   "metadata": {},
   "outputs": [
    {
     "data": {
      "image/png": "[encoded data removed]",
      "text/plain": [
       "<Figure size 432x288 with 1 Axes>"
      ]
     },
     "metadata": {
      "needs_background": "light"
     },
     "output_type": "display_data"
    }
   ],
   "source": [
    "plt.boxplot(pd_happiness['Life satisfaction in Cantril Ladder (World Happiness Report 2022)'])\n",
    "plt.title(\"Box plot of VALUE\")\n",
    "plt.show()"
   ]
  }
 ],
 "metadata": {
  "kernelspec": {
   "display_name": "Python 3 (ipykernel)",
   "language": "python",
   "name": "python3"
  },
  "language_info": {
   "codemirror_mode": {
    "name": "ipython",
    "version": 3
   },
   "file_extension": ".py",
   "mimetype": "text/x-python",
   "name": "python",
   "nbconvert_exporter": "python",
   "pygments_lexer": "ipython3",
   "version": "3.9.7"
  }
 },
 "nbformat": 4,
 "nbformat_minor": 5
}
